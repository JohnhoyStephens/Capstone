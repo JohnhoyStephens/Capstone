version https://git-lfs.github.com/spec/v1
oid sha256:f30f920765a5eb6583a3a7cd87859e332f224ab5a12bbbd03dfc11f6eada6478
size 820517
