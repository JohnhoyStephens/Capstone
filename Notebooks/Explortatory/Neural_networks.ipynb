{
 "cells": [
  {
   "cell_type": "markdown",
   "metadata": {},
   "source": [
    "# Notebook made to test the viability of Neural Network model."
   ]
  },
  {
   "cell_type": "code",
   "execution_count": 1,
   "metadata": {},
   "outputs": [
    {
     "name": "stderr",
     "output_type": "stream",
     "text": [
      "Using TensorFlow backend.\n"
     ]
    }
   ],
   "source": [
    "import pandas as pd\n",
    "import numpy as np\n",
    "from keras.layers import Dense\n",
    "from keras.models import Sequential\n",
    "from sklearn.preprocessing import StandardScaler,MinMaxScaler\n",
    "from tensorflow.keras import regularizers\n",
    "from tensorflow.keras import layers\n",
    "from tensorflow.keras.callbacks import EarlyStopping \n",
    "import tensorflow as tf\n",
    "import matplotlib.pyplot as plt\n",
    "import seaborn as sns\n",
    "from sklearn.model_selection import train_test_split\n",
    "from sklearn.metrics import confusion_matrix, accuracy_score,recall_score,classification_report"
   ]
  },
  {
   "cell_type": "code",
   "execution_count": 2,
   "metadata": {},
   "outputs": [],
   "source": [
    "df=pd.read_csv(\"../../Data/Imputed.csv\")"
   ]
  },
  {
   "cell_type": "code",
   "execution_count": 3,
   "metadata": {},
   "outputs": [
    {
     "data": {
      "text/html": [
       "<div>\n",
       "<style scoped>\n",
       "    .dataframe tbody tr th:only-of-type {\n",
       "        vertical-align: middle;\n",
       "    }\n",
       "\n",
       "    .dataframe tbody tr th {\n",
       "        vertical-align: top;\n",
       "    }\n",
       "\n",
       "    .dataframe thead th {\n",
       "        text-align: right;\n",
       "    }\n",
       "</style>\n",
       "<table border=\"1\" class=\"dataframe\">\n",
       "  <thead>\n",
       "    <tr style=\"text-align: right;\">\n",
       "      <th></th>\n",
       "      <th>HINCP_x</th>\n",
       "      <th>SMOCP</th>\n",
       "      <th>NP</th>\n",
       "      <th>BDSP</th>\n",
       "      <th>INSP</th>\n",
       "      <th>RMSP</th>\n",
       "      <th>VALP</th>\n",
       "      <th>TAXAMT</th>\n",
       "      <th>ACR_&lt;1.0&gt;</th>\n",
       "      <th>ACR_&lt;2.0&gt;</th>\n",
       "      <th>...</th>\n",
       "      <th>YBL_&lt;13.0&gt;</th>\n",
       "      <th>YBL_&lt;14.0&gt;</th>\n",
       "      <th>YBL_&lt;15.0&gt;</th>\n",
       "      <th>YBL_&lt;16.0&gt;</th>\n",
       "      <th>YBL_&lt;17.0&gt;</th>\n",
       "      <th>YBL_&lt;18.0&gt;</th>\n",
       "      <th>YBL_&lt;19.0&gt;</th>\n",
       "      <th>YBL_&lt;20.0&gt;</th>\n",
       "      <th>YBL_&lt;21.0&gt;</th>\n",
       "      <th>YBL_&lt;22.0&gt;</th>\n",
       "    </tr>\n",
       "  </thead>\n",
       "  <tbody>\n",
       "    <tr>\n",
       "      <th>0</th>\n",
       "      <td>47900.0</td>\n",
       "      <td>1042.0</td>\n",
       "      <td>4</td>\n",
       "      <td>3.0</td>\n",
       "      <td>890.0</td>\n",
       "      <td>6.0</td>\n",
       "      <td>165000.0</td>\n",
       "      <td>3650.0</td>\n",
       "      <td>1.0</td>\n",
       "      <td>0.0</td>\n",
       "      <td>...</td>\n",
       "      <td>0.0</td>\n",
       "      <td>0.0</td>\n",
       "      <td>0.0</td>\n",
       "      <td>0.0</td>\n",
       "      <td>0.0</td>\n",
       "      <td>0.0</td>\n",
       "      <td>0.0</td>\n",
       "      <td>0.0</td>\n",
       "      <td>0.0</td>\n",
       "      <td>0.0</td>\n",
       "    </tr>\n",
       "    <tr>\n",
       "      <th>1</th>\n",
       "      <td>36100.0</td>\n",
       "      <td>691.0</td>\n",
       "      <td>2</td>\n",
       "      <td>3.0</td>\n",
       "      <td>600.0</td>\n",
       "      <td>6.0</td>\n",
       "      <td>35000.0</td>\n",
       "      <td>525.0</td>\n",
       "      <td>1.0</td>\n",
       "      <td>0.0</td>\n",
       "      <td>...</td>\n",
       "      <td>0.0</td>\n",
       "      <td>0.0</td>\n",
       "      <td>0.0</td>\n",
       "      <td>0.0</td>\n",
       "      <td>0.0</td>\n",
       "      <td>0.0</td>\n",
       "      <td>0.0</td>\n",
       "      <td>0.0</td>\n",
       "      <td>0.0</td>\n",
       "      <td>0.0</td>\n",
       "    </tr>\n",
       "    <tr>\n",
       "      <th>2</th>\n",
       "      <td>100000.0</td>\n",
       "      <td>1042.0</td>\n",
       "      <td>1</td>\n",
       "      <td>0.0</td>\n",
       "      <td>890.0</td>\n",
       "      <td>1.0</td>\n",
       "      <td>165000.0</td>\n",
       "      <td>3650.0</td>\n",
       "      <td>1.0</td>\n",
       "      <td>0.0</td>\n",
       "      <td>...</td>\n",
       "      <td>0.0</td>\n",
       "      <td>0.0</td>\n",
       "      <td>0.0</td>\n",
       "      <td>0.0</td>\n",
       "      <td>0.0</td>\n",
       "      <td>0.0</td>\n",
       "      <td>0.0</td>\n",
       "      <td>0.0</td>\n",
       "      <td>0.0</td>\n",
       "      <td>0.0</td>\n",
       "    </tr>\n",
       "    <tr>\n",
       "      <th>3</th>\n",
       "      <td>45000.0</td>\n",
       "      <td>1042.0</td>\n",
       "      <td>2</td>\n",
       "      <td>2.0</td>\n",
       "      <td>890.0</td>\n",
       "      <td>5.0</td>\n",
       "      <td>165000.0</td>\n",
       "      <td>3650.0</td>\n",
       "      <td>1.0</td>\n",
       "      <td>0.0</td>\n",
       "      <td>...</td>\n",
       "      <td>0.0</td>\n",
       "      <td>0.0</td>\n",
       "      <td>0.0</td>\n",
       "      <td>0.0</td>\n",
       "      <td>0.0</td>\n",
       "      <td>0.0</td>\n",
       "      <td>0.0</td>\n",
       "      <td>0.0</td>\n",
       "      <td>0.0</td>\n",
       "      <td>0.0</td>\n",
       "    </tr>\n",
       "    <tr>\n",
       "      <th>4</th>\n",
       "      <td>88000.0</td>\n",
       "      <td>603.0</td>\n",
       "      <td>3</td>\n",
       "      <td>2.0</td>\n",
       "      <td>20.0</td>\n",
       "      <td>4.0</td>\n",
       "      <td>140.0</td>\n",
       "      <td>525.0</td>\n",
       "      <td>1.0</td>\n",
       "      <td>0.0</td>\n",
       "      <td>...</td>\n",
       "      <td>0.0</td>\n",
       "      <td>0.0</td>\n",
       "      <td>0.0</td>\n",
       "      <td>0.0</td>\n",
       "      <td>0.0</td>\n",
       "      <td>0.0</td>\n",
       "      <td>0.0</td>\n",
       "      <td>0.0</td>\n",
       "      <td>0.0</td>\n",
       "      <td>0.0</td>\n",
       "    </tr>\n",
       "    <tr>\n",
       "      <th>...</th>\n",
       "      <td>...</td>\n",
       "      <td>...</td>\n",
       "      <td>...</td>\n",
       "      <td>...</td>\n",
       "      <td>...</td>\n",
       "      <td>...</td>\n",
       "      <td>...</td>\n",
       "      <td>...</td>\n",
       "      <td>...</td>\n",
       "      <td>...</td>\n",
       "      <td>...</td>\n",
       "      <td>...</td>\n",
       "      <td>...</td>\n",
       "      <td>...</td>\n",
       "      <td>...</td>\n",
       "      <td>...</td>\n",
       "      <td>...</td>\n",
       "      <td>...</td>\n",
       "      <td>...</td>\n",
       "      <td>...</td>\n",
       "      <td>...</td>\n",
       "    </tr>\n",
       "    <tr>\n",
       "      <th>246497</th>\n",
       "      <td>30000.0</td>\n",
       "      <td>1366.0</td>\n",
       "      <td>1</td>\n",
       "      <td>4.0</td>\n",
       "      <td>0.0</td>\n",
       "      <td>11.0</td>\n",
       "      <td>150000.0</td>\n",
       "      <td>6500.0</td>\n",
       "      <td>1.0</td>\n",
       "      <td>0.0</td>\n",
       "      <td>...</td>\n",
       "      <td>0.0</td>\n",
       "      <td>0.0</td>\n",
       "      <td>0.0</td>\n",
       "      <td>0.0</td>\n",
       "      <td>0.0</td>\n",
       "      <td>0.0</td>\n",
       "      <td>0.0</td>\n",
       "      <td>0.0</td>\n",
       "      <td>0.0</td>\n",
       "      <td>0.0</td>\n",
       "    </tr>\n",
       "    <tr>\n",
       "      <th>246498</th>\n",
       "      <td>150000.0</td>\n",
       "      <td>2603.0</td>\n",
       "      <td>4</td>\n",
       "      <td>4.0</td>\n",
       "      <td>1200.0</td>\n",
       "      <td>8.0</td>\n",
       "      <td>275000.0</td>\n",
       "      <td>10500.0</td>\n",
       "      <td>1.0</td>\n",
       "      <td>0.0</td>\n",
       "      <td>...</td>\n",
       "      <td>0.0</td>\n",
       "      <td>0.0</td>\n",
       "      <td>0.0</td>\n",
       "      <td>0.0</td>\n",
       "      <td>0.0</td>\n",
       "      <td>0.0</td>\n",
       "      <td>0.0</td>\n",
       "      <td>0.0</td>\n",
       "      <td>0.0</td>\n",
       "      <td>0.0</td>\n",
       "    </tr>\n",
       "    <tr>\n",
       "      <th>246499</th>\n",
       "      <td>85000.0</td>\n",
       "      <td>751.0</td>\n",
       "      <td>2</td>\n",
       "      <td>3.0</td>\n",
       "      <td>550.0</td>\n",
       "      <td>6.0</td>\n",
       "      <td>145000.0</td>\n",
       "      <td>5750.0</td>\n",
       "      <td>1.0</td>\n",
       "      <td>0.0</td>\n",
       "      <td>...</td>\n",
       "      <td>0.0</td>\n",
       "      <td>0.0</td>\n",
       "      <td>0.0</td>\n",
       "      <td>0.0</td>\n",
       "      <td>0.0</td>\n",
       "      <td>0.0</td>\n",
       "      <td>0.0</td>\n",
       "      <td>0.0</td>\n",
       "      <td>0.0</td>\n",
       "      <td>0.0</td>\n",
       "    </tr>\n",
       "    <tr>\n",
       "      <th>246500</th>\n",
       "      <td>117500.0</td>\n",
       "      <td>1168.0</td>\n",
       "      <td>2</td>\n",
       "      <td>4.0</td>\n",
       "      <td>990.0</td>\n",
       "      <td>10.0</td>\n",
       "      <td>500000.0</td>\n",
       "      <td>11500.0</td>\n",
       "      <td>1.0</td>\n",
       "      <td>0.0</td>\n",
       "      <td>...</td>\n",
       "      <td>0.0</td>\n",
       "      <td>0.0</td>\n",
       "      <td>0.0</td>\n",
       "      <td>0.0</td>\n",
       "      <td>0.0</td>\n",
       "      <td>0.0</td>\n",
       "      <td>0.0</td>\n",
       "      <td>0.0</td>\n",
       "      <td>0.0</td>\n",
       "      <td>0.0</td>\n",
       "    </tr>\n",
       "    <tr>\n",
       "      <th>246501</th>\n",
       "      <td>89000.0</td>\n",
       "      <td>1042.0</td>\n",
       "      <td>4</td>\n",
       "      <td>2.0</td>\n",
       "      <td>890.0</td>\n",
       "      <td>4.0</td>\n",
       "      <td>165000.0</td>\n",
       "      <td>3650.0</td>\n",
       "      <td>1.0</td>\n",
       "      <td>0.0</td>\n",
       "      <td>...</td>\n",
       "      <td>0.0</td>\n",
       "      <td>0.0</td>\n",
       "      <td>0.0</td>\n",
       "      <td>0.0</td>\n",
       "      <td>0.0</td>\n",
       "      <td>0.0</td>\n",
       "      <td>0.0</td>\n",
       "      <td>0.0</td>\n",
       "      <td>0.0</td>\n",
       "      <td>0.0</td>\n",
       "    </tr>\n",
       "  </tbody>\n",
       "</table>\n",
       "<p>246502 rows × 48 columns</p>\n",
       "</div>"
      ],
      "text/plain": [
       "         HINCP_x   SMOCP  NP  BDSP    INSP  RMSP      VALP   TAXAMT  \\\n",
       "0        47900.0  1042.0   4   3.0   890.0   6.0  165000.0   3650.0   \n",
       "1        36100.0   691.0   2   3.0   600.0   6.0   35000.0    525.0   \n",
       "2       100000.0  1042.0   1   0.0   890.0   1.0  165000.0   3650.0   \n",
       "3        45000.0  1042.0   2   2.0   890.0   5.0  165000.0   3650.0   \n",
       "4        88000.0   603.0   3   2.0    20.0   4.0     140.0    525.0   \n",
       "...          ...     ...  ..   ...     ...   ...       ...      ...   \n",
       "246497   30000.0  1366.0   1   4.0     0.0  11.0  150000.0   6500.0   \n",
       "246498  150000.0  2603.0   4   4.0  1200.0   8.0  275000.0  10500.0   \n",
       "246499   85000.0   751.0   2   3.0   550.0   6.0  145000.0   5750.0   \n",
       "246500  117500.0  1168.0   2   4.0   990.0  10.0  500000.0  11500.0   \n",
       "246501   89000.0  1042.0   4   2.0   890.0   4.0  165000.0   3650.0   \n",
       "\n",
       "        ACR_<1.0>  ACR_<2.0>  ...  YBL_<13.0>  YBL_<14.0>  YBL_<15.0>  \\\n",
       "0             1.0        0.0  ...         0.0         0.0         0.0   \n",
       "1             1.0        0.0  ...         0.0         0.0         0.0   \n",
       "2             1.0        0.0  ...         0.0         0.0         0.0   \n",
       "3             1.0        0.0  ...         0.0         0.0         0.0   \n",
       "4             1.0        0.0  ...         0.0         0.0         0.0   \n",
       "...           ...        ...  ...         ...         ...         ...   \n",
       "246497        1.0        0.0  ...         0.0         0.0         0.0   \n",
       "246498        1.0        0.0  ...         0.0         0.0         0.0   \n",
       "246499        1.0        0.0  ...         0.0         0.0         0.0   \n",
       "246500        1.0        0.0  ...         0.0         0.0         0.0   \n",
       "246501        1.0        0.0  ...         0.0         0.0         0.0   \n",
       "\n",
       "        YBL_<16.0>  YBL_<17.0>  YBL_<18.0>  YBL_<19.0>  YBL_<20.0>  \\\n",
       "0              0.0         0.0         0.0         0.0         0.0   \n",
       "1              0.0         0.0         0.0         0.0         0.0   \n",
       "2              0.0         0.0         0.0         0.0         0.0   \n",
       "3              0.0         0.0         0.0         0.0         0.0   \n",
       "4              0.0         0.0         0.0         0.0         0.0   \n",
       "...            ...         ...         ...         ...         ...   \n",
       "246497         0.0         0.0         0.0         0.0         0.0   \n",
       "246498         0.0         0.0         0.0         0.0         0.0   \n",
       "246499         0.0         0.0         0.0         0.0         0.0   \n",
       "246500         0.0         0.0         0.0         0.0         0.0   \n",
       "246501         0.0         0.0         0.0         0.0         0.0   \n",
       "\n",
       "        YBL_<21.0>  YBL_<22.0>  \n",
       "0              0.0         0.0  \n",
       "1              0.0         0.0  \n",
       "2              0.0         0.0  \n",
       "3              0.0         0.0  \n",
       "4              0.0         0.0  \n",
       "...            ...         ...  \n",
       "246497         0.0         0.0  \n",
       "246498         0.0         0.0  \n",
       "246499         0.0         0.0  \n",
       "246500         0.0         0.0  \n",
       "246501         0.0         0.0  \n",
       "\n",
       "[246502 rows x 48 columns]"
      ]
     },
     "execution_count": 3,
     "metadata": {},
     "output_type": "execute_result"
    }
   ],
   "source": [
    "df"
   ]
  },
  {
   "cell_type": "code",
   "execution_count": 4,
   "metadata": {},
   "outputs": [],
   "source": [
    "#setting our dependent and independent variables\n",
    "X=df.drop(\"HINCP_x\",axis=1)\n",
    "y=df[\"HINCP_x\"]"
   ]
  },
  {
   "cell_type": "code",
   "execution_count": 5,
   "metadata": {},
   "outputs": [],
   "source": [
    "y=np.reshape(y.values,(-1,1))"
   ]
  },
  {
   "cell_type": "code",
   "execution_count": 6,
   "metadata": {},
   "outputs": [],
   "source": [
    "#splitting our data once to get out train and hold out set\n",
    "X_train,X_test,y_train,y_test=train_test_split(X,y,train_size=.8,random_state=2020)"
   ]
  },
  {
   "cell_type": "code",
   "execution_count": 10,
   "metadata": {},
   "outputs": [],
   "source": [
    "#instantiating our scalrs\n",
    "ss_x=StandardScaler()\n",
    "mm_x=MinMaxScaler()"
   ]
  },
  {
   "cell_type": "code",
   "execution_count": 11,
   "metadata": {},
   "outputs": [],
   "source": [
    "#fitting our standard scalar\n",
    "X_train_ss=ss_x.fit_transform(X_train)"
   ]
  },
  {
   "cell_type": "code",
   "execution_count": 12,
   "metadata": {},
   "outputs": [],
   "source": [
    "#fitting out minmax scalar the less complex of the two scalars\n",
    "X_train_mm=mm_x.fit_transform(X_train)"
   ]
  },
  {
   "cell_type": "code",
   "execution_count": 13,
   "metadata": {},
   "outputs": [],
   "source": [
    "# The R-squared predictor\n",
    "from keras import backend as K\n",
    "def coeff_determination(y_true, y_pred):\n",
    "    \"\"\"https://jmlb.github.io/ml/2017/03/20/CoeffDetermination_CustomMetric4Keras/\"\"\"\n",
    "\n",
    "    SS_res =  K.sum(K.square( y_true-y_pred )) \n",
    "    SS_tot = K.sum(K.square( y_true - K.mean(y_true) ) ) \n",
    "    return ( 1 - SS_res/(SS_tot + K.epsilon()) )\n"
   ]
  },
  {
   "cell_type": "code",
   "execution_count": 14,
   "metadata": {},
   "outputs": [],
   "source": [
    "#First model\n",
    "model=Sequential()\n",
    "model.add(Dense(50 ,activation=\"relu\",input_dim=47))\n",
    "model.add(Dense(25 ,activation=\"selu\"))\n",
    "model.add(Dense(1 ,activation='linear'))\n",
    "model.compile(loss=\"mse\",optimizer=\"adam\",metrics=[tf.keras.metrics.RootMeanSquaredError(),\"mae\",coeff_determination])\n"
   ]
  },
  {
   "cell_type": "code",
   "execution_count": 15,
   "metadata": {},
   "outputs": [],
   "source": [
    "model1=Sequential()\n",
    "model1.add(Dense(50 ,activation=\"relu\",input_dim=47))\n",
    "model1.add(Dense(25 ,activation=\"selu\"))\n",
    "model1.add(Dense(1 ,activation='linear'))\n",
    "model1.compile(loss=\"mse\",optimizer=\"adam\",metrics=[tf.keras.metrics.RootMeanSquaredError(),\"mae\",coeff_determination])\n"
   ]
  },
  {
   "cell_type": "code",
   "execution_count": 16,
   "metadata": {},
   "outputs": [],
   "source": [
    "model2=Sequential()\n",
    "model2.add(Dense(50 ,activation=\"relu\",input_dim=47))\n",
    "model2.add(Dense(25 ,activation=\"selu\"))\n",
    "model2.add(Dense(1 ,activation='linear'))\n",
    "model2.compile(loss=\"mse\",optimizer=\"adam\",metrics=[tf.keras.metrics.RootMeanSquaredError(),\"mae\",coeff_determination])\n"
   ]
  },
  {
   "cell_type": "code",
   "execution_count": 17,
   "metadata": {},
   "outputs": [
    {
     "name": "stdout",
     "output_type": "stream",
     "text": [
      "Model: \"sequential_1\"\n",
      "_________________________________________________________________\n",
      "Layer (type)                 Output Shape              Param #   \n",
      "=================================================================\n",
      "dense_1 (Dense)              (None, 50)                2400      \n",
      "_________________________________________________________________\n",
      "dense_2 (Dense)              (None, 25)                1275      \n",
      "_________________________________________________________________\n",
      "dense_3 (Dense)              (None, 1)                 26        \n",
      "=================================================================\n",
      "Total params: 3,701\n",
      "Trainable params: 3,701\n",
      "Non-trainable params: 0\n",
      "_________________________________________________________________\n"
     ]
    }
   ],
   "source": [
    "model.summary()"
   ]
  },
  {
   "cell_type": "code",
   "execution_count": 18,
   "metadata": {},
   "outputs": [],
   "source": [
    "#Creating early stop function to help minimize time of models\n",
    "early_stop = EarlyStopping(monitor='val_loss', min_delta=1e-08, patience=0, verbose=1,\n",
    "                           mode='auto')\n",
    "callbacks_list = [early_stop]"
   ]
  },
  {
   "cell_type": "code",
   "execution_count": 19,
   "metadata": {},
   "outputs": [
    {
     "name": "stdout",
     "output_type": "stream",
     "text": [
      "Train on 157760 samples, validate on 39441 samples\n",
      "Epoch 1/50\n",
      "157760/157760 [==============================] - 3s 20us/step - loss: 6551789435.7404 - root_mean_squared_error: 86088.0625 - mae: 49475.1641 - coeff_determination: 0.1313 - val_loss: 6261887175.7126 - val_root_mean_squared_error: 80784.8359 - val_mae: 48455.9492 - val_coeff_determination: 0.2351\n",
      "Epoch 2/50\n",
      "157760/157760 [==============================] - 3s 19us/step - loss: 6047944032.3205 - root_mean_squared_error: 79950.6250 - mae: 48153.4336 - coeff_determination: 0.2135 - val_loss: 6422848964.9281 - val_root_mean_squared_error: 79414.6484 - val_mae: 47253.4375 - val_coeff_determination: 0.2517\n",
      "Epoch 00002: early stopping\n"
     ]
    }
   ],
   "source": [
    "history=model.fit(X_train,y_train,epochs=50,batch_size=50,validation_split=.2,callbacks=callbacks_list)"
   ]
  },
  {
   "cell_type": "code",
   "execution_count": 20,
   "metadata": {},
   "outputs": [
    {
     "name": "stdout",
     "output_type": "stream",
     "text": [
      "Train on 157760 samples, validate on 39441 samples\n",
      "Epoch 1/50\n",
      "157760/157760 [==============================] - 3s 20us/step - loss: 10125181137.5051 - root_mean_squared_error: 115168.2734 - mae: 63617.7930 - coeff_determination: -0.3329 - val_loss: 6552829702.5816 - val_root_mean_squared_error: 98723.4062 - val_mae: 47952.6875 - val_coeff_determination: 0.1925\n",
      "Epoch 2/50\n",
      "157760/157760 [==============================] - 3s 19us/step - loss: 5776545537.7120 - root_mean_squared_error: 92073.0156 - mae: 44594.4062 - coeff_determination: 0.2629 - val_loss: 5891480591.8730 - val_root_mean_squared_error: 87747.1250 - val_mae: 43843.2812 - val_coeff_determination: 0.2989\n",
      "Epoch 3/50\n",
      "157760/157760 [==============================] - 3s 19us/step - loss: 5443792616.7667 - root_mean_squared_error: 85238.9141 - mae: 42654.3438 - coeff_determination: 0.3147 - val_loss: 5708949117.0987 - val_root_mean_squared_error: 83340.8672 - val_mae: 42715.8867 - val_coeff_determination: 0.3266\n",
      "Epoch 4/50\n",
      "157760/157760 [==============================] - 3s 19us/step - loss: 5333685515.5091 - root_mean_squared_error: 82000.7578 - mae: 42017.4102 - coeff_determination: 0.3311 - val_loss: 5640873985.5772 - val_root_mean_squared_error: 80930.0469 - val_mae: 42487.4141 - val_coeff_determination: 0.3351\n",
      "Epoch 5/50\n",
      "157760/157760 [==============================] - 3s 19us/step - loss: 5298351131.0751 - root_mean_squared_error: 80109.8047 - mae: 41944.5469 - coeff_determination: 0.3390 - val_loss: 5622234438.6578 - val_root_mean_squared_error: 79422.1719 - val_mae: 42285.0625 - val_coeff_determination: 0.3389\n",
      "Epoch 6/50\n",
      "157760/157760 [==============================] - 3s 20us/step - loss: 5286473125.2089 - root_mean_squared_error: 78870.4062 - mae: 41875.9961 - coeff_determination: 0.3378 - val_loss: 5613185698.9849 - val_root_mean_squared_error: 78396.3047 - val_mae: 42355.4023 - val_coeff_determination: 0.3391\n",
      "Epoch 7/50\n",
      "157760/157760 [==============================] - 3s 19us/step - loss: 5279749985.5538 - root_mean_squared_error: 77972.4531 - mae: 41843.8711 - coeff_determination: 0.3397 - val_loss: 5608444912.1919 - val_root_mean_squared_error: 77653.1172 - val_mae: 42442.3008 - val_coeff_determination: 0.3375\n",
      "Epoch 8/50\n",
      "157760/157760 [==============================] - 3s 20us/step - loss: 5275577587.4402 - root_mean_squared_error: 77353.9141 - mae: 41827.0156 - coeff_determination: 0.3416 - val_loss: 5605060766.6264 - val_root_mean_squared_error: 77090.3359 - val_mae: 42367.2656 - val_coeff_determination: 0.3388\n",
      "Epoch 9/50\n",
      "157760/157760 [==============================] - 3s 19us/step - loss: 5272207648.6734 - root_mean_squared_error: 76849.3516 - mae: 41788.8828 - coeff_determination: 0.3412 - val_loss: 5603375214.1992 - val_root_mean_squared_error: 76648.6328 - val_mae: 42275.7891 - val_coeff_determination: 0.3413\n",
      "Epoch 10/50\n",
      "157760/157760 [==============================] - 3s 20us/step - loss: 5268560408.7667 - root_mean_squared_error: 76462.7188 - mae: 41768.2930 - coeff_determination: 0.3400 - val_loss: 5601878854.7325 - val_root_mean_squared_error: 76292.0469 - val_mae: 42323.8086 - val_coeff_determination: 0.3404\n",
      "Epoch 11/50\n",
      "157760/157760 [==============================] - 3s 21us/step - loss: 5265922297.9189 - root_mean_squared_error: 76126.6094 - mae: 41763.8164 - coeff_determination: 0.3417 - val_loss: 5598094487.7560 - val_root_mean_squared_error: 75998.1328 - val_mae: 42306.6250 - val_coeff_determination: 0.3400\n",
      "Epoch 12/50\n",
      "157760/157760 [==============================] - 3s 20us/step - loss: 5263127400.6085 - root_mean_squared_error: 75872.8125 - mae: 41742.9531 - coeff_determination: 0.3415 - val_loss: 5597052071.4148 - val_root_mean_squared_error: 75751.3828 - val_mae: 42309.5469 - val_coeff_determination: 0.3390\n",
      "Epoch 13/50\n",
      "157760/157760 [==============================] - 3s 21us/step - loss: 5261526691.7485 - root_mean_squared_error: 75637.9453 - mae: 41714.5391 - coeff_determination: 0.3480 - val_loss: 5595766134.0205 - val_root_mean_squared_error: 75541.4297 - val_mae: 42182.1562 - val_coeff_determination: 0.3427\n",
      "Epoch 14/50\n",
      "157760/157760 [==============================] - 3s 20us/step - loss: 5259665485.2698 - root_mean_squared_error: 75446.1953 - mae: 41709.4297 - coeff_determination: 0.3434 - val_loss: 5593683925.0056 - val_root_mean_squared_error: 75360.3672 - val_mae: 42204.1680 - val_coeff_determination: 0.3420\n",
      "Epoch 15/50\n",
      "157760/157760 [==============================] - 3s 21us/step - loss: 5257068995.6308 - root_mean_squared_error: 75267.6016 - mae: 41670.4688 - coeff_determination: 0.3398 - val_loss: 5592421915.3064 - val_root_mean_squared_error: 75202.1094 - val_mae: 42321.4727 - val_coeff_determination: 0.3407\n",
      "Epoch 16/50\n",
      "157760/157760 [==============================] - 3s 21us/step - loss: 5254851006.1460 - root_mean_squared_error: 75131.4531 - mae: 41686.9727 - coeff_determination: 0.3445 - val_loss: 5590453029.2275 - val_root_mean_squared_error: 75062.7500 - val_mae: 42215.3711 - val_coeff_determination: 0.3421\n",
      "Epoch 17/50\n",
      "157760/157760 [==============================] - 3s 21us/step - loss: 5253464855.1237 - root_mean_squared_error: 75006.3906 - mae: 41671.3516 - coeff_determination: 0.3460 - val_loss: 5588223898.9170 - val_root_mean_squared_error: 74938.8828 - val_mae: 42265.0352 - val_coeff_determination: 0.3402\n",
      "Epoch 18/50\n",
      "157760/157760 [==============================] - 3s 20us/step - loss: 5251009966.2921 - root_mean_squared_error: 74888.8125 - mae: 41678.0469 - coeff_determination: 0.3448 - val_loss: 5589808705.5302 - val_root_mean_squared_error: 74828.0625 - val_mae: 42003.2461 - val_coeff_determination: 0.3443\n",
      "Epoch 00018: early stopping\n"
     ]
    }
   ],
   "source": [
    "history1=model1.fit(X_train_ss,y_train,epochs=50,batch_size=50,validation_split=.2,callbacks=callbacks_list)"
   ]
  },
  {
   "cell_type": "code",
   "execution_count": 22,
   "metadata": {},
   "outputs": [
    {
     "name": "stdout",
     "output_type": "stream",
     "text": [
      "Train on 157760 samples, validate on 39441 samples\n",
      "Epoch 1/50\n",
      "157760/157760 [==============================] - 3s 20us/step - loss: 10196912356.6166 - root_mean_squared_error: 114132.6406 - mae: 61654.2461 - coeff_determination: -0.2625 - val_loss: 7744684221.8986 - val_root_mean_squared_error: 99731.5000 - val_mae: 52952.2695 - val_coeff_determination: 0.1428\n",
      "Epoch 2/50\n",
      "157760/157760 [==============================] - 3s 20us/step - loss: 6834834224.6004 - root_mean_squared_error: 94679.5234 - mae: 49954.9453 - coeff_determination: 0.2019 - val_loss: 6854131402.3932 - val_root_mean_squared_error: 91401.3672 - val_mae: 48474.7656 - val_coeff_determination: 0.2405\n",
      "Epoch 3/50\n",
      "157760/157760 [==============================] - 3s 20us/step - loss: 6186917811.3671 - root_mean_squared_error: 89170.9844 - mae: 46313.4414 - coeff_determination: 0.2733 - val_loss: 6352862950.5986 - val_root_mean_squared_error: 87376.7266 - val_mae: 45896.4414 - val_coeff_determination: 0.2894\n",
      "Epoch 4/50\n",
      "157760/157760 [==============================] - 3s 20us/step - loss: 5802340385.2373 - root_mean_squared_error: 85935.7656 - mae: 44516.1680 - coeff_determination: 0.3066 - val_loss: 6016117784.7848 - val_root_mean_squared_error: 84758.2344 - val_mae: 44733.1992 - val_coeff_determination: 0.3155\n",
      "Epoch 5/50\n",
      "157760/157760 [==============================] - 3s 20us/step - loss: 5564504714.4746 - root_mean_squared_error: 83749.5078 - mae: 43409.0000 - coeff_determination: 0.3279 - val_loss: 5825401120.4633 - val_root_mean_squared_error: 82871.7891 - val_mae: 43646.0547 - val_coeff_determination: 0.3298\n",
      "Epoch 6/50\n",
      "157760/157760 [==============================] - 3s 20us/step - loss: 5444903798.3002 - root_mean_squared_error: 82136.4219 - mae: 42846.0117 - coeff_determination: 0.3327 - val_loss: 5735408731.4443 - val_root_mean_squared_error: 81472.8125 - val_mae: 43237.4453 - val_coeff_determination: 0.3343\n",
      "Epoch 7/50\n",
      "157760/157760 [==============================] - 3s 20us/step - loss: 5389165220.2921 - root_mean_squared_error: 80917.1953 - mae: 42585.0078 - coeff_determination: 0.3339 - val_loss: 5691995924.4230 - val_root_mean_squared_error: 80412.5547 - val_mae: 43290.4727 - val_coeff_determination: 0.3323\n",
      "Epoch 8/50\n",
      "157760/157760 [==============================] - 3s 20us/step - loss: 5359853508.1623 - root_mean_squared_error: 79974.3750 - mae: 42437.4141 - coeff_determination: 0.3325 - val_loss: 5667588702.7968 - val_root_mean_squared_error: 79587.6172 - val_mae: 43012.8438 - val_coeff_determination: 0.3345\n",
      "Epoch 9/50\n",
      "157760/157760 [==============================] - 3s 21us/step - loss: 5341300064.6166 - root_mean_squared_error: 79234.6562 - mae: 42326.2305 - coeff_determination: 0.3393 - val_loss: 5652012760.8318 - val_root_mean_squared_error: 78928.9766 - val_mae: 43037.7148 - val_coeff_determination: 0.3333\n",
      "Epoch 10/50\n",
      "157760/157760 [==============================] - 3s 21us/step - loss: 5327068494.7221 - root_mean_squared_error: 78641.8984 - mae: 42239.0898 - coeff_determination: 0.3355 - val_loss: 5640307794.4709 - val_root_mean_squared_error: 78390.3125 - val_mae: 42932.1641 - val_coeff_determination: 0.3348\n",
      "Epoch 11/50\n",
      "157760/157760 [==============================] - 3s 21us/step - loss: 5315890694.8479 - root_mean_squared_error: 78161.7578 - mae: 42171.4375 - coeff_determination: 0.3431 - val_loss: 5631523026.3866 - val_root_mean_squared_error: 77941.3281 - val_mae: 42635.1875 - val_coeff_determination: 0.3372\n",
      "Epoch 12/50\n",
      "157760/157760 [==============================] - 3s 21us/step - loss: 5306858439.5659 - root_mean_squared_error: 77745.1094 - mae: 42101.1523 - coeff_determination: 0.3398 - val_loss: 5624196324.3918 - val_root_mean_squared_error: 77560.9453 - val_mae: 42775.2188 - val_coeff_determination: 0.3343\n",
      "Epoch 13/50\n",
      "157760/157760 [==============================] - 3s 22us/step - loss: 5298935959.4564 - root_mean_squared_error: 77403.7891 - mae: 42061.2812 - coeff_determination: 0.3392 - val_loss: 5620281924.7723 - val_root_mean_squared_error: 77234.5234 - val_mae: 42322.7500 - val_coeff_determination: 0.3398\n",
      "Epoch 14/50\n",
      "157760/157760 [==============================] - 3s 22us/step - loss: 5292993397.1034 - root_mean_squared_error: 77089.5312 - mae: 41979.4492 - coeff_determination: 0.3428 - val_loss: 5612716621.8236 - val_root_mean_squared_error: 76950.9688 - val_mae: 42766.5781 - val_coeff_determination: 0.3356\n",
      "Epoch 15/50\n",
      "157760/157760 [==============================] - 3s 21us/step - loss: 5286828848.5801 - root_mean_squared_error: 76824.3281 - mae: 41962.3789 - coeff_determination: 0.3417 - val_loss: 5608629672.4144 - val_root_mean_squared_error: 76702.0938 - val_mae: 42351.9805 - val_coeff_determination: 0.3390\n",
      "Epoch 16/50\n",
      "157760/157760 [==============================] - 3s 21us/step - loss: 5281794394.1826 - root_mean_squared_error: 76589.7109 - mae: 41904.3477 - coeff_determination: 0.3409 - val_loss: 5604086229.1159 - val_root_mean_squared_error: 76481.8984 - val_mae: 42378.4258 - val_coeff_determination: 0.3399\n",
      "Epoch 17/50\n",
      "157760/157760 [==============================] - 4s 23us/step - loss: 5277016676.2272 - root_mean_squared_error: 76379.8203 - mae: 41879.3906 - coeff_determination: 0.3418 - val_loss: 5601780918.7069 - val_root_mean_squared_error: 76285.4141 - val_mae: 42237.9492 - val_coeff_determination: 0.3400\n",
      "Epoch 18/50\n",
      "157760/157760 [==============================] - 3s 21us/step - loss: 5273272019.3225 - root_mean_squared_error: 76192.9766 - mae: 41824.8789 - coeff_determination: 0.3372 - val_loss: 5597592652.9701 - val_root_mean_squared_error: 76108.9922 - val_mae: 42573.3242 - val_coeff_determination: 0.3385\n",
      "Epoch 19/50\n",
      "157760/157760 [==============================] - 3s 21us/step - loss: 5269848078.6897 - root_mean_squared_error: 76029.1016 - mae: 41827.7969 - coeff_determination: 0.3395 - val_loss: 5595590595.3378 - val_root_mean_squared_error: 75949.6953 - val_mae: 42265.5430 - val_coeff_determination: 0.3408\n",
      "Epoch 20/50\n",
      "157760/157760 [==============================] - 3s 20us/step - loss: 5266431940.4909 - root_mean_squared_error: 75870.5000 - mae: 41802.4336 - coeff_determination: 0.3424 - val_loss: 5593886212.5597 - val_root_mean_squared_error: 75805.3047 - val_mae: 42199.6914 - val_coeff_determination: 0.3406\n",
      "Epoch 21/50\n",
      "157760/157760 [==============================] - 3s 21us/step - loss: 5263264672.6613 - root_mean_squared_error: 75736.5000 - mae: 41768.1836 - coeff_determination: 0.3447 - val_loss: 5595890412.3526 - val_root_mean_squared_error: 75673.6641 - val_mae: 41984.9883 - val_coeff_determination: 0.3440\n",
      "Epoch 00021: early stopping\n"
     ]
    }
   ],
   "source": [
    "history2=model2.fit(X_train_mm,y_train,epochs=50,batch_size=50,validation_split=.2,callbacks=callbacks_list)"
   ]
  },
  {
   "cell_type": "code",
   "execution_count": 24,
   "metadata": {},
   "outputs": [
    {
     "name": "stdout",
     "output_type": "stream",
     "text": [
      "dict_keys(['val_loss', 'val_root_mean_squared_error', 'val_mae', 'val_coeff_determination', 'loss', 'root_mean_squared_error', 'mae', 'coeff_determination'])\n"
     ]
    },
    {
     "data": {
      "image/png": "[encoded data removed]",
      "text/plain": [
       "<Figure size 720x720 with 1 Axes>"
      ]
     },
     "metadata": {
      "needs_background": "light"
     },
     "output_type": "display_data"
    }
   ],
   "source": [
    "#plotting loss of base model\n",
    "print(history.history.keys())\n",
    "#'Loss'\n",
    "fig, ax = plt.subplots(figsize=((10,10)))\n",
    "plt.plot(history.history['loss'])\n",
    "plt.plot(history.history['val_loss'])\n",
    "plt.title('Model Loss',fontsize=20)\n",
    "plt.ylabel('Loss(MSE)',fontsize=20)\n",
    "plt.xlabel('Epoch',fontsize=18)\n",
    "plt.tick_params(axis=\"both\",labelsize=18)\n",
    "plt.legend(['train','validation'],loc='upper left')\n",
    "plt.savefig(\"../../Reports/Figures/base_nnmodel_results\",transparent=True,bbox_inches=\"tight\",)\n",
    "plt.show();"
   ]
  },
  {
   "cell_type": "markdown",
   "metadata": {},
   "source": [
    "Look like the val data is performing better than train data so we may need to try a regularization tool to help close the gap."
   ]
  },
  {
   "cell_type": "code",
   "execution_count": 26,
   "metadata": {},
   "outputs": [
    {
     "name": "stdout",
     "output_type": "stream",
     "text": [
      "dict_keys(['val_loss', 'val_root_mean_squared_error', 'val_mae', 'val_coeff_determination', 'loss', 'root_mean_squared_error', 'mae', 'coeff_determination'])\n"
     ]
    },
    {
     "data": {
      "image/png": "[encoded data removed]",
      "text/plain": [
       "<Figure size 720x720 with 1 Axes>"
      ]
     },
     "metadata": {
      "needs_background": "light"
     },
     "output_type": "display_data"
    }
   ],
   "source": [
    "#plotting loss of Standard scalar\n",
    "print(history1.history.keys())\n",
    "#'Loss'\n",
    "fig, ax = plt.subplots(figsize=((10,10)))\n",
    "plt.plot(history1.history['loss'])\n",
    "plt.plot(history1.history['val_loss'])\n",
    "plt.title('Model Loss',fontsize=20)\n",
    "plt.ylabel('Loss(MSE)',fontsize=20)\n",
    "plt.xlabel('Epoch',fontsize=18)\n",
    "plt.tick_params(axis=\"both\",labelsize=18)\n",
    "plt.legend(['train','validation'],loc='upper left')\n",
    "plt.savefig(\"../../Reports/Figures/nnmodel1_results\",transparent=True,bbox_inches=\"tight\",)\n",
    "plt.show();"
   ]
  },
  {
   "cell_type": "markdown",
   "metadata": {},
   "source": [
    "Now looking at the standard scalar model there is less of a gap between the train and validation set, but still  a very large mse"
   ]
  },
  {
   "cell_type": "code",
   "execution_count": 27,
   "metadata": {},
   "outputs": [
    {
     "name": "stdout",
     "output_type": "stream",
     "text": [
      "dict_keys(['val_loss', 'val_root_mean_squared_error', 'val_mae', 'val_coeff_determination', 'loss', 'root_mean_squared_error', 'mae', 'coeff_determination'])\n"
     ]
    },
    {
     "data": {
      "image/png": "[encoded data removed]",
      "text/plain": [
       "<Figure size 720x720 with 1 Axes>"
      ]
     },
     "metadata": {
      "needs_background": "light"
     },
     "output_type": "display_data"
    }
   ],
   "source": [
    "#plotting loss of Minmax Scalar\n",
    "print(history2.history.keys())\n",
    "#'Loss'\n",
    "fig, ax = plt.subplots(figsize=((10,10)))\n",
    "plt.plot(history2.history['loss'])\n",
    "plt.plot(history2.history['val_loss'])\n",
    "plt.title('Model Loss',fontsize=20)\n",
    "plt.ylabel('Loss(MSE)',fontsize=20)\n",
    "plt.xlabel('Epoch',fontsize=18)\n",
    "plt.tick_params(axis=\"both\",labelsize=18)\n",
    "plt.legend(['train','validation'],loc='upper left')\n",
    "plt.savefig(\"../../Reports/Figures/nnmodel2_results\",transparent=True,bbox_inches=\"tight\",)\n",
    "plt.show();"
   ]
  },
  {
   "cell_type": "markdown",
   "metadata": {},
   "source": [
    "The Minmax scalar is have a similar reaction as the standard scalar where the min max between the validation and test set are close, but once again the mse is still an enormous number."
   ]
  }
 ],
 "metadata": {
  "kernelspec": {
   "display_name": "Python 3 (tens)",
   "language": "python",
   "name": "tens"
  },
  "language_info": {
   "codemirror_mode": {
    "name": "ipython",
    "version": 3
   },
   "file_extension": ".py",
   "mimetype": "text/x-python",
   "name": "python",
   "nbconvert_exporter": "python",
   "pygments_lexer": "ipython3",
   "version": "3.7.7"
  }
 },
 "nbformat": 4,
 "nbformat_minor": 4
}
