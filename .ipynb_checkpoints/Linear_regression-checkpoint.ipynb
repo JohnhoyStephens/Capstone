{
 "cells": [
  {
   "cell_type": "code",
   "execution_count": 38,
   "metadata": {},
   "outputs": [],
   "source": [
    "import pandas as pd\n",
    "import numpy as np\n",
    "from sklearn.linear_model import LinearRegression\n",
    "from sklearn.model_selection import train_test_split\n",
    "from statsmodels.formula.api import ols\n",
    "import matplotlib.pyplot as plt "
   ]
  },
  {
   "cell_type": "code",
   "execution_count": 2,
   "metadata": {},
   "outputs": [
    {
     "name": "stderr",
     "output_type": "stream",
     "text": [
      "C:\\Users\\jstep\\anaconda3\\envs\\Capstone\\lib\\site-packages\\IPython\\core\\interactiveshell.py:3071: DtypeWarning: Columns (1) have mixed types.Specify dtype option on import or set low_memory=False.\n",
      "  has_raised = await self.run_ast_nodes(code_ast.body, cell_name,\n"
     ]
    }
   ],
   "source": [
    "df=pd.read_csv(\"csv_hil/psam_h17.csv\")"
   ]
  },
  {
   "cell_type": "code",
   "execution_count": 3,
   "metadata": {},
   "outputs": [
    {
     "data": {
      "text/html": [
       "<div>\n",
       "<style scoped>\n",
       "    .dataframe tbody tr th:only-of-type {\n",
       "        vertical-align: middle;\n",
       "    }\n",
       "\n",
       "    .dataframe tbody tr th {\n",
       "        vertical-align: top;\n",
       "    }\n",
       "\n",
       "    .dataframe thead th {\n",
       "        text-align: right;\n",
       "    }\n",
       "</style>\n",
       "<table border=\"1\" class=\"dataframe\">\n",
       "  <thead>\n",
       "    <tr style=\"text-align: right;\">\n",
       "      <th></th>\n",
       "      <th>RT</th>\n",
       "      <th>SERIALNO</th>\n",
       "      <th>DIVISION</th>\n",
       "      <th>PUMA</th>\n",
       "      <th>REGION</th>\n",
       "      <th>ST</th>\n",
       "      <th>ADJHSG</th>\n",
       "      <th>ADJINC</th>\n",
       "      <th>WGTP</th>\n",
       "      <th>NP</th>\n",
       "      <th>...</th>\n",
       "      <th>WGTP71</th>\n",
       "      <th>WGTP72</th>\n",
       "      <th>WGTP73</th>\n",
       "      <th>WGTP74</th>\n",
       "      <th>WGTP75</th>\n",
       "      <th>WGTP76</th>\n",
       "      <th>WGTP77</th>\n",
       "      <th>WGTP78</th>\n",
       "      <th>WGTP79</th>\n",
       "      <th>WGTP80</th>\n",
       "    </tr>\n",
       "  </thead>\n",
       "  <tbody>\n",
       "    <tr>\n",
       "      <th>0</th>\n",
       "      <td>H</td>\n",
       "      <td>2014000000015</td>\n",
       "      <td>3</td>\n",
       "      <td>3108</td>\n",
       "      <td>2</td>\n",
       "      <td>17</td>\n",
       "      <td>1061728</td>\n",
       "      <td>1070673</td>\n",
       "      <td>13</td>\n",
       "      <td>4</td>\n",
       "      <td>...</td>\n",
       "      <td>4</td>\n",
       "      <td>15</td>\n",
       "      <td>25</td>\n",
       "      <td>24</td>\n",
       "      <td>15</td>\n",
       "      <td>13</td>\n",
       "      <td>11</td>\n",
       "      <td>15</td>\n",
       "      <td>14</td>\n",
       "      <td>24</td>\n",
       "    </tr>\n",
       "    <tr>\n",
       "      <th>1</th>\n",
       "      <td>H</td>\n",
       "      <td>2014000000029</td>\n",
       "      <td>3</td>\n",
       "      <td>2501</td>\n",
       "      <td>2</td>\n",
       "      <td>17</td>\n",
       "      <td>1061728</td>\n",
       "      <td>1070673</td>\n",
       "      <td>3</td>\n",
       "      <td>2</td>\n",
       "      <td>...</td>\n",
       "      <td>4</td>\n",
       "      <td>4</td>\n",
       "      <td>7</td>\n",
       "      <td>8</td>\n",
       "      <td>7</td>\n",
       "      <td>8</td>\n",
       "      <td>4</td>\n",
       "      <td>6</td>\n",
       "      <td>4</td>\n",
       "      <td>7</td>\n",
       "    </tr>\n",
       "    <tr>\n",
       "      <th>2</th>\n",
       "      <td>H</td>\n",
       "      <td>2014000000041</td>\n",
       "      <td>3</td>\n",
       "      <td>3502</td>\n",
       "      <td>2</td>\n",
       "      <td>17</td>\n",
       "      <td>1061728</td>\n",
       "      <td>1070673</td>\n",
       "      <td>31</td>\n",
       "      <td>1</td>\n",
       "      <td>...</td>\n",
       "      <td>25</td>\n",
       "      <td>38</td>\n",
       "      <td>49</td>\n",
       "      <td>53</td>\n",
       "      <td>9</td>\n",
       "      <td>26</td>\n",
       "      <td>34</td>\n",
       "      <td>24</td>\n",
       "      <td>9</td>\n",
       "      <td>14</td>\n",
       "    </tr>\n",
       "    <tr>\n",
       "      <th>3</th>\n",
       "      <td>H</td>\n",
       "      <td>2014000000113</td>\n",
       "      <td>3</td>\n",
       "      <td>3526</td>\n",
       "      <td>2</td>\n",
       "      <td>17</td>\n",
       "      <td>1061728</td>\n",
       "      <td>1070673</td>\n",
       "      <td>7</td>\n",
       "      <td>2</td>\n",
       "      <td>...</td>\n",
       "      <td>2</td>\n",
       "      <td>7</td>\n",
       "      <td>5</td>\n",
       "      <td>7</td>\n",
       "      <td>7</td>\n",
       "      <td>12</td>\n",
       "      <td>3</td>\n",
       "      <td>6</td>\n",
       "      <td>8</td>\n",
       "      <td>11</td>\n",
       "    </tr>\n",
       "    <tr>\n",
       "      <th>4</th>\n",
       "      <td>H</td>\n",
       "      <td>2014000000125</td>\n",
       "      <td>3</td>\n",
       "      <td>1105</td>\n",
       "      <td>2</td>\n",
       "      <td>17</td>\n",
       "      <td>1061728</td>\n",
       "      <td>1070673</td>\n",
       "      <td>0</td>\n",
       "      <td>1</td>\n",
       "      <td>...</td>\n",
       "      <td>0</td>\n",
       "      <td>0</td>\n",
       "      <td>0</td>\n",
       "      <td>0</td>\n",
       "      <td>0</td>\n",
       "      <td>0</td>\n",
       "      <td>0</td>\n",
       "      <td>0</td>\n",
       "      <td>0</td>\n",
       "      <td>0</td>\n",
       "    </tr>\n",
       "    <tr>\n",
       "      <th>...</th>\n",
       "      <td>...</td>\n",
       "      <td>...</td>\n",
       "      <td>...</td>\n",
       "      <td>...</td>\n",
       "      <td>...</td>\n",
       "      <td>...</td>\n",
       "      <td>...</td>\n",
       "      <td>...</td>\n",
       "      <td>...</td>\n",
       "      <td>...</td>\n",
       "      <td>...</td>\n",
       "      <td>...</td>\n",
       "      <td>...</td>\n",
       "      <td>...</td>\n",
       "      <td>...</td>\n",
       "      <td>...</td>\n",
       "      <td>...</td>\n",
       "      <td>...</td>\n",
       "      <td>...</td>\n",
       "      <td>...</td>\n",
       "      <td>...</td>\n",
       "    </tr>\n",
       "    <tr>\n",
       "      <th>293827</th>\n",
       "      <td>H</td>\n",
       "      <td>2018HU1400791</td>\n",
       "      <td>3</td>\n",
       "      <td>401</td>\n",
       "      <td>2</td>\n",
       "      <td>17</td>\n",
       "      <td>1000000</td>\n",
       "      <td>1013097</td>\n",
       "      <td>21</td>\n",
       "      <td>0</td>\n",
       "      <td>...</td>\n",
       "      <td>39</td>\n",
       "      <td>6</td>\n",
       "      <td>22</td>\n",
       "      <td>6</td>\n",
       "      <td>6</td>\n",
       "      <td>23</td>\n",
       "      <td>24</td>\n",
       "      <td>23</td>\n",
       "      <td>22</td>\n",
       "      <td>6</td>\n",
       "    </tr>\n",
       "    <tr>\n",
       "      <th>293828</th>\n",
       "      <td>H</td>\n",
       "      <td>2018HU1400807</td>\n",
       "      <td>3</td>\n",
       "      <td>3208</td>\n",
       "      <td>2</td>\n",
       "      <td>17</td>\n",
       "      <td>1000000</td>\n",
       "      <td>1013097</td>\n",
       "      <td>18</td>\n",
       "      <td>4</td>\n",
       "      <td>...</td>\n",
       "      <td>6</td>\n",
       "      <td>16</td>\n",
       "      <td>6</td>\n",
       "      <td>5</td>\n",
       "      <td>19</td>\n",
       "      <td>6</td>\n",
       "      <td>31</td>\n",
       "      <td>19</td>\n",
       "      <td>16</td>\n",
       "      <td>17</td>\n",
       "    </tr>\n",
       "    <tr>\n",
       "      <th>293829</th>\n",
       "      <td>H</td>\n",
       "      <td>2018HU1400835</td>\n",
       "      <td>3</td>\n",
       "      <td>2601</td>\n",
       "      <td>2</td>\n",
       "      <td>17</td>\n",
       "      <td>1000000</td>\n",
       "      <td>1013097</td>\n",
       "      <td>24</td>\n",
       "      <td>2</td>\n",
       "      <td>...</td>\n",
       "      <td>36</td>\n",
       "      <td>7</td>\n",
       "      <td>25</td>\n",
       "      <td>42</td>\n",
       "      <td>33</td>\n",
       "      <td>19</td>\n",
       "      <td>25</td>\n",
       "      <td>25</td>\n",
       "      <td>24</td>\n",
       "      <td>23</td>\n",
       "    </tr>\n",
       "    <tr>\n",
       "      <th>293830</th>\n",
       "      <td>H</td>\n",
       "      <td>2018HU1400870</td>\n",
       "      <td>3</td>\n",
       "      <td>3407</td>\n",
       "      <td>2</td>\n",
       "      <td>17</td>\n",
       "      <td>1000000</td>\n",
       "      <td>1013097</td>\n",
       "      <td>24</td>\n",
       "      <td>2</td>\n",
       "      <td>...</td>\n",
       "      <td>39</td>\n",
       "      <td>23</td>\n",
       "      <td>7</td>\n",
       "      <td>24</td>\n",
       "      <td>7</td>\n",
       "      <td>46</td>\n",
       "      <td>24</td>\n",
       "      <td>7</td>\n",
       "      <td>7</td>\n",
       "      <td>23</td>\n",
       "    </tr>\n",
       "    <tr>\n",
       "      <th>293831</th>\n",
       "      <td>H</td>\n",
       "      <td>2018HU1400911</td>\n",
       "      <td>3</td>\n",
       "      <td>3309</td>\n",
       "      <td>2</td>\n",
       "      <td>17</td>\n",
       "      <td>1000000</td>\n",
       "      <td>1013097</td>\n",
       "      <td>24</td>\n",
       "      <td>4</td>\n",
       "      <td>...</td>\n",
       "      <td>7</td>\n",
       "      <td>21</td>\n",
       "      <td>7</td>\n",
       "      <td>28</td>\n",
       "      <td>22</td>\n",
       "      <td>7</td>\n",
       "      <td>22</td>\n",
       "      <td>42</td>\n",
       "      <td>6</td>\n",
       "      <td>26</td>\n",
       "    </tr>\n",
       "  </tbody>\n",
       "</table>\n",
       "<p>293832 rows × 237 columns</p>\n",
       "</div>"
      ],
      "text/plain": [
       "       RT       SERIALNO  DIVISION  PUMA  REGION  ST   ADJHSG   ADJINC  WGTP  \\\n",
       "0       H  2014000000015         3  3108       2  17  1061728  1070673    13   \n",
       "1       H  2014000000029         3  2501       2  17  1061728  1070673     3   \n",
       "2       H  2014000000041         3  3502       2  17  1061728  1070673    31   \n",
       "3       H  2014000000113         3  3526       2  17  1061728  1070673     7   \n",
       "4       H  2014000000125         3  1105       2  17  1061728  1070673     0   \n",
       "...    ..            ...       ...   ...     ...  ..      ...      ...   ...   \n",
       "293827  H  2018HU1400791         3   401       2  17  1000000  1013097    21   \n",
       "293828  H  2018HU1400807         3  3208       2  17  1000000  1013097    18   \n",
       "293829  H  2018HU1400835         3  2601       2  17  1000000  1013097    24   \n",
       "293830  H  2018HU1400870         3  3407       2  17  1000000  1013097    24   \n",
       "293831  H  2018HU1400911         3  3309       2  17  1000000  1013097    24   \n",
       "\n",
       "        NP  ...  WGTP71  WGTP72  WGTP73  WGTP74  WGTP75  WGTP76  WGTP77  \\\n",
       "0        4  ...       4      15      25      24      15      13      11   \n",
       "1        2  ...       4       4       7       8       7       8       4   \n",
       "2        1  ...      25      38      49      53       9      26      34   \n",
       "3        2  ...       2       7       5       7       7      12       3   \n",
       "4        1  ...       0       0       0       0       0       0       0   \n",
       "...     ..  ...     ...     ...     ...     ...     ...     ...     ...   \n",
       "293827   0  ...      39       6      22       6       6      23      24   \n",
       "293828   4  ...       6      16       6       5      19       6      31   \n",
       "293829   2  ...      36       7      25      42      33      19      25   \n",
       "293830   2  ...      39      23       7      24       7      46      24   \n",
       "293831   4  ...       7      21       7      28      22       7      22   \n",
       "\n",
       "        WGTP78  WGTP79  WGTP80  \n",
       "0           15      14      24  \n",
       "1            6       4       7  \n",
       "2           24       9      14  \n",
       "3            6       8      11  \n",
       "4            0       0       0  \n",
       "...        ...     ...     ...  \n",
       "293827      23      22       6  \n",
       "293828      19      16      17  \n",
       "293829      25      24      23  \n",
       "293830       7       7      23  \n",
       "293831      42       6      26  \n",
       "\n",
       "[293832 rows x 237 columns]"
      ]
     },
     "execution_count": 3,
     "metadata": {},
     "output_type": "execute_result"
    }
   ],
   "source": [
    "df"
   ]
  },
  {
   "cell_type": "code",
   "execution_count": 4,
   "metadata": {},
   "outputs": [],
   "source": [
    "target=df.HINCP.dropna()"
   ]
  },
  {
   "cell_type": "code",
   "execution_count": 5,
   "metadata": {},
   "outputs": [],
   "source": [
    "new_df=df.merge(target,how=\"inner\",right_index=True,left_index=True)"
   ]
  },
  {
   "cell_type": "code",
   "execution_count": 6,
   "metadata": {},
   "outputs": [],
   "source": [
    "X=new_df[[\"WGTP13\",\"WGTP20\"]]\n",
    "y=new_df[\"HINCP_y\"]"
   ]
  },
  {
   "cell_type": "code",
   "execution_count": 7,
   "metadata": {},
   "outputs": [],
   "source": [
    "X_train, X_test,y_train, y_test=train_test_split(X,y,train_size=.8)"
   ]
  },
  {
   "cell_type": "code",
   "execution_count": 8,
   "metadata": {},
   "outputs": [],
   "source": [
    "lr=LinearRegression()\n"
   ]
  },
  {
   "cell_type": "code",
   "execution_count": 9,
   "metadata": {},
   "outputs": [
    {
     "data": {
      "text/plain": [
       "LinearRegression()"
      ]
     },
     "execution_count": 9,
     "metadata": {},
     "output_type": "execute_result"
    }
   ],
   "source": [
    "lr.fit(X_train,y_train)"
   ]
  },
  {
   "cell_type": "code",
   "execution_count": 10,
   "metadata": {},
   "outputs": [
    {
     "data": {
      "text/plain": [
       "array([-31.98325892, -23.88675878])"
      ]
     },
     "execution_count": 10,
     "metadata": {},
     "output_type": "execute_result"
    }
   ],
   "source": [
    "lr.coef_"
   ]
  },
  {
   "cell_type": "code",
   "execution_count": 11,
   "metadata": {},
   "outputs": [
    {
     "data": {
      "text/plain": [
       "2"
      ]
     },
     "execution_count": 11,
     "metadata": {},
     "output_type": "execute_result"
    }
   ],
   "source": [
    "lr.\n"
   ]
  },
  {
   "cell_type": "code",
   "execution_count": 17,
   "metadata": {},
   "outputs": [
    {
     "data": {
      "text/plain": [
       "0.00010604562776839188"
      ]
     },
     "execution_count": 17,
     "metadata": {},
     "output_type": "execute_result"
    }
   ],
   "source": [
    "lr.score(X_train,y_train)"
   ]
  },
  {
   "cell_type": "code",
   "execution_count": 18,
   "metadata": {},
   "outputs": [
    {
     "data": {
      "text/plain": [
       "0.00019777105872387235"
      ]
     },
     "execution_count": 18,
     "metadata": {},
     "output_type": "execute_result"
    }
   ],
   "source": [
    "lr.score(X_test,y_test)"
   ]
  },
  {
   "cell_type": "markdown",
   "metadata": {},
   "source": [
    "Trying OLS Linear regression it has more useful test."
   ]
  },
  {
   "cell_type": "code",
   "execution_count": 13,
   "metadata": {},
   "outputs": [],
   "source": [
    "df=pd.read_csv(\"Imputed.csv\")"
   ]
  },
  {
   "cell_type": "code",
   "execution_count": 15,
   "metadata": {},
   "outputs": [
    {
     "data": {
      "text/html": [
       "<div>\n",
       "<style scoped>\n",
       "    .dataframe tbody tr th:only-of-type {\n",
       "        vertical-align: middle;\n",
       "    }\n",
       "\n",
       "    .dataframe tbody tr th {\n",
       "        vertical-align: top;\n",
       "    }\n",
       "\n",
       "    .dataframe thead th {\n",
       "        text-align: right;\n",
       "    }\n",
       "</style>\n",
       "<table border=\"1\" class=\"dataframe\">\n",
       "  <thead>\n",
       "    <tr style=\"text-align: right;\">\n",
       "      <th></th>\n",
       "      <th>Unnamed: 0</th>\n",
       "      <th>HINCP_x</th>\n",
       "      <th>SMOCP</th>\n",
       "      <th>PUMA</th>\n",
       "      <th>NP</th>\n",
       "      <th>BDSP</th>\n",
       "      <th>INSP</th>\n",
       "      <th>RMSP</th>\n",
       "      <th>VALP</th>\n",
       "      <th>TAXAMT</th>\n",
       "    </tr>\n",
       "  </thead>\n",
       "  <tbody>\n",
       "    <tr>\n",
       "      <th>0</th>\n",
       "      <td>0</td>\n",
       "      <td>47900.0</td>\n",
       "      <td>260.0</td>\n",
       "      <td>3108</td>\n",
       "      <td>4</td>\n",
       "      <td>3.0</td>\n",
       "      <td>260.0</td>\n",
       "      <td>6.0</td>\n",
       "      <td>260.0</td>\n",
       "      <td>260.0</td>\n",
       "    </tr>\n",
       "    <tr>\n",
       "      <th>1</th>\n",
       "      <td>1</td>\n",
       "      <td>36100.0</td>\n",
       "      <td>691.0</td>\n",
       "      <td>2501</td>\n",
       "      <td>2</td>\n",
       "      <td>3.0</td>\n",
       "      <td>600.0</td>\n",
       "      <td>6.0</td>\n",
       "      <td>35000.0</td>\n",
       "      <td>525.0</td>\n",
       "    </tr>\n",
       "    <tr>\n",
       "      <th>2</th>\n",
       "      <td>2</td>\n",
       "      <td>100000.0</td>\n",
       "      <td>260.0</td>\n",
       "      <td>3502</td>\n",
       "      <td>1</td>\n",
       "      <td>0.0</td>\n",
       "      <td>260.0</td>\n",
       "      <td>1.0</td>\n",
       "      <td>260.0</td>\n",
       "      <td>260.0</td>\n",
       "    </tr>\n",
       "    <tr>\n",
       "      <th>3</th>\n",
       "      <td>3</td>\n",
       "      <td>45000.0</td>\n",
       "      <td>260.0</td>\n",
       "      <td>3526</td>\n",
       "      <td>2</td>\n",
       "      <td>2.0</td>\n",
       "      <td>260.0</td>\n",
       "      <td>5.0</td>\n",
       "      <td>260.0</td>\n",
       "      <td>260.0</td>\n",
       "    </tr>\n",
       "    <tr>\n",
       "      <th>4</th>\n",
       "      <td>6</td>\n",
       "      <td>88000.0</td>\n",
       "      <td>603.0</td>\n",
       "      <td>1204</td>\n",
       "      <td>3</td>\n",
       "      <td>2.0</td>\n",
       "      <td>20.0</td>\n",
       "      <td>4.0</td>\n",
       "      <td>140.0</td>\n",
       "      <td>525.0</td>\n",
       "    </tr>\n",
       "    <tr>\n",
       "      <th>...</th>\n",
       "      <td>...</td>\n",
       "      <td>...</td>\n",
       "      <td>...</td>\n",
       "      <td>...</td>\n",
       "      <td>...</td>\n",
       "      <td>...</td>\n",
       "      <td>...</td>\n",
       "      <td>...</td>\n",
       "      <td>...</td>\n",
       "      <td>...</td>\n",
       "    </tr>\n",
       "    <tr>\n",
       "      <th>246497</th>\n",
       "      <td>293826</td>\n",
       "      <td>30000.0</td>\n",
       "      <td>1366.0</td>\n",
       "      <td>3208</td>\n",
       "      <td>1</td>\n",
       "      <td>4.0</td>\n",
       "      <td>0.0</td>\n",
       "      <td>11.0</td>\n",
       "      <td>150000.0</td>\n",
       "      <td>6500.0</td>\n",
       "    </tr>\n",
       "    <tr>\n",
       "      <th>246498</th>\n",
       "      <td>293828</td>\n",
       "      <td>150000.0</td>\n",
       "      <td>2603.0</td>\n",
       "      <td>3208</td>\n",
       "      <td>4</td>\n",
       "      <td>4.0</td>\n",
       "      <td>1200.0</td>\n",
       "      <td>8.0</td>\n",
       "      <td>275000.0</td>\n",
       "      <td>10500.0</td>\n",
       "    </tr>\n",
       "    <tr>\n",
       "      <th>246499</th>\n",
       "      <td>293829</td>\n",
       "      <td>85000.0</td>\n",
       "      <td>751.0</td>\n",
       "      <td>2601</td>\n",
       "      <td>2</td>\n",
       "      <td>3.0</td>\n",
       "      <td>550.0</td>\n",
       "      <td>6.0</td>\n",
       "      <td>145000.0</td>\n",
       "      <td>5750.0</td>\n",
       "    </tr>\n",
       "    <tr>\n",
       "      <th>246500</th>\n",
       "      <td>293830</td>\n",
       "      <td>117500.0</td>\n",
       "      <td>1168.0</td>\n",
       "      <td>3407</td>\n",
       "      <td>2</td>\n",
       "      <td>4.0</td>\n",
       "      <td>990.0</td>\n",
       "      <td>10.0</td>\n",
       "      <td>500000.0</td>\n",
       "      <td>11500.0</td>\n",
       "    </tr>\n",
       "    <tr>\n",
       "      <th>246501</th>\n",
       "      <td>293831</td>\n",
       "      <td>89000.0</td>\n",
       "      <td>260.0</td>\n",
       "      <td>3309</td>\n",
       "      <td>4</td>\n",
       "      <td>2.0</td>\n",
       "      <td>260.0</td>\n",
       "      <td>4.0</td>\n",
       "      <td>260.0</td>\n",
       "      <td>260.0</td>\n",
       "    </tr>\n",
       "  </tbody>\n",
       "</table>\n",
       "<p>246502 rows × 10 columns</p>\n",
       "</div>"
      ],
      "text/plain": [
       "        Unnamed: 0   HINCP_x   SMOCP  PUMA  NP  BDSP    INSP  RMSP      VALP  \\\n",
       "0                0   47900.0   260.0  3108   4   3.0   260.0   6.0     260.0   \n",
       "1                1   36100.0   691.0  2501   2   3.0   600.0   6.0   35000.0   \n",
       "2                2  100000.0   260.0  3502   1   0.0   260.0   1.0     260.0   \n",
       "3                3   45000.0   260.0  3526   2   2.0   260.0   5.0     260.0   \n",
       "4                6   88000.0   603.0  1204   3   2.0    20.0   4.0     140.0   \n",
       "...            ...       ...     ...   ...  ..   ...     ...   ...       ...   \n",
       "246497      293826   30000.0  1366.0  3208   1   4.0     0.0  11.0  150000.0   \n",
       "246498      293828  150000.0  2603.0  3208   4   4.0  1200.0   8.0  275000.0   \n",
       "246499      293829   85000.0   751.0  2601   2   3.0   550.0   6.0  145000.0   \n",
       "246500      293830  117500.0  1168.0  3407   2   4.0   990.0  10.0  500000.0   \n",
       "246501      293831   89000.0   260.0  3309   4   2.0   260.0   4.0     260.0   \n",
       "\n",
       "         TAXAMT  \n",
       "0         260.0  \n",
       "1         525.0  \n",
       "2         260.0  \n",
       "3         260.0  \n",
       "4         525.0  \n",
       "...         ...  \n",
       "246497   6500.0  \n",
       "246498  10500.0  \n",
       "246499   5750.0  \n",
       "246500  11500.0  \n",
       "246501    260.0  \n",
       "\n",
       "[246502 rows x 10 columns]"
      ]
     },
     "execution_count": 15,
     "metadata": {},
     "output_type": "execute_result"
    }
   ],
   "source": [
    "df"
   ]
  },
  {
   "cell_type": "code",
   "execution_count": 16,
   "metadata": {},
   "outputs": [],
   "source": [
    "fsm_ols=pd.DataFrame([df.HINCP_x,df.TAXAMT])"
   ]
  },
  {
   "cell_type": "code",
   "execution_count": 17,
   "metadata": {},
   "outputs": [
    {
     "data": {
      "text/html": [
       "<div>\n",
       "<style scoped>\n",
       "    .dataframe tbody tr th:only-of-type {\n",
       "        vertical-align: middle;\n",
       "    }\n",
       "\n",
       "    .dataframe tbody tr th {\n",
       "        vertical-align: top;\n",
       "    }\n",
       "\n",
       "    .dataframe thead th {\n",
       "        text-align: right;\n",
       "    }\n",
       "</style>\n",
       "<table border=\"1\" class=\"dataframe\">\n",
       "  <thead>\n",
       "    <tr style=\"text-align: right;\">\n",
       "      <th></th>\n",
       "      <th>0</th>\n",
       "      <th>1</th>\n",
       "      <th>2</th>\n",
       "      <th>3</th>\n",
       "      <th>4</th>\n",
       "      <th>5</th>\n",
       "      <th>6</th>\n",
       "      <th>7</th>\n",
       "      <th>8</th>\n",
       "      <th>9</th>\n",
       "      <th>...</th>\n",
       "      <th>246492</th>\n",
       "      <th>246493</th>\n",
       "      <th>246494</th>\n",
       "      <th>246495</th>\n",
       "      <th>246496</th>\n",
       "      <th>246497</th>\n",
       "      <th>246498</th>\n",
       "      <th>246499</th>\n",
       "      <th>246500</th>\n",
       "      <th>246501</th>\n",
       "    </tr>\n",
       "  </thead>\n",
       "  <tbody>\n",
       "    <tr>\n",
       "      <th>HINCP_x</th>\n",
       "      <td>47900.0</td>\n",
       "      <td>36100.0</td>\n",
       "      <td>100000.0</td>\n",
       "      <td>45000.0</td>\n",
       "      <td>88000.0</td>\n",
       "      <td>56000.0</td>\n",
       "      <td>43020.0</td>\n",
       "      <td>35400.0</td>\n",
       "      <td>21500.0</td>\n",
       "      <td>8600.0</td>\n",
       "      <td>...</td>\n",
       "      <td>51000.0</td>\n",
       "      <td>26000.0</td>\n",
       "      <td>91000.0</td>\n",
       "      <td>148950.0</td>\n",
       "      <td>28800.0</td>\n",
       "      <td>30000.0</td>\n",
       "      <td>150000.0</td>\n",
       "      <td>85000.0</td>\n",
       "      <td>117500.0</td>\n",
       "      <td>89000.0</td>\n",
       "    </tr>\n",
       "    <tr>\n",
       "      <th>TAXAMT</th>\n",
       "      <td>260.0</td>\n",
       "      <td>525.0</td>\n",
       "      <td>260.0</td>\n",
       "      <td>260.0</td>\n",
       "      <td>525.0</td>\n",
       "      <td>0.0</td>\n",
       "      <td>260.0</td>\n",
       "      <td>2150.0</td>\n",
       "      <td>3150.0</td>\n",
       "      <td>260.0</td>\n",
       "      <td>...</td>\n",
       "      <td>260.0</td>\n",
       "      <td>1850.0</td>\n",
       "      <td>2450.0</td>\n",
       "      <td>4050.0</td>\n",
       "      <td>6500.0</td>\n",
       "      <td>6500.0</td>\n",
       "      <td>10500.0</td>\n",
       "      <td>5750.0</td>\n",
       "      <td>11500.0</td>\n",
       "      <td>260.0</td>\n",
       "    </tr>\n",
       "  </tbody>\n",
       "</table>\n",
       "<p>2 rows × 246502 columns</p>\n",
       "</div>"
      ],
      "text/plain": [
       "          0        1         2        3        4        5        6       \\\n",
       "HINCP_x  47900.0  36100.0  100000.0  45000.0  88000.0  56000.0  43020.0   \n",
       "TAXAMT     260.0    525.0     260.0    260.0    525.0      0.0    260.0   \n",
       "\n",
       "          7        8       9       ...   246492   246493   246494    246495  \\\n",
       "HINCP_x  35400.0  21500.0  8600.0  ...  51000.0  26000.0  91000.0  148950.0   \n",
       "TAXAMT    2150.0   3150.0   260.0  ...    260.0   1850.0   2450.0    4050.0   \n",
       "\n",
       "          246496   246497    246498   246499    246500   246501  \n",
       "HINCP_x  28800.0  30000.0  150000.0  85000.0  117500.0  89000.0  \n",
       "TAXAMT    6500.0   6500.0   10500.0   5750.0   11500.0    260.0  \n",
       "\n",
       "[2 rows x 246502 columns]"
      ]
     },
     "execution_count": 17,
     "metadata": {},
     "output_type": "execute_result"
    }
   ],
   "source": [
    "fsm_ols"
   ]
  },
  {
   "cell_type": "code",
   "execution_count": 20,
   "metadata": {},
   "outputs": [],
   "source": [
    "fsm_ols=fsm_ols.T"
   ]
  },
  {
   "cell_type": "code",
   "execution_count": 21,
   "metadata": {},
   "outputs": [
    {
     "data": {
      "text/html": [
       "<div>\n",
       "<style scoped>\n",
       "    .dataframe tbody tr th:only-of-type {\n",
       "        vertical-align: middle;\n",
       "    }\n",
       "\n",
       "    .dataframe tbody tr th {\n",
       "        vertical-align: top;\n",
       "    }\n",
       "\n",
       "    .dataframe thead th {\n",
       "        text-align: right;\n",
       "    }\n",
       "</style>\n",
       "<table border=\"1\" class=\"dataframe\">\n",
       "  <thead>\n",
       "    <tr style=\"text-align: right;\">\n",
       "      <th></th>\n",
       "      <th>HINCP_x</th>\n",
       "      <th>TAXAMT</th>\n",
       "    </tr>\n",
       "  </thead>\n",
       "  <tbody>\n",
       "    <tr>\n",
       "      <th>0</th>\n",
       "      <td>47900.0</td>\n",
       "      <td>260.0</td>\n",
       "    </tr>\n",
       "    <tr>\n",
       "      <th>1</th>\n",
       "      <td>36100.0</td>\n",
       "      <td>525.0</td>\n",
       "    </tr>\n",
       "    <tr>\n",
       "      <th>2</th>\n",
       "      <td>100000.0</td>\n",
       "      <td>260.0</td>\n",
       "    </tr>\n",
       "    <tr>\n",
       "      <th>3</th>\n",
       "      <td>45000.0</td>\n",
       "      <td>260.0</td>\n",
       "    </tr>\n",
       "    <tr>\n",
       "      <th>4</th>\n",
       "      <td>88000.0</td>\n",
       "      <td>525.0</td>\n",
       "    </tr>\n",
       "    <tr>\n",
       "      <th>...</th>\n",
       "      <td>...</td>\n",
       "      <td>...</td>\n",
       "    </tr>\n",
       "    <tr>\n",
       "      <th>246497</th>\n",
       "      <td>30000.0</td>\n",
       "      <td>6500.0</td>\n",
       "    </tr>\n",
       "    <tr>\n",
       "      <th>246498</th>\n",
       "      <td>150000.0</td>\n",
       "      <td>10500.0</td>\n",
       "    </tr>\n",
       "    <tr>\n",
       "      <th>246499</th>\n",
       "      <td>85000.0</td>\n",
       "      <td>5750.0</td>\n",
       "    </tr>\n",
       "    <tr>\n",
       "      <th>246500</th>\n",
       "      <td>117500.0</td>\n",
       "      <td>11500.0</td>\n",
       "    </tr>\n",
       "    <tr>\n",
       "      <th>246501</th>\n",
       "      <td>89000.0</td>\n",
       "      <td>260.0</td>\n",
       "    </tr>\n",
       "  </tbody>\n",
       "</table>\n",
       "<p>246502 rows × 2 columns</p>\n",
       "</div>"
      ],
      "text/plain": [
       "         HINCP_x   TAXAMT\n",
       "0        47900.0    260.0\n",
       "1        36100.0    525.0\n",
       "2       100000.0    260.0\n",
       "3        45000.0    260.0\n",
       "4        88000.0    525.0\n",
       "...          ...      ...\n",
       "246497   30000.0   6500.0\n",
       "246498  150000.0  10500.0\n",
       "246499   85000.0   5750.0\n",
       "246500  117500.0  11500.0\n",
       "246501   89000.0    260.0\n",
       "\n",
       "[246502 rows x 2 columns]"
      ]
     },
     "execution_count": 21,
     "metadata": {},
     "output_type": "execute_result"
    }
   ],
   "source": [
    "fsm_ols"
   ]
  },
  {
   "cell_type": "code",
   "execution_count": 24,
   "metadata": {},
   "outputs": [],
   "source": [
    "formula=\"HINCP_x ~ TAXAMT\""
   ]
  },
  {
   "cell_type": "code",
   "execution_count": 25,
   "metadata": {},
   "outputs": [],
   "source": [
    "fsm=ols(formula=formula,data=fsm_ols).fit()"
   ]
  },
  {
   "cell_type": "code",
   "execution_count": 27,
   "metadata": {},
   "outputs": [
    {
     "data": {
      "text/html": [
       "<table class=\"simpletable\">\n",
       "<caption>OLS Regression Results</caption>\n",
       "<tr>\n",
       "  <th>Dep. Variable:</th>         <td>HINCP_x</td>     <th>  R-squared:         </th>  <td>   0.276</td>  \n",
       "</tr>\n",
       "<tr>\n",
       "  <th>Model:</th>                   <td>OLS</td>       <th>  Adj. R-squared:    </th>  <td>   0.276</td>  \n",
       "</tr>\n",
       "<tr>\n",
       "  <th>Method:</th>             <td>Least Squares</td>  <th>  F-statistic:       </th>  <td>9.404e+04</td> \n",
       "</tr>\n",
       "<tr>\n",
       "  <th>Date:</th>             <td>Wed, 05 Aug 2020</td> <th>  Prob (F-statistic):</th>   <td>  0.00</td>   \n",
       "</tr>\n",
       "<tr>\n",
       "  <th>Time:</th>                 <td>23:52:29</td>     <th>  Log-Likelihood:    </th> <td>-3.1308e+06</td>\n",
       "</tr>\n",
       "<tr>\n",
       "  <th>No. Observations:</th>      <td>246502</td>      <th>  AIC:               </th>  <td>6.262e+06</td> \n",
       "</tr>\n",
       "<tr>\n",
       "  <th>Df Residuals:</th>          <td>246500</td>      <th>  BIC:               </th>  <td>6.262e+06</td> \n",
       "</tr>\n",
       "<tr>\n",
       "  <th>Df Model:</th>              <td>     1</td>      <th>                     </th>      <td> </td>     \n",
       "</tr>\n",
       "<tr>\n",
       "  <th>Covariance Type:</th>      <td>nonrobust</td>    <th>                     </th>      <td> </td>     \n",
       "</tr>\n",
       "</table>\n",
       "<table class=\"simpletable\">\n",
       "<tr>\n",
       "      <td></td>         <th>coef</th>     <th>std err</th>      <th>t</th>      <th>P>|t|</th>  <th>[0.025</th>    <th>0.975]</th>  \n",
       "</tr>\n",
       "<tr>\n",
       "  <th>Intercept</th> <td> 4.333e+04</td> <td>  213.598</td> <td>  202.847</td> <td> 0.000</td> <td> 4.29e+04</td> <td> 4.37e+04</td>\n",
       "</tr>\n",
       "<tr>\n",
       "  <th>TAXAMT</th>    <td>   12.7733</td> <td>    0.042</td> <td>  306.661</td> <td> 0.000</td> <td>   12.692</td> <td>   12.855</td>\n",
       "</tr>\n",
       "</table>\n",
       "<table class=\"simpletable\">\n",
       "<tr>\n",
       "  <th>Omnibus:</th>       <td>184857.235</td> <th>  Durbin-Watson:     </th>  <td>   1.994</td>  \n",
       "</tr>\n",
       "<tr>\n",
       "  <th>Prob(Omnibus):</th>   <td> 0.000</td>   <th>  Jarque-Bera (JB):  </th> <td>5846825.414</td>\n",
       "</tr>\n",
       "<tr>\n",
       "  <th>Skew:</th>            <td> 3.311</td>   <th>  Prob(JB):          </th>  <td>    0.00</td>  \n",
       "</tr>\n",
       "<tr>\n",
       "  <th>Kurtosis:</th>        <td>25.922</td>   <th>  Cond. No.          </th>  <td>6.85e+03</td>  \n",
       "</tr>\n",
       "</table><br/><br/>Warnings:<br/>[1] Standard Errors assume that the covariance matrix of the errors is correctly specified.<br/>[2] The condition number is large, 6.85e+03. This might indicate that there are<br/>strong multicollinearity or other numerical problems."
      ],
      "text/plain": [
       "<class 'statsmodels.iolib.summary.Summary'>\n",
       "\"\"\"\n",
       "                            OLS Regression Results                            \n",
       "==============================================================================\n",
       "Dep. Variable:                HINCP_x   R-squared:                       0.276\n",
       "Model:                            OLS   Adj. R-squared:                  0.276\n",
       "Method:                 Least Squares   F-statistic:                 9.404e+04\n",
       "Date:                Wed, 05 Aug 2020   Prob (F-statistic):               0.00\n",
       "Time:                        23:52:29   Log-Likelihood:            -3.1308e+06\n",
       "No. Observations:              246502   AIC:                         6.262e+06\n",
       "Df Residuals:                  246500   BIC:                         6.262e+06\n",
       "Df Model:                           1                                         \n",
       "Covariance Type:            nonrobust                                         \n",
       "==============================================================================\n",
       "                 coef    std err          t      P>|t|      [0.025      0.975]\n",
       "------------------------------------------------------------------------------\n",
       "Intercept   4.333e+04    213.598    202.847      0.000    4.29e+04    4.37e+04\n",
       "TAXAMT        12.7733      0.042    306.661      0.000      12.692      12.855\n",
       "==============================================================================\n",
       "Omnibus:                   184857.235   Durbin-Watson:                   1.994\n",
       "Prob(Omnibus):                  0.000   Jarque-Bera (JB):          5846825.414\n",
       "Skew:                           3.311   Prob(JB):                         0.00\n",
       "Kurtosis:                      25.922   Cond. No.                     6.85e+03\n",
       "==============================================================================\n",
       "\n",
       "Warnings:\n",
       "[1] Standard Errors assume that the covariance matrix of the errors is correctly specified.\n",
       "[2] The condition number is large, 6.85e+03. This might indicate that there are\n",
       "strong multicollinearity or other numerical problems.\n",
       "\"\"\""
      ]
     },
     "execution_count": 27,
     "metadata": {},
     "output_type": "execute_result"
    }
   ],
   "source": [
    "fsm.summary()"
   ]
  },
  {
   "cell_type": "markdown",
   "metadata": {},
   "source": [
    "Time for Assumptions check"
   ]
  },
  {
   "cell_type": "markdown",
   "metadata": {},
   "source": [
    "Linearity"
   ]
  },
  {
   "cell_type": "code",
   "execution_count": 30,
   "metadata": {},
   "outputs": [
    {
     "name": "stdout",
     "output_type": "stream",
     "text": [
      "Rainbow Statistic: 1.0020214097466353\n",
      "Rainbow p-value: 0.36149370035744577\n"
     ]
    }
   ],
   "source": [
    "from statsmodels.stats.diagnostic import linear_rainbow,het_breuschpagan\n",
    "from statsmodels.stats.outliers_influence import variance_inflation_factor\n",
    "\n",
    "rainbow_statisic, rainbow_p_value=linear_rainbow(fsm)\n",
    "print(\"Rainbow Statistic:\",rainbow_statisic)\n",
    "print(\"Rainbow p-value:\",rainbow_p_value)"
   ]
  },
  {
   "cell_type": "markdown",
   "metadata": {},
   "source": [
    "Normality"
   ]
  },
  {
   "cell_type": "code",
   "execution_count": 36,
   "metadata": {},
   "outputs": [
    {
     "data": {
      "image/png": "[encoded data removed]",
      "text/plain": [
       "<Figure size 432x288 with 1 Axes>"
      ]
     },
     "metadata": {
      "needs_background": "light"
     },
     "output_type": "display_data"
    }
   ],
   "source": [
    "fsm_resids=fsm.resid\n",
    "\n",
    "import statsmodels.api as sm\n",
    "sm.qqplot(fsm_resids);"
   ]
  },
  {
   "cell_type": "markdown",
   "metadata": {},
   "source": [
    "Homoscadaacity"
   ]
  },
  {
   "cell_type": "code",
   "execution_count": 37,
   "metadata": {},
   "outputs": [],
   "source": [
    "y_hat=fsm.predict()\n"
   ]
  },
  {
   "cell_type": "code",
   "execution_count": 39,
   "metadata": {},
   "outputs": [
    {
     "data": {
      "image/png": "[encoded data removed]",
      "text/plain": [
       "<Figure size 432x288 with 1 Axes>"
      ]
     },
     "metadata": {
      "needs_background": "light"
     },
     "output_type": "display_data"
    }
   ],
   "source": [
    "plt.scatter(y_hat,fsm_resids);"
   ]
  },
  {
   "cell_type": "code",
   "execution_count": 40,
   "metadata": {},
   "outputs": [
    {
     "name": "stdout",
     "output_type": "stream",
     "text": [
      "Lagrange Multipler p-value: nan\n",
      "F-Statistic p-value: 0.0\n"
     ]
    }
   ],
   "source": [
    "lm, lm_p_value, fvalue,f_p_value=het_breuschpagan(fsm_resids,fsm_ols[[\"TAXAMT\"]])\n",
    "print(\"Lagrange Multipler p-value:\", lm_p_value)\n",
    "print(\"F-Statistic p-value:\",f_p_value)"
   ]
  },
  {
   "cell_type": "code",
   "execution_count": null,
   "metadata": {},
   "outputs": [],
   "source": []
  }
 ],
 "metadata": {
  "kernelspec": {
   "display_name": "Python 3 (Capstone)",
   "language": "python",
   "name": "capstone"
  },
  "language_info": {
   "codemirror_mode": {
    "name": "ipython",
    "version": 3
   },
   "file_extension": ".py",
   "mimetype": "text/x-python",
   "name": "python",
   "nbconvert_exporter": "python",
   "pygments_lexer": "ipython3",
   "version": "3.8.3"
  }
 },
 "nbformat": 4,
 "nbformat_minor": 4
}
