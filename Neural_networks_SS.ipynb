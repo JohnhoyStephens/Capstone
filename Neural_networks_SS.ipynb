{
 "cells": [
  {
   "cell_type": "code",
   "execution_count": 1,
   "metadata": {},
   "outputs": [
    {
     "name": "stderr",
     "output_type": "stream",
     "text": [
      "Using TensorFlow backend.\n"
     ]
    }
   ],
   "source": [
    "import pandas as pd\n",
    "import numpy as np\n",
    "from keras.layers import Dense\n",
    "from keras.models import Sequential\n",
    "from sklearn.preprocessing import StandardScaler,MinMaxScaler\n",
    "from tensorflow.keras import regularizers\n",
    "from tensorflow.keras import layers\n",
    "from tensorflow.keras.callbacks import EarlyStopping \n",
    "import tensorflow as tf\n",
    "import matplotlib.pyplot as plt\n",
    "import seaborn as sns\n",
    "from sklearn.model_selection import train_test_split\n",
    "from sklearn.metrics import confusion_matrix, accuracy_score,recall_score,classification_report"
   ]
  },
  {
   "cell_type": "code",
   "execution_count": 2,
   "metadata": {},
   "outputs": [],
   "source": [
    "df=pd.read_csv(\"Imputed.csv\")"
   ]
  },
  {
   "cell_type": "code",
   "execution_count": 3,
   "metadata": {},
   "outputs": [
    {
     "data": {
      "text/html": [
       "<div>\n",
       "<style scoped>\n",
       "    .dataframe tbody tr th:only-of-type {\n",
       "        vertical-align: middle;\n",
       "    }\n",
       "\n",
       "    .dataframe tbody tr th {\n",
       "        vertical-align: top;\n",
       "    }\n",
       "\n",
       "    .dataframe thead th {\n",
       "        text-align: right;\n",
       "    }\n",
       "</style>\n",
       "<table border=\"1\" class=\"dataframe\">\n",
       "  <thead>\n",
       "    <tr style=\"text-align: right;\">\n",
       "      <th></th>\n",
       "      <th>HINCP_x</th>\n",
       "      <th>SMOCP</th>\n",
       "      <th>PUMA</th>\n",
       "      <th>NP</th>\n",
       "      <th>BDSP</th>\n",
       "      <th>INSP</th>\n",
       "      <th>RMSP</th>\n",
       "      <th>VALP</th>\n",
       "      <th>TAXAMT</th>\n",
       "      <th>ACR_&lt;1.0&gt;</th>\n",
       "      <th>...</th>\n",
       "      <th>YBL_&lt;13.0&gt;</th>\n",
       "      <th>YBL_&lt;14.0&gt;</th>\n",
       "      <th>YBL_&lt;15.0&gt;</th>\n",
       "      <th>YBL_&lt;16.0&gt;</th>\n",
       "      <th>YBL_&lt;17.0&gt;</th>\n",
       "      <th>YBL_&lt;18.0&gt;</th>\n",
       "      <th>YBL_&lt;19.0&gt;</th>\n",
       "      <th>YBL_&lt;20.0&gt;</th>\n",
       "      <th>YBL_&lt;21.0&gt;</th>\n",
       "      <th>YBL_&lt;22.0&gt;</th>\n",
       "    </tr>\n",
       "  </thead>\n",
       "  <tbody>\n",
       "    <tr>\n",
       "      <th>0</th>\n",
       "      <td>47900.0</td>\n",
       "      <td>1042.0</td>\n",
       "      <td>3108</td>\n",
       "      <td>4</td>\n",
       "      <td>3.0</td>\n",
       "      <td>890.0</td>\n",
       "      <td>6.0</td>\n",
       "      <td>165000.0</td>\n",
       "      <td>3650.0</td>\n",
       "      <td>1.0</td>\n",
       "      <td>...</td>\n",
       "      <td>0.0</td>\n",
       "      <td>0.0</td>\n",
       "      <td>0.0</td>\n",
       "      <td>0.0</td>\n",
       "      <td>0.0</td>\n",
       "      <td>0.0</td>\n",
       "      <td>0.0</td>\n",
       "      <td>0.0</td>\n",
       "      <td>0.0</td>\n",
       "      <td>0.0</td>\n",
       "    </tr>\n",
       "    <tr>\n",
       "      <th>1</th>\n",
       "      <td>36100.0</td>\n",
       "      <td>691.0</td>\n",
       "      <td>2501</td>\n",
       "      <td>2</td>\n",
       "      <td>3.0</td>\n",
       "      <td>600.0</td>\n",
       "      <td>6.0</td>\n",
       "      <td>35000.0</td>\n",
       "      <td>525.0</td>\n",
       "      <td>1.0</td>\n",
       "      <td>...</td>\n",
       "      <td>0.0</td>\n",
       "      <td>0.0</td>\n",
       "      <td>0.0</td>\n",
       "      <td>0.0</td>\n",
       "      <td>0.0</td>\n",
       "      <td>0.0</td>\n",
       "      <td>0.0</td>\n",
       "      <td>0.0</td>\n",
       "      <td>0.0</td>\n",
       "      <td>0.0</td>\n",
       "    </tr>\n",
       "    <tr>\n",
       "      <th>2</th>\n",
       "      <td>100000.0</td>\n",
       "      <td>1042.0</td>\n",
       "      <td>3502</td>\n",
       "      <td>1</td>\n",
       "      <td>0.0</td>\n",
       "      <td>890.0</td>\n",
       "      <td>1.0</td>\n",
       "      <td>165000.0</td>\n",
       "      <td>3650.0</td>\n",
       "      <td>1.0</td>\n",
       "      <td>...</td>\n",
       "      <td>0.0</td>\n",
       "      <td>0.0</td>\n",
       "      <td>0.0</td>\n",
       "      <td>0.0</td>\n",
       "      <td>0.0</td>\n",
       "      <td>0.0</td>\n",
       "      <td>0.0</td>\n",
       "      <td>0.0</td>\n",
       "      <td>0.0</td>\n",
       "      <td>0.0</td>\n",
       "    </tr>\n",
       "    <tr>\n",
       "      <th>3</th>\n",
       "      <td>45000.0</td>\n",
       "      <td>1042.0</td>\n",
       "      <td>3526</td>\n",
       "      <td>2</td>\n",
       "      <td>2.0</td>\n",
       "      <td>890.0</td>\n",
       "      <td>5.0</td>\n",
       "      <td>165000.0</td>\n",
       "      <td>3650.0</td>\n",
       "      <td>1.0</td>\n",
       "      <td>...</td>\n",
       "      <td>0.0</td>\n",
       "      <td>0.0</td>\n",
       "      <td>0.0</td>\n",
       "      <td>0.0</td>\n",
       "      <td>0.0</td>\n",
       "      <td>0.0</td>\n",
       "      <td>0.0</td>\n",
       "      <td>0.0</td>\n",
       "      <td>0.0</td>\n",
       "      <td>0.0</td>\n",
       "    </tr>\n",
       "    <tr>\n",
       "      <th>4</th>\n",
       "      <td>88000.0</td>\n",
       "      <td>603.0</td>\n",
       "      <td>1204</td>\n",
       "      <td>3</td>\n",
       "      <td>2.0</td>\n",
       "      <td>20.0</td>\n",
       "      <td>4.0</td>\n",
       "      <td>140.0</td>\n",
       "      <td>525.0</td>\n",
       "      <td>1.0</td>\n",
       "      <td>...</td>\n",
       "      <td>0.0</td>\n",
       "      <td>0.0</td>\n",
       "      <td>0.0</td>\n",
       "      <td>0.0</td>\n",
       "      <td>0.0</td>\n",
       "      <td>0.0</td>\n",
       "      <td>0.0</td>\n",
       "      <td>0.0</td>\n",
       "      <td>0.0</td>\n",
       "      <td>0.0</td>\n",
       "    </tr>\n",
       "    <tr>\n",
       "      <th>...</th>\n",
       "      <td>...</td>\n",
       "      <td>...</td>\n",
       "      <td>...</td>\n",
       "      <td>...</td>\n",
       "      <td>...</td>\n",
       "      <td>...</td>\n",
       "      <td>...</td>\n",
       "      <td>...</td>\n",
       "      <td>...</td>\n",
       "      <td>...</td>\n",
       "      <td>...</td>\n",
       "      <td>...</td>\n",
       "      <td>...</td>\n",
       "      <td>...</td>\n",
       "      <td>...</td>\n",
       "      <td>...</td>\n",
       "      <td>...</td>\n",
       "      <td>...</td>\n",
       "      <td>...</td>\n",
       "      <td>...</td>\n",
       "      <td>...</td>\n",
       "    </tr>\n",
       "    <tr>\n",
       "      <th>246497</th>\n",
       "      <td>30000.0</td>\n",
       "      <td>1366.0</td>\n",
       "      <td>3208</td>\n",
       "      <td>1</td>\n",
       "      <td>4.0</td>\n",
       "      <td>0.0</td>\n",
       "      <td>11.0</td>\n",
       "      <td>150000.0</td>\n",
       "      <td>6500.0</td>\n",
       "      <td>1.0</td>\n",
       "      <td>...</td>\n",
       "      <td>0.0</td>\n",
       "      <td>0.0</td>\n",
       "      <td>0.0</td>\n",
       "      <td>0.0</td>\n",
       "      <td>0.0</td>\n",
       "      <td>0.0</td>\n",
       "      <td>0.0</td>\n",
       "      <td>0.0</td>\n",
       "      <td>0.0</td>\n",
       "      <td>0.0</td>\n",
       "    </tr>\n",
       "    <tr>\n",
       "      <th>246498</th>\n",
       "      <td>150000.0</td>\n",
       "      <td>2603.0</td>\n",
       "      <td>3208</td>\n",
       "      <td>4</td>\n",
       "      <td>4.0</td>\n",
       "      <td>1200.0</td>\n",
       "      <td>8.0</td>\n",
       "      <td>275000.0</td>\n",
       "      <td>10500.0</td>\n",
       "      <td>1.0</td>\n",
       "      <td>...</td>\n",
       "      <td>0.0</td>\n",
       "      <td>0.0</td>\n",
       "      <td>0.0</td>\n",
       "      <td>0.0</td>\n",
       "      <td>0.0</td>\n",
       "      <td>0.0</td>\n",
       "      <td>0.0</td>\n",
       "      <td>0.0</td>\n",
       "      <td>0.0</td>\n",
       "      <td>0.0</td>\n",
       "    </tr>\n",
       "    <tr>\n",
       "      <th>246499</th>\n",
       "      <td>85000.0</td>\n",
       "      <td>751.0</td>\n",
       "      <td>2601</td>\n",
       "      <td>2</td>\n",
       "      <td>3.0</td>\n",
       "      <td>550.0</td>\n",
       "      <td>6.0</td>\n",
       "      <td>145000.0</td>\n",
       "      <td>5750.0</td>\n",
       "      <td>1.0</td>\n",
       "      <td>...</td>\n",
       "      <td>0.0</td>\n",
       "      <td>0.0</td>\n",
       "      <td>0.0</td>\n",
       "      <td>0.0</td>\n",
       "      <td>0.0</td>\n",
       "      <td>0.0</td>\n",
       "      <td>0.0</td>\n",
       "      <td>0.0</td>\n",
       "      <td>0.0</td>\n",
       "      <td>0.0</td>\n",
       "    </tr>\n",
       "    <tr>\n",
       "      <th>246500</th>\n",
       "      <td>117500.0</td>\n",
       "      <td>1168.0</td>\n",
       "      <td>3407</td>\n",
       "      <td>2</td>\n",
       "      <td>4.0</td>\n",
       "      <td>990.0</td>\n",
       "      <td>10.0</td>\n",
       "      <td>500000.0</td>\n",
       "      <td>11500.0</td>\n",
       "      <td>1.0</td>\n",
       "      <td>...</td>\n",
       "      <td>0.0</td>\n",
       "      <td>0.0</td>\n",
       "      <td>0.0</td>\n",
       "      <td>0.0</td>\n",
       "      <td>0.0</td>\n",
       "      <td>0.0</td>\n",
       "      <td>0.0</td>\n",
       "      <td>0.0</td>\n",
       "      <td>0.0</td>\n",
       "      <td>0.0</td>\n",
       "    </tr>\n",
       "    <tr>\n",
       "      <th>246501</th>\n",
       "      <td>89000.0</td>\n",
       "      <td>1042.0</td>\n",
       "      <td>3309</td>\n",
       "      <td>4</td>\n",
       "      <td>2.0</td>\n",
       "      <td>890.0</td>\n",
       "      <td>4.0</td>\n",
       "      <td>165000.0</td>\n",
       "      <td>3650.0</td>\n",
       "      <td>1.0</td>\n",
       "      <td>...</td>\n",
       "      <td>0.0</td>\n",
       "      <td>0.0</td>\n",
       "      <td>0.0</td>\n",
       "      <td>0.0</td>\n",
       "      <td>0.0</td>\n",
       "      <td>0.0</td>\n",
       "      <td>0.0</td>\n",
       "      <td>0.0</td>\n",
       "      <td>0.0</td>\n",
       "      <td>0.0</td>\n",
       "    </tr>\n",
       "  </tbody>\n",
       "</table>\n",
       "<p>246502 rows × 49 columns</p>\n",
       "</div>"
      ],
      "text/plain": [
       "         HINCP_x   SMOCP  PUMA  NP  BDSP    INSP  RMSP      VALP   TAXAMT  \\\n",
       "0        47900.0  1042.0  3108   4   3.0   890.0   6.0  165000.0   3650.0   \n",
       "1        36100.0   691.0  2501   2   3.0   600.0   6.0   35000.0    525.0   \n",
       "2       100000.0  1042.0  3502   1   0.0   890.0   1.0  165000.0   3650.0   \n",
       "3        45000.0  1042.0  3526   2   2.0   890.0   5.0  165000.0   3650.0   \n",
       "4        88000.0   603.0  1204   3   2.0    20.0   4.0     140.0    525.0   \n",
       "...          ...     ...   ...  ..   ...     ...   ...       ...      ...   \n",
       "246497   30000.0  1366.0  3208   1   4.0     0.0  11.0  150000.0   6500.0   \n",
       "246498  150000.0  2603.0  3208   4   4.0  1200.0   8.0  275000.0  10500.0   \n",
       "246499   85000.0   751.0  2601   2   3.0   550.0   6.0  145000.0   5750.0   \n",
       "246500  117500.0  1168.0  3407   2   4.0   990.0  10.0  500000.0  11500.0   \n",
       "246501   89000.0  1042.0  3309   4   2.0   890.0   4.0  165000.0   3650.0   \n",
       "\n",
       "        ACR_<1.0>  ...  YBL_<13.0>  YBL_<14.0>  YBL_<15.0>  YBL_<16.0>  \\\n",
       "0             1.0  ...         0.0         0.0         0.0         0.0   \n",
       "1             1.0  ...         0.0         0.0         0.0         0.0   \n",
       "2             1.0  ...         0.0         0.0         0.0         0.0   \n",
       "3             1.0  ...         0.0         0.0         0.0         0.0   \n",
       "4             1.0  ...         0.0         0.0         0.0         0.0   \n",
       "...           ...  ...         ...         ...         ...         ...   \n",
       "246497        1.0  ...         0.0         0.0         0.0         0.0   \n",
       "246498        1.0  ...         0.0         0.0         0.0         0.0   \n",
       "246499        1.0  ...         0.0         0.0         0.0         0.0   \n",
       "246500        1.0  ...         0.0         0.0         0.0         0.0   \n",
       "246501        1.0  ...         0.0         0.0         0.0         0.0   \n",
       "\n",
       "        YBL_<17.0>  YBL_<18.0>  YBL_<19.0>  YBL_<20.0>  YBL_<21.0>  YBL_<22.0>  \n",
       "0              0.0         0.0         0.0         0.0         0.0         0.0  \n",
       "1              0.0         0.0         0.0         0.0         0.0         0.0  \n",
       "2              0.0         0.0         0.0         0.0         0.0         0.0  \n",
       "3              0.0         0.0         0.0         0.0         0.0         0.0  \n",
       "4              0.0         0.0         0.0         0.0         0.0         0.0  \n",
       "...            ...         ...         ...         ...         ...         ...  \n",
       "246497         0.0         0.0         0.0         0.0         0.0         0.0  \n",
       "246498         0.0         0.0         0.0         0.0         0.0         0.0  \n",
       "246499         0.0         0.0         0.0         0.0         0.0         0.0  \n",
       "246500         0.0         0.0         0.0         0.0         0.0         0.0  \n",
       "246501         0.0         0.0         0.0         0.0         0.0         0.0  \n",
       "\n",
       "[246502 rows x 49 columns]"
      ]
     },
     "execution_count": 3,
     "metadata": {},
     "output_type": "execute_result"
    }
   ],
   "source": [
    "df"
   ]
  },
  {
   "cell_type": "code",
   "execution_count": 4,
   "metadata": {},
   "outputs": [],
   "source": [
    "X=df.drop(\"HINCP_x\",axis=1)\n",
    "y=df[\"HINCP_x\"]"
   ]
  },
  {
   "cell_type": "code",
   "execution_count": 5,
   "metadata": {},
   "outputs": [],
   "source": [
    "y=np.reshape(y.values,(-1,1))"
   ]
  },
  {
   "cell_type": "code",
   "execution_count": 6,
   "metadata": {},
   "outputs": [],
   "source": [
    "ss=StandardScaler()\n",
    "ssy=StandardScaler()\n",
    "min_max=MinMaxScaler()\n",
    "min_maxy=MinMaxScaler()\n",
    "\n"
   ]
  },
  {
   "cell_type": "code",
   "execution_count": 7,
   "metadata": {},
   "outputs": [],
   "source": [
    "X_train,X_test,y_train,y_test=train_test_split(X,y,train_size=.8,random_state=2020)"
   ]
  },
  {
   "cell_type": "code",
   "execution_count": 17,
   "metadata": {},
   "outputs": [],
   "source": [
    "X_train_ss=ss.fit_transform(X_train)\n",
    "y_train_ss=ssy.fit_transform(y_train)\n"
   ]
  },
  {
   "cell_type": "code",
   "execution_count": 9,
   "metadata": {},
   "outputs": [],
   "source": [
    "# X_train_mm=min_max.fit_transform(X_train)\n",
    "# y_train_mm=min_maxy.fit(y_train)\n"
   ]
  },
  {
   "cell_type": "code",
   "execution_count": 13,
   "metadata": {},
   "outputs": [],
   "source": [
    "model=Sequential()\n",
    "model.add(Dense(50 ,activation=\"relu\",input_dim=48))\n",
    "# model.add(Dense(25 ,activation=\"relu\"))\n",
    "# model.add(Dense(25 ,activation=\"relu\"))\n",
    "model.add(Dense(25 ,activation=\"relu\"))\n",
    "model.add(Dense(1, ))#activation='linear'))\n",
    "model.compile(loss='mse',optimizer=\"sgd\",metrics=[tf.keras.metrics.RootMeanSquaredError(),\"mae\"])\n",
    "# add Dropouts layers when overfitting\n",
    "#SS helps with outliers\n",
    "#add in l1\n",
    "\n",
    "# ,input_shape=(8,)"
   ]
  },
  {
   "cell_type": "code",
   "execution_count": 18,
   "metadata": {},
   "outputs": [],
   "source": [
    "model2=Sequential()\n",
    "model2.add(Dense(50 ,activation=\"relu\",input_dim=48))\n",
    "# model.add(Dense(25 ,activation=\"relu\"))\n",
    "# model.add(Dense(25 ,activation=\"relu\"))\n",
    "model2.add(Dense(25 ,activation=\"relu\"))\n",
    "model2.add(Dense(1, ))#activation='linear'))\n",
    "model2.compile(loss='mse',optimizer=\"sgd\",metrics=[tf.keras.metrics.RootMeanSquaredError(),\"mae\"])\n",
    "# add Dropouts layers when overfitting\n",
    "#SS helps with outliers\n",
    "#add in l1\n",
    "\n",
    "# ,input_shape=(8,)"
   ]
  },
  {
   "cell_type": "code",
   "execution_count": 14,
   "metadata": {},
   "outputs": [
    {
     "name": "stdout",
     "output_type": "stream",
     "text": [
      "Model: \"sequential_2\"\n",
      "_________________________________________________________________\n",
      "Layer (type)                 Output Shape              Param #   \n",
      "=================================================================\n",
      "dense_4 (Dense)              (None, 50)                2450      \n",
      "_________________________________________________________________\n",
      "dense_5 (Dense)              (None, 25)                1275      \n",
      "_________________________________________________________________\n",
      "dense_6 (Dense)              (None, 1)                 26        \n",
      "=================================================================\n",
      "Total params: 3,751\n",
      "Trainable params: 3,751\n",
      "Non-trainable params: 0\n",
      "_________________________________________________________________\n"
     ]
    }
   ],
   "source": [
    "# early_stop = EarlyStopping(monitor='val_loss', min_delta=1e-08, patience=0, verbose=1,\n",
    "#                            mode='auto')\n",
    "# callbacks_list = [early_stop]\n",
    "model.summary()"
   ]
  },
  {
   "cell_type": "code",
   "execution_count": 16,
   "metadata": {},
   "outputs": [
    {
     "name": "stdout",
     "output_type": "stream",
     "text": [
      "Train on 157760 samples, validate on 39441 samples\n",
      "Epoch 1/50\n",
      "157760/157760 [==============================] - 6s 36us/step - loss: 8657079185.9797 - root_mean_squared_error: 998147200.0000 - mae: 58090.2617 - val_loss: 9135560066.5216 - val_root_mean_squared_error: 911054464.0000 - val_mae: 58780.5430\n",
      "Epoch 2/50\n",
      "157760/157760 [==============================] - 6s 38us/step - loss: 8656520519.6187 - root_mean_squared_error: 846335616.0000 - mae: 58079.2930 - val_loss: 9136861323.0115 - val_root_mean_squared_error: 791674688.0000 - val_mae: 58647.6914\n",
      "Epoch 3/50\n",
      "157760/157760 [==============================] - 5s 34us/step - loss: 8656030192.6004 - root_mean_squared_error: 747911232.0000 - mae: 58082.8672 - val_loss: 9144409514.5563 - val_root_mean_squared_error: 709550208.0000 - val_mae: 58208.9766\n",
      "Epoch 4/50\n",
      "157760/157760 [==============================] - 5s 32us/step - loss: 8656600107.1481 - root_mean_squared_error: 677440192.0000 - mae: 58064.4492 - val_loss: 9135688195.7062 - val_root_mean_squared_error: 648619520.0000 - val_mae: 58765.3203\n",
      "Epoch 5/50\n",
      "157760/157760 [==============================] - 5s 33us/step - loss: 8656097573.3631 - root_mean_squared_error: 623771008.0000 - mae: 58070.8203 - val_loss: 9134158852.8031 - val_root_mean_squared_error: 601097792.0000 - val_mae: 59060.9688\n",
      "Epoch 6/50\n",
      "157760/157760 [==============================] - 5s 32us/step - loss: 8656584701.6876 - root_mean_squared_error: 581132096.0000 - mae: 58079.3203 - val_loss: 9134081459.8965 - val_root_mean_squared_error: 562692992.0000 - val_mae: 59167.3320\n",
      "Epoch 7/50\n",
      "157760/157760 [==============================] - 5s 33us/step - loss: 8657134367.9594 - root_mean_squared_error: 546196160.0000 - mae: 58080.6680 - val_loss: 9134178305.5708 - val_root_mean_squared_error: 530819168.0000 - val_mae: 59051.2109\n",
      "Epoch 8/50\n",
      "157760/157760 [==============================] - 5s 33us/step - loss: 8656505980.1947 - root_mean_squared_error: 516890912.0000 - mae: 58080.2383 - val_loss: 9135162986.6488 - val_root_mean_squared_error: 503812832.0000 - val_mae: 58832.9609\n",
      "Epoch 9/50\n",
      "157760/157760 [==============================] - 6s 40us/step - loss: 8656945982.3124 - root_mean_squared_error: 491849248.0000 - mae: 58073.9883 - val_loss: 9134080810.3648 - val_root_mean_squared_error: 480549152.0000 - val_mae: 59164.9102\n",
      "Epoch 10/50\n",
      "157760/157760 [==============================] - 7s 46us/step - loss: 8656560104.6734 - root_mean_squared_error: 470128224.0000 - mae: 58070.7383 - val_loss: 9136816011.7320 - val_root_mean_squared_error: 460236736.0000 - val_mae: 59669.5234\n",
      "Epoch 11/50\n",
      "157760/157760 [==============================] - 7s 43us/step - loss: 8656815137.2252 - root_mean_squared_error: 451052960.0000 - mae: 58085.1602 - val_loss: 9134078336.1396 - val_root_mean_squared_error: 442299840.0000 - val_mae: 59155.4805\n",
      "Epoch 12/50\n",
      "157760/157760 [==============================] - 7s 44us/step - loss: 8656703733.1684 - root_mean_squared_error: 434126400.0000 - mae: 58078.6562 - val_loss: 9134985214.3579 - val_root_mean_squared_error: 426308928.0000 - val_mae: 59445.0742\n",
      "Epoch 13/50\n",
      "157760/157760 [==============================] - 7s 46us/step - loss: 8656391645.0791 - root_mean_squared_error: 418973504.0000 - mae: 58088.0469 - val_loss: 9137248695.7065 - val_root_mean_squared_error: 411935776.0000 - val_mae: 58614.8867\n",
      "Epoch 14/50\n",
      "157760/157760 [==============================] - 8s 51us/step - loss: 8656548269.1034 - root_mean_squared_error: 405304096.0000 - mae: 58070.4570 - val_loss: 9134089565.9400 - val_root_mean_squared_error: 398924992.0000 - val_mae: 59181.0195\n",
      "Epoch 15/50\n",
      "157760/157760 [==============================] - 8s 50us/step - loss: 8656577548.0730 - root_mean_squared_error: 392891392.0000 - mae: 58075.3711 - val_loss: 9134249843.4307 - val_root_mean_squared_error: 387073856.0000 - val_mae: 59021.1289\n",
      "Epoch 16/50\n",
      "157760/157760 [==============================] - 5s 32us/step - loss: 8656621793.3144 - root_mean_squared_error: 381553408.0000 - mae: 58075.3281 - val_loss: 9134077911.0696 - val_root_mean_squared_error: 376219776.0000 - val_mae: 59147.8320\n",
      "Epoch 17/50\n",
      "157760/157760 [==============================] - 6s 36us/step - loss: 8656895935.7404 - root_mean_squared_error: 371143840.0000 - mae: 58091.0859 - val_loss: 9143919105.4280 - val_root_mean_squared_error: 366230528.0000 - val_mae: 58230.2617\n",
      "Epoch 18/50\n",
      "157760/157760 [==============================] - 6s 35us/step - loss: 8656842477.8174 - root_mean_squared_error: 361542176.0000 - mae: 58062.5273 - val_loss: 9136604211.3155 - val_root_mean_squared_error: 356996800.0000 - val_mae: 58670.7578\n",
      "Epoch 19/50\n",
      "157760/157760 [==============================] - 6s 37us/step - loss: 8656848408.3327 - root_mean_squared_error: 352649504.0000 - mae: 58076.6641 - val_loss: 9137431803.0346 - val_root_mean_squared_error: 348428096.0000 - val_mae: 58600.0820\n",
      "Epoch 20/50\n",
      "157760/157760 [==============================] - 6s 40us/step - loss: 8656720126.5152 - root_mean_squared_error: 344382240.0000 - mae: 58069.6484 - val_loss: 9135774865.2685 - val_root_mean_squared_error: 340448256.0000 - val_mae: 58755.2227\n",
      "Epoch 21/50\n",
      "157760/157760 [==============================] - 7s 44us/step - loss: 8656342315.6430 - root_mean_squared_error: 336670240.0000 - mae: 58079.1055 - val_loss: 9139448257.4750 - val_root_mean_squared_error: 332992480.0000 - val_mae: 58458.9297\n",
      "Epoch 22/50\n",
      "157760/157760 [==============================] - 7s 44us/step - loss: 8656109920.0568 - root_mean_squared_error: 329454400.0000 - mae: 58072.6016 - val_loss: 9141178878.4942 - val_root_mean_squared_error: 326006336.0000 - val_mae: 58361.1914\n",
      "Epoch 23/50\n",
      "157760/157760 [==============================] - 7s 46us/step - loss: 8656996771.4645 - root_mean_squared_error: 322683488.0000 - mae: 58061.8203 - val_loss: 9134330970.2663 - val_root_mean_squared_error: 319442112.0000 - val_mae: 58994.6914\n",
      "Epoch 24/50\n",
      "157760/157760 [==============================] - 7s 45us/step - loss: 8656623464.1947 - root_mean_squared_error: 316313856.0000 - mae: 58093.3008 - val_loss: 9148792886.2753 - val_root_mean_squared_error: 313259008.0000 - val_mae: 58040.3750\n",
      "Epoch 25/50\n",
      "157760/157760 [==============================] - 8s 48us/step - loss: 8657028091.1318 - root_mean_squared_error: 310307040.0000 - mae: 58060.6172 - val_loss: 9134136419.1910 - val_root_mean_squared_error: 307421664.0000 - val_mae: 59073.8320\n",
      "Epoch 26/50\n",
      "157760/157760 [==============================] - 8s 54us/step - loss: 8656598208.2515 - root_mean_squared_error: 304629696.0000 - mae: 58085.9258 - val_loss: 9136533485.4625 - val_root_mean_squared_error: 301898880.0000 - val_mae: 58677.3672\n",
      "Epoch 27/50\n",
      "157760/157760 [==============================] - 8s 53us/step - loss: 8656666223.6836 - root_mean_squared_error: 299253472.0000 - mae: 58074.8281 - val_loss: 9136656603.9506 - val_root_mean_squared_error: 296663424.0000 - val_mae: 58665.9766\n",
      "Epoch 28/50\n",
      "157760/157760 [==============================] - 7s 47us/step - loss: 8657002873.7525 - root_mean_squared_error: 294151872.0000 - mae: 58073.3477 - val_loss: 9134679252.0449 - val_root_mean_squared_error: 291691360.0000 - val_mae: 58912.6602\n",
      "Epoch 29/50\n",
      "157760/157760 [==============================] - 8s 52us/step - loss: 8656359169.8174 - root_mean_squared_error: 289302528.0000 - mae: 58069.8945 - val_loss: 9135199882.8947 - val_root_mean_squared_error: 286961184.0000 - val_mae: 59478.9570\n",
      "Epoch 30/50\n",
      "157760/157760 [==============================] - 6s 40us/step - loss: 8656109660.3813 - root_mean_squared_error: 284685632.0000 - mae: 58083.7656 - val_loss: 9137908814.0767 - val_root_mean_squared_error: 282453696.0000 - val_mae: 58563.3320\n",
      "Epoch 31/50\n",
      "157760/157760 [==============================] - 6s 35us/step - loss: 8656490869.8661 - root_mean_squared_error: 280282880.0000 - mae: 58075.1953 - val_loss: 9137643531.6703 - val_root_mean_squared_error: 278152320.0000 - val_mae: 58583.4961\n",
      "Epoch 32/50\n",
      "157760/157760 [==============================] - 5s 33us/step - loss: 8656342252.3813 - root_mean_squared_error: 276078304.0000 - mae: 58077.4023 - val_loss: 9139004549.3970 - val_root_mean_squared_error: 274041600.0000 - val_mae: 58487.1875\n",
      "Epoch 33/50\n",
      "157760/157760 [==============================] - 6s 39us/step - loss: 8656416614.5882 - root_mean_squared_error: 272057376.0000 - mae: 58061.0664 - val_loss: 9138493288.0266 - val_root_mean_squared_error: 270107968.0000 - val_mae: 59814.8945\n",
      "Epoch 34/50\n",
      "157760/157760 [==============================] - 6s 41us/step - loss: 8657144244.6815 - root_mean_squared_error: 268207280.0000 - mae: 58095.0195 - val_loss: 9136682727.8870 - val_root_mean_squared_error: 266338992.0000 - val_mae: 58663.6133\n",
      "Epoch 35/50\n",
      "157760/157760 [==============================] - 7s 44us/step - loss: 8656637908.9980 - root_mean_squared_error: 264516080.0000 - mae: 58078.4805 - val_loss: 9140685056.7724 - val_root_mean_squared_error: 262723440.0000 - val_mae: 58387.5508\n",
      "Epoch 36/50\n",
      "157760/157760 [==============================] - 7s 42us/step - loss: 8656983767.3753 - root_mean_squared_error: 260973232.0000 - mae: 58069.5312 - val_loss: 9134097997.9015 - val_root_mean_squared_error: 259251216.0000 - val_mae: 59105.0273\n",
      "Epoch 37/50\n",
      "157760/157760 [==============================] - 7s 42us/step - loss: 8655964130.4260 - root_mean_squared_error: 257568976.0000 - mae: 58076.5000 - val_loss: 9134106721.2373 - val_root_mean_squared_error: 255913200.0000 - val_mae: 59096.4766\n",
      "Epoch 38/50\n",
      "157760/157760 [==============================] - 7s 42us/step - loss: 8656819770.0609 - root_mean_squared_error: 254294752.0000 - mae: 58083.4922 - val_loss: 9140471478.4862 - val_root_mean_squared_error: 252700960.0000 - val_mae: 58399.2539\n",
      "Epoch 39/50\n",
      "157760/157760 [==============================] - 7s 42us/step - loss: 8656574269.8174 - root_mean_squared_error: 251142160.0000 - mae: 58065.3438 - val_loss: 9134419268.6263 - val_root_mean_squared_error: 249606560.0000 - val_mae: 58970.1680\n",
      "Epoch 40/50\n",
      "157760/157760 [==============================] - 7s 41us/step - loss: 8657019188.4787 - root_mean_squared_error: 248103872.0000 - mae: 58075.9766 - val_loss: 9134080785.3042 - val_root_mean_squared_error: 246623216.0000 - val_mae: 59132.0664\n",
      "Epoch 41/50\n",
      "157760/157760 [==============================] - 7s 42us/step - loss: 8656088610.7830 - root_mean_squared_error: 245173520.0000 - mae: 58082.9023 - val_loss: 9139513862.5037 - val_root_mean_squared_error: 243744336.0000 - val_mae: 58454.8711\n",
      "Epoch 42/50\n",
      "157760/157760 [==============================] - 7s 43us/step - loss: 8656508913.5254 - root_mean_squared_error: 242344160.0000 - mae: 58074.1016 - val_loss: 9141588448.2539 - val_root_mean_squared_error: 240964064.0000 - val_mae: 58340.1094\n",
      "Epoch 43/50\n",
      "157760/157760 [==============================] - 7s 43us/step - loss: 8656583652.8114 - root_mean_squared_error: 239611056.0000 - mae: 58066.4844 - val_loss: 9134123767.3349 - val_root_mean_squared_error: 238276688.0000 - val_mae: 59082.3203\n",
      "Epoch 44/50\n",
      "157760/157760 [==============================] - 7s 42us/step - loss: 8656987756.6166 - root_mean_squared_error: 236968080.0000 - mae: 58079.1836 - val_loss: 9134302376.6610 - val_root_mean_squared_error: 235677264.0000 - val_mae: 59003.4453\n",
      "Epoch 45/50\n",
      "157760/157760 [==============================] - 7s 45us/step - loss: 8656690921.9797 - root_mean_squared_error: 234410976.0000 - mae: 58073.2578 - val_loss: 9134116481.8336 - val_root_mean_squared_error: 233161104.0000 - val_mae: 59088.1836\n",
      "Epoch 46/50\n",
      "157760/157760 [==============================] - 7s 45us/step - loss: 8656792930.8966 - root_mean_squared_error: 231934496.0000 - mae: 58082.3242 - val_loss: 9136521021.0451 - val_root_mean_squared_error: 230724000.0000 - val_mae: 58678.5547\n",
      "Epoch 47/50\n",
      "157760/157760 [==============================] - 6s 36us/step - loss: 8656909162.6207 - root_mean_squared_error: 229535248.0000 - mae: 58078.7852 - val_loss: 9135288107.2800 - val_root_mean_squared_error: 228361520.0000 - val_mae: 58815.5273\n",
      "Epoch 48/50\n",
      "157760/157760 [==============================] - 7s 47us/step - loss: 8656681459.7890 - root_mean_squared_error: 227208512.0000 - mae: 58066.0117 - val_loss: 9134111611.9660 - val_root_mean_squared_error: 226070384.0000 - val_mae: 59204.5547\n",
      "Epoch 49/50\n",
      "157760/157760 [==============================] - 6s 40us/step - loss: 8656531093.6146 - root_mean_squared_error: 224951744.0000 - mae: 58087.2969 - val_loss: 9136249165.0966 - val_root_mean_squared_error: 223846688.0000 - val_mae: 58704.8164\n",
      "Epoch 50/50\n",
      "157760/157760 [==============================] - 6s 39us/step - loss: 8656780587.9513 - root_mean_squared_error: 222760416.0000 - mae: 58079.3906 - val_loss: 9139764579.2689 - val_root_mean_squared_error: 221687392.0000 - val_mae: 58439.4570\n"
     ]
    }
   ],
   "source": [
    "history=model.fit(X_train_ss,y_train,epochs=50,batch_size=50,validation_split=.2)#callbacks=callbacks_list)"
   ]
  },
  {
   "cell_type": "code",
   "execution_count": 19,
   "metadata": {},
   "outputs": [
    {
     "name": "stdout",
     "output_type": "stream",
     "text": [
      "Train on 157760 samples, validate on 39441 samples\n",
      "Epoch 1/50\n",
      "157760/157760 [==============================] - 6s 35us/step - loss: 0.6284 - root_mean_squared_error: 0.8061 - mae: 0.4660 - val_loss: 0.6451 - val_root_mean_squared_error: 0.7941 - val_mae: 0.4530\n",
      "Epoch 2/50\n",
      "157760/157760 [==============================] - 6s 35us/step - loss: 0.6035 - root_mean_squared_error: 0.7903 - mae: 0.4488 - val_loss: 0.6366 - val_root_mean_squared_error: 0.7877 - val_mae: 0.4529\n",
      "Epoch 3/50\n",
      "157760/157760 [==============================] - 6s 41us/step - loss: 0.5948 - root_mean_squared_error: 0.7847 - mae: 0.4451 - val_loss: 0.6352 - val_root_mean_squared_error: 0.7839 - val_mae: 0.4422\n",
      "Epoch 4/50\n",
      "157760/157760 [==============================] - 6s 40us/step - loss: 0.5907 - root_mean_squared_error: 0.7823 - mae: 0.4427 - val_loss: 0.6288 - val_root_mean_squared_error: 0.7813 - val_mae: 0.4440\n",
      "Epoch 5/50\n",
      "157760/157760 [==============================] - 5s 34us/step - loss: 0.5870 - root_mean_squared_error: 0.7800 - mae: 0.4409 - val_loss: 0.6257 - val_root_mean_squared_error: 0.7793 - val_mae: 0.4435\n",
      "Epoch 6/50\n",
      "157760/157760 [==============================] - 6s 35us/step - loss: 0.5835 - root_mean_squared_error: 0.7783 - mae: 0.4394 - val_loss: 0.6286 - val_root_mean_squared_error: 0.7776 - val_mae: 0.4462\n",
      "Epoch 7/50\n",
      "157760/157760 [==============================] - 5s 31us/step - loss: 0.5815 - root_mean_squared_error: 0.7770 - mae: 0.4385 - val_loss: 0.6254 - val_root_mean_squared_error: 0.7764 - val_mae: 0.4422\n",
      "Epoch 8/50\n",
      "157760/157760 [==============================] - 6s 35us/step - loss: 0.5793 - root_mean_squared_error: 0.7759 - mae: 0.4375 - val_loss: 0.6253 - val_root_mean_squared_error: 0.7752 - val_mae: 0.4519\n",
      "Epoch 9/50\n",
      "157760/157760 [==============================] - 7s 47us/step - loss: 0.5777 - root_mean_squared_error: 0.7746 - mae: 0.4366 - val_loss: 0.6227 - val_root_mean_squared_error: 0.7742 - val_mae: 0.4472\n",
      "Epoch 10/50\n",
      "157760/157760 [==============================] - 8s 48us/step - loss: 0.5760 - root_mean_squared_error: 0.7738 - mae: 0.4361 - val_loss: 0.6232 - val_root_mean_squared_error: 0.7733 - val_mae: 0.4409\n",
      "Epoch 11/50\n",
      "157760/157760 [==============================] - 8s 48us/step - loss: 0.5753 - root_mean_squared_error: 0.7729 - mae: 0.4355 - val_loss: 0.6319 - val_root_mean_squared_error: 0.7726 - val_mae: 0.4332\n",
      "Epoch 12/50\n",
      "157760/157760 [==============================] - 7s 45us/step - loss: 0.5749 - root_mean_squared_error: 0.7721 - mae: 0.4349 - val_loss: 0.6195 - val_root_mean_squared_error: 0.7719 - val_mae: 0.4385\n",
      "Epoch 13/50\n",
      "157760/157760 [==============================] - 8s 50us/step - loss: 0.5736 - root_mean_squared_error: 0.7715 - mae: 0.4346 - val_loss: 0.6196 - val_root_mean_squared_error: 0.7712 - val_mae: 0.4407\n",
      "Epoch 14/50\n",
      "157760/157760 [==============================] - 8s 50us/step - loss: 0.5724 - root_mean_squared_error: 0.7710 - mae: 0.4342 - val_loss: 0.6203 - val_root_mean_squared_error: 0.7706 - val_mae: 0.4395\n",
      "Epoch 15/50\n",
      "157760/157760 [==============================] - 8s 51us/step - loss: 0.5719 - root_mean_squared_error: 0.7704 - mae: 0.4336 - val_loss: 0.6344 - val_root_mean_squared_error: 0.7702 - val_mae: 0.4516\n",
      "Epoch 16/50\n",
      "157760/157760 [==============================] - 8s 50us/step - loss: 0.5710 - root_mean_squared_error: 0.7699 - mae: 0.4336 - val_loss: 0.6247 - val_root_mean_squared_error: 0.7697 - val_mae: 0.4547\n",
      "Epoch 17/50\n",
      "157760/157760 [==============================] - 7s 46us/step - loss: 0.5703 - root_mean_squared_error: 0.7696 - mae: 0.4333 - val_loss: 0.6251 - val_root_mean_squared_error: 0.7693 - val_mae: 0.4376\n",
      "Epoch 18/50\n",
      "157760/157760 [==============================] - 7s 46us/step - loss: 0.5697 - root_mean_squared_error: 0.7690 - mae: 0.4329 - val_loss: 0.6208 - val_root_mean_squared_error: 0.7689 - val_mae: 0.4481\n",
      "Epoch 19/50\n",
      "157760/157760 [==============================] - 7s 46us/step - loss: 0.5690 - root_mean_squared_error: 0.7687 - mae: 0.4331 - val_loss: 0.6205 - val_root_mean_squared_error: 0.7685 - val_mae: 0.4370\n",
      "Epoch 20/50\n",
      "157760/157760 [==============================] - 7s 45us/step - loss: 0.5684 - root_mean_squared_error: 0.7683 - mae: 0.4327 - val_loss: 0.6239 - val_root_mean_squared_error: 0.7681 - val_mae: 0.4343\n",
      "Epoch 21/50\n",
      "157760/157760 [==============================] - 7s 45us/step - loss: 0.5681 - root_mean_squared_error: 0.7678 - mae: 0.4324 - val_loss: 0.6354 - val_root_mean_squared_error: 0.7678 - val_mae: 0.4644\n",
      "Epoch 22/50\n",
      "157760/157760 [==============================] - 7s 47us/step - loss: 0.5677 - root_mean_squared_error: 0.7676 - mae: 0.4325 - val_loss: 0.6253 - val_root_mean_squared_error: 0.7675 - val_mae: 0.4496\n",
      "Epoch 23/50\n",
      "157760/157760 [==============================] - 7s 45us/step - loss: 0.5671 - root_mean_squared_error: 0.7674 - mae: 0.4323 - val_loss: 0.6222 - val_root_mean_squared_error: 0.7672 - val_mae: 0.4504\n",
      "Epoch 24/50\n",
      "157760/157760 [==============================] - 7s 46us/step - loss: 0.5666 - root_mean_squared_error: 0.7671 - mae: 0.4322 - val_loss: 0.6254 - val_root_mean_squared_error: 0.7670 - val_mae: 0.4325\n",
      "Epoch 25/50\n",
      "157760/157760 [==============================] - 8s 52us/step - loss: 0.5667 - root_mean_squared_error: 0.7668 - mae: 0.4319 - val_loss: 0.6240 - val_root_mean_squared_error: 0.7667 - val_mae: 0.4492\n",
      "Epoch 26/50\n",
      "157760/157760 [==============================] - 8s 50us/step - loss: 0.5659 - root_mean_squared_error: 0.7666 - mae: 0.4319 - val_loss: 0.6272 - val_root_mean_squared_error: 0.7664 - val_mae: 0.4483\n",
      "Epoch 27/50\n",
      "157760/157760 [==============================] - 8s 53us/step - loss: 0.5657 - root_mean_squared_error: 0.7663 - mae: 0.4318 - val_loss: 0.6235 - val_root_mean_squared_error: 0.7662 - val_mae: 0.4369\n",
      "Epoch 28/50\n",
      "157760/157760 [==============================] - 9s 59us/step - loss: 0.5657 - root_mean_squared_error: 0.7660 - mae: 0.4314 - val_loss: 0.6241 - val_root_mean_squared_error: 0.7660 - val_mae: 0.4473\n",
      "Epoch 29/50\n",
      "157760/157760 [==============================] - 8s 48us/step - loss: 0.5655 - root_mean_squared_error: 0.7659 - mae: 0.4318 - val_loss: 0.6217 - val_root_mean_squared_error: 0.7658 - val_mae: 0.4403\n",
      "Epoch 30/50\n",
      "157760/157760 [==============================] - 7s 46us/step - loss: 0.5641 - root_mean_squared_error: 0.7656 - mae: 0.4316 - val_loss: 0.6209 - val_root_mean_squared_error: 0.7655 - val_mae: 0.4422\n",
      "Epoch 31/50\n",
      "157760/157760 [==============================] - 8s 50us/step - loss: 0.5641 - root_mean_squared_error: 0.7654 - mae: 0.4316 - val_loss: 0.6199 - val_root_mean_squared_error: 0.7653 - val_mae: 0.4476\n",
      "Epoch 32/50\n",
      "157760/157760 [==============================] - 7s 46us/step - loss: 0.5643 - root_mean_squared_error: 0.7652 - mae: 0.4314 - val_loss: 0.6226 - val_root_mean_squared_error: 0.7651 - val_mae: 0.4349\n",
      "Epoch 33/50\n",
      "157760/157760 [==============================] - 8s 50us/step - loss: 0.5634 - root_mean_squared_error: 0.7649 - mae: 0.4311 - val_loss: 0.6211 - val_root_mean_squared_error: 0.7649 - val_mae: 0.4428\n",
      "Epoch 34/50\n",
      "157760/157760 [==============================] - 7s 46us/step - loss: 0.5631 - root_mean_squared_error: 0.7647 - mae: 0.4312 - val_loss: 0.6207 - val_root_mean_squared_error: 0.7647 - val_mae: 0.4427\n",
      "Epoch 35/50\n",
      "157760/157760 [==============================] - 7s 47us/step - loss: 0.5627 - root_mean_squared_error: 0.7645 - mae: 0.4312 - val_loss: 0.6289 - val_root_mean_squared_error: 0.7645 - val_mae: 0.4507\n",
      "Epoch 36/50\n",
      "157760/157760 [==============================] - 8s 50us/step - loss: 0.5624 - root_mean_squared_error: 0.7644 - mae: 0.4311 - val_loss: 0.6217 - val_root_mean_squared_error: 0.7643 - val_mae: 0.4426\n",
      "Epoch 37/50\n",
      "157760/157760 [==============================] - 8s 51us/step - loss: 0.5621 - root_mean_squared_error: 0.7642 - mae: 0.4310 - val_loss: 0.6230 - val_root_mean_squared_error: 0.7641 - val_mae: 0.4458\n",
      "Epoch 38/50\n",
      "157760/157760 [==============================] - 7s 47us/step - loss: 0.5619 - root_mean_squared_error: 0.7640 - mae: 0.4310 - val_loss: 0.6234 - val_root_mean_squared_error: 0.7640 - val_mae: 0.4439\n",
      "Epoch 39/50\n",
      "157760/157760 [==============================] - 7s 44us/step - loss: 0.5617 - root_mean_squared_error: 0.7639 - mae: 0.4313 - val_loss: 0.6256 - val_root_mean_squared_error: 0.7638 - val_mae: 0.4507\n",
      "Epoch 40/50\n",
      "157760/157760 [==============================] - 7s 42us/step - loss: 0.5608 - root_mean_squared_error: 0.7637 - mae: 0.4309 - val_loss: 0.6231 - val_root_mean_squared_error: 0.7637 - val_mae: 0.4424\n",
      "Epoch 41/50\n",
      "157760/157760 [==============================] - 7s 45us/step - loss: 0.5614 - root_mean_squared_error: 0.7636 - mae: 0.4311 - val_loss: 0.6229 - val_root_mean_squared_error: 0.7635 - val_mae: 0.4425\n",
      "Epoch 42/50\n",
      "157760/157760 [==============================] - 8s 48us/step - loss: 0.5599 - root_mean_squared_error: 0.7634 - mae: 0.4309 - val_loss: 0.6224 - val_root_mean_squared_error: 0.7633 - val_mae: 0.4460\n",
      "Epoch 43/50\n",
      "157760/157760 [==============================] - 9s 54us/step - loss: 0.5603 - root_mean_squared_error: 0.7632 - mae: 0.4309 - val_loss: 0.6256 - val_root_mean_squared_error: 0.7632 - val_mae: 0.4469\n",
      "Epoch 44/50\n",
      "157760/157760 [==============================] - 7s 42us/step - loss: 0.5601 - root_mean_squared_error: 0.7631 - mae: 0.4309 - val_loss: 0.6240 - val_root_mean_squared_error: 0.7631 - val_mae: 0.4464\n",
      "Epoch 45/50\n",
      "157760/157760 [==============================] - 7s 42us/step - loss: 0.5594 - root_mean_squared_error: 0.7630 - mae: 0.4307 - val_loss: 0.6261 - val_root_mean_squared_error: 0.7629 - val_mae: 0.4499\n",
      "Epoch 46/50\n",
      "157760/157760 [==============================] - 7s 43us/step - loss: 0.5594 - root_mean_squared_error: 0.7628 - mae: 0.4309 - val_loss: 0.6856 - val_root_mean_squared_error: 0.7629 - val_mae: 0.4829\n",
      "Epoch 47/50\n",
      "157760/157760 [==============================] - 7s 43us/step - loss: 0.5588 - root_mean_squared_error: 0.7628 - mae: 0.4307 - val_loss: 0.6230 - val_root_mean_squared_error: 0.7628 - val_mae: 0.4415\n",
      "Epoch 48/50\n",
      "157760/157760 [==============================] - 7s 41us/step - loss: 0.5587 - root_mean_squared_error: 0.7628 - mae: 0.4306 - val_loss: 0.6292 - val_root_mean_squared_error: 0.7627 - val_mae: 0.4517\n",
      "Epoch 49/50\n",
      "157760/157760 [==============================] - 7s 43us/step - loss: 0.5585 - root_mean_squared_error: 0.7626 - mae: 0.4307 - val_loss: 0.6258 - val_root_mean_squared_error: 0.7625 - val_mae: 0.4443\n",
      "Epoch 50/50\n",
      "157760/157760 [==============================] - 7s 42us/step - loss: 0.5590 - root_mean_squared_error: 0.7625 - mae: 0.4302 - val_loss: 0.6255 - val_root_mean_squared_error: 0.7624 - val_mae: 0.4464\n"
     ]
    }
   ],
   "source": [
    "history2=model2.fit(X_train_ss,y_train_ss,epochs=50,batch_size=50,validation_split=.2)#callbacks=callbacks_list)"
   ]
  },
  {
   "cell_type": "code",
   "execution_count": 56,
   "metadata": {},
   "outputs": [
    {
     "data": {
      "text/plain": [
       "array([[-7521.16]])"
      ]
     },
     "execution_count": 56,
     "metadata": {},
     "output_type": "execute_result"
    }
   ],
   "source": [
    "min_maxy.inverse_transform([[.0022]])"
   ]
  },
  {
   "cell_type": "code",
   "execution_count": 57,
   "metadata": {},
   "outputs": [
    {
     "data": {
      "text/plain": [
       "array([[-7855.6]])"
      ]
     },
     "execution_count": 57,
     "metadata": {},
     "output_type": "execute_result"
    }
   ],
   "source": [
    "min_maxy.inverse_transform([[.0020]])"
   ]
  },
  {
   "cell_type": "code",
   "execution_count": 60,
   "metadata": {},
   "outputs": [
    {
     "data": {
      "text/plain": [
       "0.04358898943540673"
      ]
     },
     "execution_count": 60,
     "metadata": {},
     "output_type": "execute_result"
    }
   ],
   "source": [
    "(0.0019)**.5"
   ]
  },
  {
   "cell_type": "code",
   "execution_count": 33,
   "metadata": {},
   "outputs": [
    {
     "data": {
      "text/plain": [
       "array([142854.86490422])"
      ]
     },
     "execution_count": 33,
     "metadata": {},
     "output_type": "execute_result"
    }
   ],
   "source": [
    "ssy.inverse_transform([.6009])"
   ]
  },
  {
   "cell_type": "code",
   "execution_count": 20,
   "metadata": {},
   "outputs": [
    {
     "name": "stdout",
     "output_type": "stream",
     "text": [
      "dict_keys(['val_loss', 'val_root_mean_squared_error', 'val_mae', 'loss', 'root_mean_squared_error', 'mae'])\n"
     ]
    },
    {
     "data": {
      "image/png": "[encoded data removed]",
      "text/plain": [
       "<Figure size 720x720 with 1 Axes>"
      ]
     },
     "metadata": {
      "needs_background": "light"
     },
     "output_type": "display_data"
    }
   ],
   "source": [
    "print(history.history.keys())\n",
    "#'Loss'\n",
    "fig, ax = plt.subplots(figsize=((10,10)))\n",
    "plt.plot(history.history['loss'])\n",
    "plt.plot(history.history['val_loss'])\n",
    "plt.title('Model Loss',fontsize=20)\n",
    "plt.ylabel('Loss(MSE)',fontsize=20)\n",
    "plt.xlabel('Epoch',fontsize=18)\n",
    "plt.tick_params(axis=\"both\",labelsize=18)\n",
    "plt.legend(['train','validation'],loc='upper left')\n",
    "plt.savefig(\"model results\",transparent=True,bbox_inches=\"tight\",)\n",
    "plt.show();"
   ]
  },
  {
   "cell_type": "code",
   "execution_count": 21,
   "metadata": {},
   "outputs": [
    {
     "name": "stdout",
     "output_type": "stream",
     "text": [
      "dict_keys(['val_loss', 'val_root_mean_squared_error', 'val_mae', 'loss', 'root_mean_squared_error', 'mae'])\n"
     ]
    },
    {
     "data": {
      "image/png": "[encoded data removed]",
      "text/plain": [
       "<Figure size 720x720 with 1 Axes>"
      ]
     },
     "metadata": {
      "needs_background": "light"
     },
     "output_type": "display_data"
    }
   ],
   "source": [
    "print(history2.history.keys())\n",
    "#'Loss'\n",
    "fig, ax = plt.subplots(figsize=((10,10)))\n",
    "plt.plot(history2.history['loss'])\n",
    "plt.plot(history2.history['val_loss'])\n",
    "plt.title('Model Loss',fontsize=20)\n",
    "plt.ylabel('Loss(MSE)',fontsize=20)\n",
    "plt.xlabel('Epoch',fontsize=18)\n",
    "plt.tick_params(axis=\"both\",labelsize=18)\n",
    "plt.legend(['train','validation'],loc='upper left')\n",
    "plt.savefig(\"model results\",transparent=True,bbox_inches=\"tight\",)\n",
    "plt.show();"
   ]
  },
  {
   "cell_type": "code",
   "execution_count": 60,
   "metadata": {},
   "outputs": [
    {
     "data": {
      "text/plain": [
       "array([[35000.],\n",
       "       [55100.],\n",
       "       [69100.],\n",
       "       ...,\n",
       "       [88400.],\n",
       "       [75100.],\n",
       "       [ 4980.]])"
      ]
     },
     "execution_count": 60,
     "metadata": {},
     "output_type": "execute_result"
    }
   ],
   "source": [
    "y_test"
   ]
  },
  {
   "cell_type": "code",
   "execution_count": 27,
   "metadata": {},
   "outputs": [
    {
     "ename": "NotFittedError",
     "evalue": "This MinMaxScaler instance is not fitted yet. Call 'fit' with appropriate arguments before using this estimator.",
     "output_type": "error",
     "traceback": [
      "\u001b[1;31m---------------------------------------------------------------------------\u001b[0m",
      "\u001b[1;31mNotFittedError\u001b[0m                            Traceback (most recent call last)",
      "\u001b[1;32m<ipython-input-27-7c1eafb98ebb>\u001b[0m in \u001b[0;36m<module>\u001b[1;34m\u001b[0m\n\u001b[0;32m      1\u001b[0m \u001b[1;31m# y_test_ss=ss.transform(y_test)\u001b[0m\u001b[1;33m\u001b[0m\u001b[1;33m\u001b[0m\u001b[1;33m\u001b[0m\u001b[0m\n\u001b[0;32m      2\u001b[0m \u001b[1;31m# X_test_ss=ss.transform(X_test)\u001b[0m\u001b[1;33m\u001b[0m\u001b[1;33m\u001b[0m\u001b[1;33m\u001b[0m\u001b[0m\n\u001b[1;32m----> 3\u001b[1;33m \u001b[0my_test_mm\u001b[0m\u001b[1;33m=\u001b[0m\u001b[0mmin_maxy\u001b[0m\u001b[1;33m.\u001b[0m\u001b[0mtransform\u001b[0m\u001b[1;33m(\u001b[0m\u001b[0my_test\u001b[0m\u001b[1;33m)\u001b[0m\u001b[1;33m\u001b[0m\u001b[1;33m\u001b[0m\u001b[0m\n\u001b[0m\u001b[0;32m      4\u001b[0m \u001b[0mX_test_mm\u001b[0m\u001b[1;33m=\u001b[0m\u001b[0mmin_max\u001b[0m\u001b[1;33m.\u001b[0m\u001b[0mtransform\u001b[0m\u001b[1;33m(\u001b[0m\u001b[0mX_test\u001b[0m\u001b[1;33m)\u001b[0m\u001b[1;33m\u001b[0m\u001b[1;33m\u001b[0m\u001b[0m\n",
      "\u001b[1;32m~\\anaconda3\\envs\\tens\\lib\\site-packages\\sklearn\\preprocessing\\_data.py\u001b[0m in \u001b[0;36mtransform\u001b[1;34m(self, X)\u001b[0m\n\u001b[0;32m    403\u001b[0m             \u001b[0mTransformed\u001b[0m \u001b[0mdata\u001b[0m\u001b[1;33m.\u001b[0m\u001b[1;33m\u001b[0m\u001b[1;33m\u001b[0m\u001b[0m\n\u001b[0;32m    404\u001b[0m         \"\"\"\n\u001b[1;32m--> 405\u001b[1;33m         \u001b[0mcheck_is_fitted\u001b[0m\u001b[1;33m(\u001b[0m\u001b[0mself\u001b[0m\u001b[1;33m)\u001b[0m\u001b[1;33m\u001b[0m\u001b[1;33m\u001b[0m\u001b[0m\n\u001b[0m\u001b[0;32m    406\u001b[0m \u001b[1;33m\u001b[0m\u001b[0m\n\u001b[0;32m    407\u001b[0m         X = check_array(X, copy=self.copy, dtype=FLOAT_DTYPES,\n",
      "\u001b[1;32m~\\anaconda3\\envs\\tens\\lib\\site-packages\\sklearn\\utils\\validation.py\u001b[0m in \u001b[0;36minner_f\u001b[1;34m(*args, **kwargs)\u001b[0m\n\u001b[0;32m     71\u001b[0m                           FutureWarning)\n\u001b[0;32m     72\u001b[0m         \u001b[0mkwargs\u001b[0m\u001b[1;33m.\u001b[0m\u001b[0mupdate\u001b[0m\u001b[1;33m(\u001b[0m\u001b[1;33m{\u001b[0m\u001b[0mk\u001b[0m\u001b[1;33m:\u001b[0m \u001b[0marg\u001b[0m \u001b[1;32mfor\u001b[0m \u001b[0mk\u001b[0m\u001b[1;33m,\u001b[0m \u001b[0marg\u001b[0m \u001b[1;32min\u001b[0m \u001b[0mzip\u001b[0m\u001b[1;33m(\u001b[0m\u001b[0msig\u001b[0m\u001b[1;33m.\u001b[0m\u001b[0mparameters\u001b[0m\u001b[1;33m,\u001b[0m \u001b[0margs\u001b[0m\u001b[1;33m)\u001b[0m\u001b[1;33m}\u001b[0m\u001b[1;33m)\u001b[0m\u001b[1;33m\u001b[0m\u001b[1;33m\u001b[0m\u001b[0m\n\u001b[1;32m---> 73\u001b[1;33m         \u001b[1;32mreturn\u001b[0m \u001b[0mf\u001b[0m\u001b[1;33m(\u001b[0m\u001b[1;33m**\u001b[0m\u001b[0mkwargs\u001b[0m\u001b[1;33m)\u001b[0m\u001b[1;33m\u001b[0m\u001b[1;33m\u001b[0m\u001b[0m\n\u001b[0m\u001b[0;32m     74\u001b[0m     \u001b[1;32mreturn\u001b[0m \u001b[0minner_f\u001b[0m\u001b[1;33m\u001b[0m\u001b[1;33m\u001b[0m\u001b[0m\n\u001b[0;32m     75\u001b[0m \u001b[1;33m\u001b[0m\u001b[0m\n",
      "\u001b[1;32m~\\anaconda3\\envs\\tens\\lib\\site-packages\\sklearn\\utils\\validation.py\u001b[0m in \u001b[0;36mcheck_is_fitted\u001b[1;34m(estimator, attributes, msg, all_or_any)\u001b[0m\n\u001b[0;32m   1018\u001b[0m \u001b[1;33m\u001b[0m\u001b[0m\n\u001b[0;32m   1019\u001b[0m     \u001b[1;32mif\u001b[0m \u001b[1;32mnot\u001b[0m \u001b[0mattrs\u001b[0m\u001b[1;33m:\u001b[0m\u001b[1;33m\u001b[0m\u001b[1;33m\u001b[0m\u001b[0m\n\u001b[1;32m-> 1020\u001b[1;33m         \u001b[1;32mraise\u001b[0m \u001b[0mNotFittedError\u001b[0m\u001b[1;33m(\u001b[0m\u001b[0mmsg\u001b[0m \u001b[1;33m%\u001b[0m \u001b[1;33m{\u001b[0m\u001b[1;34m'name'\u001b[0m\u001b[1;33m:\u001b[0m \u001b[0mtype\u001b[0m\u001b[1;33m(\u001b[0m\u001b[0mestimator\u001b[0m\u001b[1;33m)\u001b[0m\u001b[1;33m.\u001b[0m\u001b[0m__name__\u001b[0m\u001b[1;33m}\u001b[0m\u001b[1;33m)\u001b[0m\u001b[1;33m\u001b[0m\u001b[1;33m\u001b[0m\u001b[0m\n\u001b[0m\u001b[0;32m   1021\u001b[0m \u001b[1;33m\u001b[0m\u001b[0m\n\u001b[0;32m   1022\u001b[0m \u001b[1;33m\u001b[0m\u001b[0m\n",
      "\u001b[1;31mNotFittedError\u001b[0m: This MinMaxScaler instance is not fitted yet. Call 'fit' with appropriate arguments before using this estimator."
     ]
    }
   ],
   "source": [
    "# y_test_ss=ss.transform(y_test)\n",
    "# X_test_ss=ss.transform(X_test)\n",
    "y_test_mm=min_maxy.transform(y_test)\n",
    "X_test_mm=min_max.transform(X_test)"
   ]
  },
  {
   "cell_type": "code",
   "execution_count": 28,
   "metadata": {},
   "outputs": [],
   "source": [
    "y_hat=model.predict(X_test_ss)"
   ]
  },
  {
   "cell_type": "code",
   "execution_count": 62,
   "metadata": {},
   "outputs": [
    {
     "data": {
      "text/plain": [
       "array([[0.03756016],\n",
       "       [0.05570848],\n",
       "       [0.04519601],\n",
       "       ...,\n",
       "       [0.04217846],\n",
       "       [0.067249  ],\n",
       "       [0.01736517]], dtype=float32)"
      ]
     },
     "execution_count": 62,
     "metadata": {},
     "output_type": "execute_result"
    }
   ],
   "source": [
    "y_hat"
   ]
  },
  {
   "cell_type": "code",
   "execution_count": 29,
   "metadata": {},
   "outputs": [
    {
     "name": "stdout",
     "output_type": "stream",
     "text": [
      "X inputs=[1.042e+03 3.529e+03 2.000e+00 2.000e+00 8.900e+02 4.000e+00 1.650e+05\n",
      " 3.650e+03 1.000e+00 0.000e+00 0.000e+00 0.000e+00 0.000e+00 1.000e+00\n",
      " 0.000e+00 1.000e+00 0.000e+00 0.000e+00 1.000e+00 0.000e+00 1.000e+00\n",
      " 0.000e+00 0.000e+00 0.000e+00 0.000e+00 0.000e+00 0.000e+00 0.000e+00\n",
      " 0.000e+00 0.000e+00 1.000e+00 0.000e+00 0.000e+00 0.000e+00 0.000e+00\n",
      " 0.000e+00 0.000e+00 0.000e+00 0.000e+00 0.000e+00 0.000e+00 0.000e+00\n",
      " 0.000e+00 0.000e+00 0.000e+00 0.000e+00 0.000e+00 0.000e+00] ,Actual=[35000.], Predictied=[7.9521147e+09]\n"
     ]
    }
   ],
   "source": [
    "# y_test_mm=min_max.inverse_transform(y)\n",
    "#invert normalize\n",
    "# X_test_mm=min_max.inverse_transform(X_test_mm)\n",
    "y_hat=ssy.inverse_transform(y_hat)\n",
    "# X_test_ss=ss.inverse_transform(X_test_ss)\n",
    "print(\"X inputs=%s ,Actual=%s, Predictied=%s\" % (X_test.values[0],y_test[0],y_hat[0]))\n",
    "# print(y_hat[0:20])\n",
    "# mae=avergae diff between predicted and actual"
   ]
  },
  {
   "cell_type": "code",
   "execution_count": 65,
   "metadata": {},
   "outputs": [
    {
     "data": {
      "text/html": [
       "<div>\n",
       "<style scoped>\n",
       "    .dataframe tbody tr th:only-of-type {\n",
       "        vertical-align: middle;\n",
       "    }\n",
       "\n",
       "    .dataframe tbody tr th {\n",
       "        vertical-align: top;\n",
       "    }\n",
       "\n",
       "    .dataframe thead th {\n",
       "        text-align: right;\n",
       "    }\n",
       "</style>\n",
       "<table border=\"1\" class=\"dataframe\">\n",
       "  <thead>\n",
       "    <tr style=\"text-align: right;\">\n",
       "      <th></th>\n",
       "      <th>SMOCP</th>\n",
       "      <th>PUMA</th>\n",
       "      <th>NP</th>\n",
       "      <th>BDSP</th>\n",
       "      <th>INSP</th>\n",
       "      <th>RMSP</th>\n",
       "      <th>VALP</th>\n",
       "      <th>TAXAMT</th>\n",
       "    </tr>\n",
       "  </thead>\n",
       "  <tbody>\n",
       "    <tr>\n",
       "      <th>238940</th>\n",
       "      <td>260.0</td>\n",
       "      <td>3529</td>\n",
       "      <td>2</td>\n",
       "      <td>2.0</td>\n",
       "      <td>260.0</td>\n",
       "      <td>4.0</td>\n",
       "      <td>260.0</td>\n",
       "      <td>260.0</td>\n",
       "    </tr>\n",
       "    <tr>\n",
       "      <th>88724</th>\n",
       "      <td>1965.0</td>\n",
       "      <td>3525</td>\n",
       "      <td>1</td>\n",
       "      <td>1.0</td>\n",
       "      <td>300.0</td>\n",
       "      <td>3.0</td>\n",
       "      <td>240000.0</td>\n",
       "      <td>2950.0</td>\n",
       "    </tr>\n",
       "    <tr>\n",
       "      <th>213889</th>\n",
       "      <td>434.0</td>\n",
       "      <td>2200</td>\n",
       "      <td>3</td>\n",
       "      <td>4.0</td>\n",
       "      <td>0.0</td>\n",
       "      <td>9.0</td>\n",
       "      <td>100000.0</td>\n",
       "      <td>1850.0</td>\n",
       "    </tr>\n",
       "    <tr>\n",
       "      <th>156991</th>\n",
       "      <td>2867.0</td>\n",
       "      <td>3504</td>\n",
       "      <td>7</td>\n",
       "      <td>3.0</td>\n",
       "      <td>2000.0</td>\n",
       "      <td>7.0</td>\n",
       "      <td>350000.0</td>\n",
       "      <td>8500.0</td>\n",
       "    </tr>\n",
       "    <tr>\n",
       "      <th>183801</th>\n",
       "      <td>1275.0</td>\n",
       "      <td>3503</td>\n",
       "      <td>2</td>\n",
       "      <td>1.0</td>\n",
       "      <td>1200.0</td>\n",
       "      <td>3.0</td>\n",
       "      <td>250000.0</td>\n",
       "      <td>425.0</td>\n",
       "    </tr>\n",
       "    <tr>\n",
       "      <th>...</th>\n",
       "      <td>...</td>\n",
       "      <td>...</td>\n",
       "      <td>...</td>\n",
       "      <td>...</td>\n",
       "      <td>...</td>\n",
       "      <td>...</td>\n",
       "      <td>...</td>\n",
       "      <td>...</td>\n",
       "    </tr>\n",
       "    <tr>\n",
       "      <th>147745</th>\n",
       "      <td>748.0</td>\n",
       "      <td>2501</td>\n",
       "      <td>2</td>\n",
       "      <td>2.0</td>\n",
       "      <td>600.0</td>\n",
       "      <td>4.0</td>\n",
       "      <td>40000.0</td>\n",
       "      <td>1650.0</td>\n",
       "    </tr>\n",
       "    <tr>\n",
       "      <th>49390</th>\n",
       "      <td>216.0</td>\n",
       "      <td>2200</td>\n",
       "      <td>1</td>\n",
       "      <td>3.0</td>\n",
       "      <td>750.0</td>\n",
       "      <td>8.0</td>\n",
       "      <td>50000.0</td>\n",
       "      <td>0.0</td>\n",
       "    </tr>\n",
       "    <tr>\n",
       "      <th>201663</th>\n",
       "      <td>530.0</td>\n",
       "      <td>2300</td>\n",
       "      <td>2</td>\n",
       "      <td>3.0</td>\n",
       "      <td>870.0</td>\n",
       "      <td>5.0</td>\n",
       "      <td>185000.0</td>\n",
       "      <td>2950.0</td>\n",
       "    </tr>\n",
       "    <tr>\n",
       "      <th>34087</th>\n",
       "      <td>1361.0</td>\n",
       "      <td>104</td>\n",
       "      <td>3</td>\n",
       "      <td>3.0</td>\n",
       "      <td>0.0</td>\n",
       "      <td>5.0</td>\n",
       "      <td>170000.0</td>\n",
       "      <td>3650.0</td>\n",
       "    </tr>\n",
       "    <tr>\n",
       "      <th>191250</th>\n",
       "      <td>260.0</td>\n",
       "      <td>1300</td>\n",
       "      <td>1</td>\n",
       "      <td>1.0</td>\n",
       "      <td>260.0</td>\n",
       "      <td>2.0</td>\n",
       "      <td>260.0</td>\n",
       "      <td>260.0</td>\n",
       "    </tr>\n",
       "  </tbody>\n",
       "</table>\n",
       "<p>49301 rows × 8 columns</p>\n",
       "</div>"
      ],
      "text/plain": [
       "         SMOCP  PUMA  NP  BDSP    INSP  RMSP      VALP  TAXAMT\n",
       "238940   260.0  3529   2   2.0   260.0   4.0     260.0   260.0\n",
       "88724   1965.0  3525   1   1.0   300.0   3.0  240000.0  2950.0\n",
       "213889   434.0  2200   3   4.0     0.0   9.0  100000.0  1850.0\n",
       "156991  2867.0  3504   7   3.0  2000.0   7.0  350000.0  8500.0\n",
       "183801  1275.0  3503   2   1.0  1200.0   3.0  250000.0   425.0\n",
       "...        ...   ...  ..   ...     ...   ...       ...     ...\n",
       "147745   748.0  2501   2   2.0   600.0   4.0   40000.0  1650.0\n",
       "49390    216.0  2200   1   3.0   750.0   8.0   50000.0     0.0\n",
       "201663   530.0  2300   2   3.0   870.0   5.0  185000.0  2950.0\n",
       "34087   1361.0   104   3   3.0     0.0   5.0  170000.0  3650.0\n",
       "191250   260.0  1300   1   1.0   260.0   2.0     260.0   260.0\n",
       "\n",
       "[49301 rows x 8 columns]"
      ]
     },
     "execution_count": 65,
     "metadata": {},
     "output_type": "execute_result"
    }
   ],
   "source": [
    "X_test"
   ]
  },
  {
   "cell_type": "code",
   "execution_count": 23,
   "metadata": {},
   "outputs": [],
   "source": [
    "y_test_ss=ssy.transform(y_test)\n",
    "X_test_ss=ss.transform(X_test)\n",
    "# y_test_mm=min_maxy.transform(y_test)\n",
    "# X_test_mm=min_max.transform(X_test)"
   ]
  },
  {
   "cell_type": "code",
   "execution_count": 38,
   "metadata": {},
   "outputs": [],
   "source": [
    "y_hat2=model2.predict(X_test_ss)"
   ]
  },
  {
   "cell_type": "code",
   "execution_count": 39,
   "metadata": {},
   "outputs": [
    {
     "name": "stdout",
     "output_type": "stream",
     "text": [
      "X inputs=[1.042e+03 3.529e+03 2.000e+00 2.000e+00 8.900e+02 4.000e+00 1.650e+05\n",
      " 3.650e+03 1.000e+00 0.000e+00 0.000e+00 0.000e+00 0.000e+00 1.000e+00\n",
      " 0.000e+00 1.000e+00 0.000e+00 0.000e+00 1.000e+00 0.000e+00 1.000e+00\n",
      " 0.000e+00 0.000e+00 0.000e+00 0.000e+00 0.000e+00 0.000e+00 0.000e+00\n",
      " 0.000e+00 0.000e+00 1.000e+00 0.000e+00 0.000e+00 0.000e+00 0.000e+00\n",
      " 0.000e+00 0.000e+00 0.000e+00 0.000e+00 0.000e+00 0.000e+00 0.000e+00\n",
      " 0.000e+00 0.000e+00 0.000e+00 0.000e+00 0.000e+00 0.000e+00] ,Actual=[35000.], Predictied=[5.6963573e+34]\n"
     ]
    }
   ],
   "source": [
    "# y_test_mm=min_max.inverse_transform(y)\n",
    "#invert normalize\n",
    "# X_test_mm=min_max.inverse_transform(X_test_mm)\n",
    "y_hat=ssy.inverse_transform(y_hat)\n",
    "# X_test_ss=ss.inverse_transform(X_test_ss)\n",
    "print(\"X inputs=%s ,Actual=%s, Predictied=%s\" % (X_test.values[0],y_test[0],y_hat[0]))\n",
    "# print(y_hat[0:20])\n",
    "# mae=avergae diff between predicted and actual"
   ]
  },
  {
   "cell_type": "code",
   "execution_count": 116,
   "metadata": {},
   "outputs": [],
   "source": [
    "# early_stop = EarlyStopping(monitor='val_loss', min_delta=1e-08, patience=0, verbose=1,\n",
    "#                            mode='auto')\n",
    "# callbacks_list = [early_stop]\n",
    "# history_es = model_es.fit(X_train_s, np.array(y_train),\n",
    "#                           validation_data=(X_test_s, np.array(y_test)),\n",
    "#                          epochs=40, batch_size=None, callbacks=callbacks_list)"
   ]
  }
 ],
 "metadata": {
  "kernelspec": {
   "display_name": "Python 3 (tens)",
   "language": "python",
   "name": "tens"
  },
  "language_info": {
   "codemirror_mode": {
    "name": "ipython",
    "version": 3
   },
   "file_extension": ".py",
   "mimetype": "text/x-python",
   "name": "python",
   "nbconvert_exporter": "python",
   "pygments_lexer": "ipython3",
   "version": "3.7.7"
  }
 },
 "nbformat": 4,
 "nbformat_minor": 4
}
