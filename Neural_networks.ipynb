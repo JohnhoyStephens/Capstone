{
 "cells": [
  {
   "cell_type": "code",
   "execution_count": 1,
   "metadata": {},
   "outputs": [
    {
     "name": "stderr",
     "output_type": "stream",
     "text": [
      "Using TensorFlow backend.\n"
     ]
    }
   ],
   "source": [
    "import pandas as pd\n",
    "import numpy as np\n",
    "from keras.layers import Dense\n",
    "from keras.models import Sequential\n",
    "from sklearn.preprocessing import StandardScaler,MinMaxScaler\n",
    "from tensorflow.keras import regularizers\n",
    "from tensorflow.keras import layers\n",
    "from tensorflow.keras.callbacks import EarlyStopping \n",
    "import tensorflow as tf\n",
    "import matplotlib.pyplot as plt\n",
    "import seaborn as sns\n",
    "from sklearn.model_selection import train_test_split\n",
    "from sklearn.metrics import confusion_matrix, accuracy_score,recall_score,classification_report"
   ]
  },
  {
   "cell_type": "code",
   "execution_count": 2,
   "metadata": {},
   "outputs": [],
   "source": [
    "df=pd.read_csv(\"Imputed.csv\")"
   ]
  },
  {
   "cell_type": "code",
   "execution_count": 3,
   "metadata": {},
   "outputs": [
    {
     "data": {
      "text/html": [
       "<div>\n",
       "<style scoped>\n",
       "    .dataframe tbody tr th:only-of-type {\n",
       "        vertical-align: middle;\n",
       "    }\n",
       "\n",
       "    .dataframe tbody tr th {\n",
       "        vertical-align: top;\n",
       "    }\n",
       "\n",
       "    .dataframe thead th {\n",
       "        text-align: right;\n",
       "    }\n",
       "</style>\n",
       "<table border=\"1\" class=\"dataframe\">\n",
       "  <thead>\n",
       "    <tr style=\"text-align: right;\">\n",
       "      <th></th>\n",
       "      <th>HINCP_x</th>\n",
       "      <th>SMOCP</th>\n",
       "      <th>PUMA</th>\n",
       "      <th>NP</th>\n",
       "      <th>BDSP</th>\n",
       "      <th>INSP</th>\n",
       "      <th>RMSP</th>\n",
       "      <th>VALP</th>\n",
       "      <th>TAXAMT</th>\n",
       "      <th>ACR_&lt;1.0&gt;</th>\n",
       "      <th>...</th>\n",
       "      <th>YBL_&lt;13.0&gt;</th>\n",
       "      <th>YBL_&lt;14.0&gt;</th>\n",
       "      <th>YBL_&lt;15.0&gt;</th>\n",
       "      <th>YBL_&lt;16.0&gt;</th>\n",
       "      <th>YBL_&lt;17.0&gt;</th>\n",
       "      <th>YBL_&lt;18.0&gt;</th>\n",
       "      <th>YBL_&lt;19.0&gt;</th>\n",
       "      <th>YBL_&lt;20.0&gt;</th>\n",
       "      <th>YBL_&lt;21.0&gt;</th>\n",
       "      <th>YBL_&lt;22.0&gt;</th>\n",
       "    </tr>\n",
       "  </thead>\n",
       "  <tbody>\n",
       "    <tr>\n",
       "      <th>0</th>\n",
       "      <td>47900.0</td>\n",
       "      <td>1042.0</td>\n",
       "      <td>3108</td>\n",
       "      <td>4</td>\n",
       "      <td>3.0</td>\n",
       "      <td>890.0</td>\n",
       "      <td>6.0</td>\n",
       "      <td>165000.0</td>\n",
       "      <td>3650.0</td>\n",
       "      <td>1.0</td>\n",
       "      <td>...</td>\n",
       "      <td>0.0</td>\n",
       "      <td>0.0</td>\n",
       "      <td>0.0</td>\n",
       "      <td>0.0</td>\n",
       "      <td>0.0</td>\n",
       "      <td>0.0</td>\n",
       "      <td>0.0</td>\n",
       "      <td>0.0</td>\n",
       "      <td>0.0</td>\n",
       "      <td>0.0</td>\n",
       "    </tr>\n",
       "    <tr>\n",
       "      <th>1</th>\n",
       "      <td>36100.0</td>\n",
       "      <td>691.0</td>\n",
       "      <td>2501</td>\n",
       "      <td>2</td>\n",
       "      <td>3.0</td>\n",
       "      <td>600.0</td>\n",
       "      <td>6.0</td>\n",
       "      <td>35000.0</td>\n",
       "      <td>525.0</td>\n",
       "      <td>1.0</td>\n",
       "      <td>...</td>\n",
       "      <td>0.0</td>\n",
       "      <td>0.0</td>\n",
       "      <td>0.0</td>\n",
       "      <td>0.0</td>\n",
       "      <td>0.0</td>\n",
       "      <td>0.0</td>\n",
       "      <td>0.0</td>\n",
       "      <td>0.0</td>\n",
       "      <td>0.0</td>\n",
       "      <td>0.0</td>\n",
       "    </tr>\n",
       "    <tr>\n",
       "      <th>2</th>\n",
       "      <td>100000.0</td>\n",
       "      <td>1042.0</td>\n",
       "      <td>3502</td>\n",
       "      <td>1</td>\n",
       "      <td>0.0</td>\n",
       "      <td>890.0</td>\n",
       "      <td>1.0</td>\n",
       "      <td>165000.0</td>\n",
       "      <td>3650.0</td>\n",
       "      <td>1.0</td>\n",
       "      <td>...</td>\n",
       "      <td>0.0</td>\n",
       "      <td>0.0</td>\n",
       "      <td>0.0</td>\n",
       "      <td>0.0</td>\n",
       "      <td>0.0</td>\n",
       "      <td>0.0</td>\n",
       "      <td>0.0</td>\n",
       "      <td>0.0</td>\n",
       "      <td>0.0</td>\n",
       "      <td>0.0</td>\n",
       "    </tr>\n",
       "    <tr>\n",
       "      <th>3</th>\n",
       "      <td>45000.0</td>\n",
       "      <td>1042.0</td>\n",
       "      <td>3526</td>\n",
       "      <td>2</td>\n",
       "      <td>2.0</td>\n",
       "      <td>890.0</td>\n",
       "      <td>5.0</td>\n",
       "      <td>165000.0</td>\n",
       "      <td>3650.0</td>\n",
       "      <td>1.0</td>\n",
       "      <td>...</td>\n",
       "      <td>0.0</td>\n",
       "      <td>0.0</td>\n",
       "      <td>0.0</td>\n",
       "      <td>0.0</td>\n",
       "      <td>0.0</td>\n",
       "      <td>0.0</td>\n",
       "      <td>0.0</td>\n",
       "      <td>0.0</td>\n",
       "      <td>0.0</td>\n",
       "      <td>0.0</td>\n",
       "    </tr>\n",
       "    <tr>\n",
       "      <th>4</th>\n",
       "      <td>88000.0</td>\n",
       "      <td>603.0</td>\n",
       "      <td>1204</td>\n",
       "      <td>3</td>\n",
       "      <td>2.0</td>\n",
       "      <td>20.0</td>\n",
       "      <td>4.0</td>\n",
       "      <td>140.0</td>\n",
       "      <td>525.0</td>\n",
       "      <td>1.0</td>\n",
       "      <td>...</td>\n",
       "      <td>0.0</td>\n",
       "      <td>0.0</td>\n",
       "      <td>0.0</td>\n",
       "      <td>0.0</td>\n",
       "      <td>0.0</td>\n",
       "      <td>0.0</td>\n",
       "      <td>0.0</td>\n",
       "      <td>0.0</td>\n",
       "      <td>0.0</td>\n",
       "      <td>0.0</td>\n",
       "    </tr>\n",
       "    <tr>\n",
       "      <th>...</th>\n",
       "      <td>...</td>\n",
       "      <td>...</td>\n",
       "      <td>...</td>\n",
       "      <td>...</td>\n",
       "      <td>...</td>\n",
       "      <td>...</td>\n",
       "      <td>...</td>\n",
       "      <td>...</td>\n",
       "      <td>...</td>\n",
       "      <td>...</td>\n",
       "      <td>...</td>\n",
       "      <td>...</td>\n",
       "      <td>...</td>\n",
       "      <td>...</td>\n",
       "      <td>...</td>\n",
       "      <td>...</td>\n",
       "      <td>...</td>\n",
       "      <td>...</td>\n",
       "      <td>...</td>\n",
       "      <td>...</td>\n",
       "      <td>...</td>\n",
       "    </tr>\n",
       "    <tr>\n",
       "      <th>246497</th>\n",
       "      <td>30000.0</td>\n",
       "      <td>1366.0</td>\n",
       "      <td>3208</td>\n",
       "      <td>1</td>\n",
       "      <td>4.0</td>\n",
       "      <td>0.0</td>\n",
       "      <td>11.0</td>\n",
       "      <td>150000.0</td>\n",
       "      <td>6500.0</td>\n",
       "      <td>1.0</td>\n",
       "      <td>...</td>\n",
       "      <td>0.0</td>\n",
       "      <td>0.0</td>\n",
       "      <td>0.0</td>\n",
       "      <td>0.0</td>\n",
       "      <td>0.0</td>\n",
       "      <td>0.0</td>\n",
       "      <td>0.0</td>\n",
       "      <td>0.0</td>\n",
       "      <td>0.0</td>\n",
       "      <td>0.0</td>\n",
       "    </tr>\n",
       "    <tr>\n",
       "      <th>246498</th>\n",
       "      <td>150000.0</td>\n",
       "      <td>2603.0</td>\n",
       "      <td>3208</td>\n",
       "      <td>4</td>\n",
       "      <td>4.0</td>\n",
       "      <td>1200.0</td>\n",
       "      <td>8.0</td>\n",
       "      <td>275000.0</td>\n",
       "      <td>10500.0</td>\n",
       "      <td>1.0</td>\n",
       "      <td>...</td>\n",
       "      <td>0.0</td>\n",
       "      <td>0.0</td>\n",
       "      <td>0.0</td>\n",
       "      <td>0.0</td>\n",
       "      <td>0.0</td>\n",
       "      <td>0.0</td>\n",
       "      <td>0.0</td>\n",
       "      <td>0.0</td>\n",
       "      <td>0.0</td>\n",
       "      <td>0.0</td>\n",
       "    </tr>\n",
       "    <tr>\n",
       "      <th>246499</th>\n",
       "      <td>85000.0</td>\n",
       "      <td>751.0</td>\n",
       "      <td>2601</td>\n",
       "      <td>2</td>\n",
       "      <td>3.0</td>\n",
       "      <td>550.0</td>\n",
       "      <td>6.0</td>\n",
       "      <td>145000.0</td>\n",
       "      <td>5750.0</td>\n",
       "      <td>1.0</td>\n",
       "      <td>...</td>\n",
       "      <td>0.0</td>\n",
       "      <td>0.0</td>\n",
       "      <td>0.0</td>\n",
       "      <td>0.0</td>\n",
       "      <td>0.0</td>\n",
       "      <td>0.0</td>\n",
       "      <td>0.0</td>\n",
       "      <td>0.0</td>\n",
       "      <td>0.0</td>\n",
       "      <td>0.0</td>\n",
       "    </tr>\n",
       "    <tr>\n",
       "      <th>246500</th>\n",
       "      <td>117500.0</td>\n",
       "      <td>1168.0</td>\n",
       "      <td>3407</td>\n",
       "      <td>2</td>\n",
       "      <td>4.0</td>\n",
       "      <td>990.0</td>\n",
       "      <td>10.0</td>\n",
       "      <td>500000.0</td>\n",
       "      <td>11500.0</td>\n",
       "      <td>1.0</td>\n",
       "      <td>...</td>\n",
       "      <td>0.0</td>\n",
       "      <td>0.0</td>\n",
       "      <td>0.0</td>\n",
       "      <td>0.0</td>\n",
       "      <td>0.0</td>\n",
       "      <td>0.0</td>\n",
       "      <td>0.0</td>\n",
       "      <td>0.0</td>\n",
       "      <td>0.0</td>\n",
       "      <td>0.0</td>\n",
       "    </tr>\n",
       "    <tr>\n",
       "      <th>246501</th>\n",
       "      <td>89000.0</td>\n",
       "      <td>1042.0</td>\n",
       "      <td>3309</td>\n",
       "      <td>4</td>\n",
       "      <td>2.0</td>\n",
       "      <td>890.0</td>\n",
       "      <td>4.0</td>\n",
       "      <td>165000.0</td>\n",
       "      <td>3650.0</td>\n",
       "      <td>1.0</td>\n",
       "      <td>...</td>\n",
       "      <td>0.0</td>\n",
       "      <td>0.0</td>\n",
       "      <td>0.0</td>\n",
       "      <td>0.0</td>\n",
       "      <td>0.0</td>\n",
       "      <td>0.0</td>\n",
       "      <td>0.0</td>\n",
       "      <td>0.0</td>\n",
       "      <td>0.0</td>\n",
       "      <td>0.0</td>\n",
       "    </tr>\n",
       "  </tbody>\n",
       "</table>\n",
       "<p>246502 rows × 49 columns</p>\n",
       "</div>"
      ],
      "text/plain": [
       "         HINCP_x   SMOCP  PUMA  NP  BDSP    INSP  RMSP      VALP   TAXAMT  \\\n",
       "0        47900.0  1042.0  3108   4   3.0   890.0   6.0  165000.0   3650.0   \n",
       "1        36100.0   691.0  2501   2   3.0   600.0   6.0   35000.0    525.0   \n",
       "2       100000.0  1042.0  3502   1   0.0   890.0   1.0  165000.0   3650.0   \n",
       "3        45000.0  1042.0  3526   2   2.0   890.0   5.0  165000.0   3650.0   \n",
       "4        88000.0   603.0  1204   3   2.0    20.0   4.0     140.0    525.0   \n",
       "...          ...     ...   ...  ..   ...     ...   ...       ...      ...   \n",
       "246497   30000.0  1366.0  3208   1   4.0     0.0  11.0  150000.0   6500.0   \n",
       "246498  150000.0  2603.0  3208   4   4.0  1200.0   8.0  275000.0  10500.0   \n",
       "246499   85000.0   751.0  2601   2   3.0   550.0   6.0  145000.0   5750.0   \n",
       "246500  117500.0  1168.0  3407   2   4.0   990.0  10.0  500000.0  11500.0   \n",
       "246501   89000.0  1042.0  3309   4   2.0   890.0   4.0  165000.0   3650.0   \n",
       "\n",
       "        ACR_<1.0>  ...  YBL_<13.0>  YBL_<14.0>  YBL_<15.0>  YBL_<16.0>  \\\n",
       "0             1.0  ...         0.0         0.0         0.0         0.0   \n",
       "1             1.0  ...         0.0         0.0         0.0         0.0   \n",
       "2             1.0  ...         0.0         0.0         0.0         0.0   \n",
       "3             1.0  ...         0.0         0.0         0.0         0.0   \n",
       "4             1.0  ...         0.0         0.0         0.0         0.0   \n",
       "...           ...  ...         ...         ...         ...         ...   \n",
       "246497        1.0  ...         0.0         0.0         0.0         0.0   \n",
       "246498        1.0  ...         0.0         0.0         0.0         0.0   \n",
       "246499        1.0  ...         0.0         0.0         0.0         0.0   \n",
       "246500        1.0  ...         0.0         0.0         0.0         0.0   \n",
       "246501        1.0  ...         0.0         0.0         0.0         0.0   \n",
       "\n",
       "        YBL_<17.0>  YBL_<18.0>  YBL_<19.0>  YBL_<20.0>  YBL_<21.0>  YBL_<22.0>  \n",
       "0              0.0         0.0         0.0         0.0         0.0         0.0  \n",
       "1              0.0         0.0         0.0         0.0         0.0         0.0  \n",
       "2              0.0         0.0         0.0         0.0         0.0         0.0  \n",
       "3              0.0         0.0         0.0         0.0         0.0         0.0  \n",
       "4              0.0         0.0         0.0         0.0         0.0         0.0  \n",
       "...            ...         ...         ...         ...         ...         ...  \n",
       "246497         0.0         0.0         0.0         0.0         0.0         0.0  \n",
       "246498         0.0         0.0         0.0         0.0         0.0         0.0  \n",
       "246499         0.0         0.0         0.0         0.0         0.0         0.0  \n",
       "246500         0.0         0.0         0.0         0.0         0.0         0.0  \n",
       "246501         0.0         0.0         0.0         0.0         0.0         0.0  \n",
       "\n",
       "[246502 rows x 49 columns]"
      ]
     },
     "execution_count": 3,
     "metadata": {},
     "output_type": "execute_result"
    }
   ],
   "source": [
    "df"
   ]
  },
  {
   "cell_type": "code",
   "execution_count": 4,
   "metadata": {},
   "outputs": [],
   "source": [
    "X=df.drop(\"HINCP_x\",axis=1)\n",
    "y=df[\"HINCP_x\"]"
   ]
  },
  {
   "cell_type": "code",
   "execution_count": 5,
   "metadata": {},
   "outputs": [],
   "source": [
    "y=np.reshape(y.values,(-1,1))"
   ]
  },
  {
   "cell_type": "code",
   "execution_count": 6,
   "metadata": {},
   "outputs": [],
   "source": [
    "ss=StandardScaler()\n",
    "min_max=MinMaxScaler()\n",
    "\n"
   ]
  },
  {
   "cell_type": "code",
   "execution_count": 7,
   "metadata": {},
   "outputs": [],
   "source": [
    "X_train,X_test,y_train,y_test=train_test_split(X,y,train_size=.8,random_state=2020)"
   ]
  },
  {
   "cell_type": "code",
   "execution_count": 27,
   "metadata": {},
   "outputs": [],
   "source": [
    "X_t,X_val,y_t,y_val=train_test_split(X_train,y_train,train_size=.8,random_state=2020)"
   ]
  },
  {
   "cell_type": "code",
   "execution_count": 30,
   "metadata": {},
   "outputs": [],
   "source": [
    "ss_x=StandardScaler()\n",
    "mm_x=MinMaxScaler()"
   ]
  },
  {
   "cell_type": "code",
   "execution_count": 31,
   "metadata": {},
   "outputs": [],
   "source": [
    "X_t_ss=ss_x.fit_transform(X_t)\n",
    "X_val_ss=ss_x.transform(X_val)"
   ]
  },
  {
   "cell_type": "code",
   "execution_count": 32,
   "metadata": {},
   "outputs": [],
   "source": [
    "X_t_mm=mm_x.fit_transform(X_t)\n",
    "X_val_mm=mm_x.transform(X_val)"
   ]
  },
  {
   "cell_type": "code",
   "execution_count": 16,
   "metadata": {},
   "outputs": [],
   "source": [
    "X_train_mm=min_max.fit_transform(X_train)\n",
    "\n",
    "from keras import backend as K\n",
    "\n",
    "def coeff_determination(y_true, y_pred):\n",
    "    SS_res =  K.sum(K.square( y_true-y_pred )) \n",
    "    SS_tot = K.sum(K.square( y_true - K.mean(y_true) ) ) \n",
    "    return ( 1 - SS_res/(SS_tot + K.epsilon()) )\n"
   ]
  },
  {
   "cell_type": "code",
   "execution_count": 17,
   "metadata": {},
   "outputs": [],
   "source": [
    "model=Sequential()\n",
    "model.add(Dense(50 ,activation=\"relu\",input_dim=48))\n",
    "model.add(Dense(25 ,activation=\"selu\"))\n",
    "# model.add(Dense(25 ,activation=\"relu\"))\n",
    "# model.add(Dense(25 ,activation=\"relu\"))\n",
    "model.add(Dense(1, ))#activation='linear'))\n",
    "model.compile(loss='mse',optimizer=\"adam\",metrics=[tf.keras.metrics.RootMeanSquaredError(),\"mae\",coeff_determination])\n",
    "# add Dropouts layers when overfitting\n",
    "#SS helps with outliers\n",
    "#add in l1\n",
    "\n",
    "# ,input_shape=(8,)"
   ]
  },
  {
   "cell_type": "code",
   "execution_count": 18,
   "metadata": {},
   "outputs": [],
   "source": [
    "model1=Sequential()\n",
    "model1.add(Dense(50 ,activation=\"relu\",input_dim=48))\n",
    "model1.add(Dense(25 ,activation=\"selu\"))\n",
    "# model.add(Dense(25 ,activation=\"relu\"))\n",
    "# model.add(Dense(25 ,activation=\"relu\"))\n",
    "model1.add(Dense(1, ))#activation='linear'))\n",
    "model1.compile(loss='mse',optimizer=\"adam\",metrics=[tf.keras.metrics.RootMeanSquaredError(),\"mae\",coeff_determination])\n",
    "# add Dropouts layers when overfitting\n",
    "#SS helps with outliers\n",
    "#add in l1\n",
    "\n",
    "# ,input_shape=(8,)"
   ]
  },
  {
   "cell_type": "code",
   "execution_count": 19,
   "metadata": {},
   "outputs": [],
   "source": [
    "model2=Sequential()\n",
    "model2.add(Dense(50 ,activation=\"relu\",input_dim=48))\n",
    "# model.add(Dense(25 ,activation=\"relu\"))\n",
    "# model.add(Dense(25 ,activation=\"relu\"))\n",
    "model2.add(Dense(25 ,activation=\"selu\"))\n",
    "model2.add(Dense(1, ))#activation='linear'))\n",
    "model2.compile(loss='mse',optimizer=\"adam\",metrics=[tf.keras.metrics.RootMeanSquaredError(),\"mae\",coeff_determination])\n",
    "# add Dropouts layers when overfitting\n",
    "#SS helps with outliers\n",
    "#add in l1,\n",
    "\n",
    "\n",
    "\n",
    "\n",
    "# ,input_shape=(8,)"
   ]
  },
  {
   "cell_type": "code",
   "execution_count": 20,
   "metadata": {},
   "outputs": [
    {
     "name": "stdout",
     "output_type": "stream",
     "text": [
      "Model: \"sequential_3\"\n",
      "_________________________________________________________________\n",
      "Layer (type)                 Output Shape              Param #   \n",
      "=================================================================\n",
      "dense_8 (Dense)              (None, 50)                2450      \n",
      "_________________________________________________________________\n",
      "dense_9 (Dense)              (None, 25)                1275      \n",
      "_________________________________________________________________\n",
      "dense_10 (Dense)             (None, 1)                 26        \n",
      "=================================================================\n",
      "Total params: 3,751\n",
      "Trainable params: 3,751\n",
      "Non-trainable params: 0\n",
      "_________________________________________________________________\n"
     ]
    }
   ],
   "source": [
    "# early_stop = EarlyStopping(monitor='val_loss', min_delta=1e-08, patience=0, verbose=1,\n",
    "#                            mode='auto')\n",
    "# callbacks_list = [early_stop]\n",
    "model.summary()"
   ]
  },
  {
   "cell_type": "code",
   "execution_count": 21,
   "metadata": {},
   "outputs": [
    {
     "name": "stdout",
     "output_type": "stream",
     "text": [
      "Train on 157760 samples, validate on 39441 samples\n",
      "Epoch 1/50\n",
      "157760/157760 [==============================] - 4s 25us/step - loss: 10493887887.9026 - root_mean_squared_error: 115695.7500 - mae: 62395.6328 - coeff_determination: -0.2959 - val_loss: 7846002906.2760 - val_root_mean_squared_error: 101105.4688 - val_mae: 53828.7812 - val_coeff_determination: 0.1277\n",
      "Epoch 2/50\n",
      "157760/157760 [==============================] - 4s 23us/step - loss: 6963757998.1501 - root_mean_squared_error: 96143.9766 - mae: 50740.2305 - coeff_determination: 0.1897 - val_loss: 6973739045.7045 - val_root_mean_squared_error: 92470.7344 - val_mae: 48665.2500 - val_coeff_determination: 0.2336\n",
      "Epoch 3/50\n",
      "157760/157760 [==============================] - 5s 32us/step - loss: 6272482926.4828 - root_mean_squared_error: 90086.3672 - mae: 46599.4922 - coeff_determination: 0.2685 - val_loss: 6440836527.9371 - val_root_mean_squared_error: 88285.2812 - val_mae: 46058.4766 - val_coeff_determination: 0.2836\n",
      "Epoch 4/50\n",
      "157760/157760 [==============================] - 5s 32us/step - loss: 5891014980.1785 - root_mean_squared_error: 86766.5000 - mae: 44822.1484 - coeff_determination: 0.3026 - val_loss: 6125499209.0562 - val_root_mean_squared_error: 85591.8281 - val_mae: 44682.6602 - val_coeff_determination: 0.3110\n",
      "Epoch 5/50\n",
      "157760/157760 [==============================] - 5s 33us/step - loss: 5661292528.4828 - root_mean_squared_error: 84551.0391 - mae: 43771.1367 - coeff_determination: 0.3211 - val_loss: 5925387438.6812 - val_root_mean_squared_error: 83670.8125 - val_mae: 44004.2422 - val_coeff_determination: 0.3241\n",
      "Epoch 6/50\n",
      "157760/157760 [==============================] - 5s 33us/step - loss: 5520177190.1907 - root_mean_squared_error: 82878.8984 - mae: 43114.9844 - coeff_determination: 0.3323 - val_loss: 5809277967.3375 - val_root_mean_squared_error: 82228.2656 - val_mae: 43209.0273 - val_coeff_determination: 0.3346\n",
      "Epoch 7/50\n",
      "157760/157760 [==============================] - 5s 33us/step - loss: 5436226513.4199 - root_mean_squared_error: 81634.0469 - mae: 42668.1719 - coeff_determination: 0.3360 - val_loss: 5735126255.8316 - val_root_mean_squared_error: 81111.2734 - val_mae: 43096.0273 - val_coeff_determination: 0.3345\n",
      "Epoch 8/50\n",
      "157760/157760 [==============================] - 5s 32us/step - loss: 5387087946.4260 - root_mean_squared_error: 80653.0781 - mae: 42459.2812 - coeff_determination: 0.3362 - val_loss: 5694947412.1780 - val_root_mean_squared_error: 80227.1797 - val_mae: 42903.7773 - val_coeff_determination: 0.3371\n",
      "Epoch 9/50\n",
      "157760/157760 [==============================] - 5s 33us/step - loss: 5357417415.0426 - root_mean_squared_error: 79845.6797 - mae: 42345.4062 - coeff_determination: 0.3407 - val_loss: 5670148906.7932 - val_root_mean_squared_error: 79513.5938 - val_mae: 42944.9531 - val_coeff_determination: 0.3367\n",
      "Epoch 10/50\n",
      "157760/157760 [==============================] - 5s 33us/step - loss: 5336935075.7728 - root_mean_squared_error: 79214.3359 - mae: 42281.0820 - coeff_determination: 0.3393 - val_loss: 5657048980.1277 - val_root_mean_squared_error: 78926.9531 - val_mae: 42628.8906 - val_coeff_determination: 0.3402\n",
      "Epoch 11/50\n",
      "157760/157760 [==============================] - 5s 33us/step - loss: 5323919695.8945 - root_mean_squared_error: 78674.9844 - mae: 42207.5117 - coeff_determination: 0.3364 - val_loss: 5642309244.9429 - val_root_mean_squared_error: 78436.9766 - val_mae: 42772.5352 - val_coeff_determination: 0.3377\n",
      "Epoch 12/50\n",
      "157760/157760 [==============================] - 5s 33us/step - loss: 5312703279.7850 - root_mean_squared_error: 78229.3359 - mae: 42165.6641 - coeff_determination: 0.3390 - val_loss: 5633037018.5519 - val_root_mean_squared_error: 78020.8281 - val_mae: 42584.8281 - val_coeff_determination: 0.3378\n",
      "Epoch 13/50\n",
      "157760/157760 [==============================] - 5s 32us/step - loss: 5303987746.1460 - root_mean_squared_error: 77838.4219 - mae: 42107.0898 - coeff_determination: 0.3405 - val_loss: 5626827983.4235 - val_root_mean_squared_error: 77663.2969 - val_mae: 42447.7461 - val_coeff_determination: 0.3399\n",
      "Epoch 14/50\n",
      "157760/157760 [==============================] - 5s 32us/step - loss: 5296404893.5010 - root_mean_squared_error: 77496.4609 - mae: 42061.0898 - coeff_determination: 0.3409 - val_loss: 5620471236.0324 - val_root_mean_squared_error: 77352.3359 - val_mae: 42373.5352 - val_coeff_determination: 0.3403\n",
      "Epoch 15/50\n",
      "157760/157760 [==============================] - 6s 36us/step - loss: 5289871389.4361 - root_mean_squared_error: 77226.3047 - mae: 42006.1406 - coeff_determination: 0.3375 - val_loss: 5614340402.1959 - val_root_mean_squared_error: 77079.5234 - val_mae: 42397.3281 - val_coeff_determination: 0.3411\n",
      "Epoch 16/50\n",
      "157760/157760 [==============================] - 5s 35us/step - loss: 5284084736.8438 - root_mean_squared_error: 76951.7266 - mae: 41963.3359 - coeff_determination: 0.3410 - val_loss: 5607887837.5863 - val_root_mean_squared_error: 76837.5234 - val_mae: 42566.9102 - val_coeff_determination: 0.3370\n",
      "Epoch 17/50\n",
      "157760/157760 [==============================] - 5s 33us/step - loss: 5278961457.3306 - root_mean_squared_error: 76734.7500 - mae: 41927.8008 - coeff_determination: 0.3397 - val_loss: 5604291877.1106 - val_root_mean_squared_error: 76621.6641 - val_mae: 42727.7656 - val_coeff_determination: 0.3374\n",
      "Epoch 18/50\n",
      "157760/157760 [==============================] - 5s 32us/step - loss: 5275113830.7059 - root_mean_squared_error: 76510.9219 - mae: 41902.9414 - coeff_determination: 0.3381 - val_loss: 5600239121.8754 - val_root_mean_squared_error: 76428.1172 - val_mae: 42359.1680 - val_coeff_determination: 0.3401\n",
      "Epoch 19/50\n",
      "157760/157760 [==============================] - 5s 32us/step - loss: 5270296241.3915 - root_mean_squared_error: 76318.7344 - mae: 41859.0625 - coeff_determination: 0.3420 - val_loss: 5599630723.5212 - val_root_mean_squared_error: 76253.0078 - val_mae: 42805.8359 - val_coeff_determination: 0.3330\n",
      "Epoch 20/50\n",
      "157760/157760 [==============================] - 5s 33us/step - loss: 5267162323.7850 - root_mean_squared_error: 76178.6172 - mae: 41837.6992 - coeff_determination: 0.3372 - val_loss: 5593896284.0707 - val_root_mean_squared_error: 76094.2031 - val_mae: 42501.3750 - val_coeff_determination: 0.3395\n",
      "Epoch 21/50\n",
      "157760/157760 [==============================] - 5s 32us/step - loss: 5264853909.5781 - root_mean_squared_error: 76015.0078 - mae: 41823.8945 - coeff_determination: 0.3435 - val_loss: 5596163004.3279 - val_root_mean_squared_error: 75949.7344 - val_mae: 42010.2383 - val_coeff_determination: 0.3439\n",
      "Epoch 22/50\n",
      "157760/157760 [==============================] - 5s 32us/step - loss: 5261974841.9473 - root_mean_squared_error: 75878.4766 - mae: 41770.9258 - coeff_determination: 0.3457 - val_loss: 5590470316.6593 - val_root_mean_squared_error: 75817.2500 - val_mae: 42170.3789 - val_coeff_determination: 0.3423\n",
      "Epoch 23/50\n",
      "157760/157760 [==============================] - 5s 33us/step - loss: 5259219459.4767 - root_mean_squared_error: 75750.9766 - mae: 41760.7773 - coeff_determination: 0.3445 - val_loss: 5586820967.1568 - val_root_mean_squared_error: 75695.0938 - val_mae: 42347.3516 - val_coeff_determination: 0.3390\n",
      "Epoch 24/50\n",
      "157760/157760 [==============================] - 5s 32us/step - loss: 5257418166.1582 - root_mean_squared_error: 75647.9219 - mae: 41744.6133 - coeff_determination: 0.3453 - val_loss: 5587357505.1180 - val_root_mean_squared_error: 75582.8203 - val_mae: 42059.0117 - val_coeff_determination: 0.3419\n",
      "Epoch 25/50\n",
      "157760/157760 [==============================] - 5s 33us/step - loss: 5255437768.5639 - root_mean_squared_error: 75530.1016 - mae: 41718.2500 - coeff_determination: 0.3416 - val_loss: 5585276777.4318 - val_root_mean_squared_error: 75478.8359 - val_mae: 42159.4258 - val_coeff_determination: 0.3425\n",
      "Epoch 26/50\n",
      "157760/157760 [==============================] - 5s 32us/step - loss: 5253927064.5517 - root_mean_squared_error: 75429.8125 - mae: 41709.1797 - coeff_determination: 0.3421 - val_loss: 5582974034.6689 - val_root_mean_squared_error: 75382.4531 - val_mae: 42198.7695 - val_coeff_determination: 0.3407\n",
      "Epoch 27/50\n",
      "157760/157760 [==============================] - 5s 32us/step - loss: 5251937498.4584 - root_mean_squared_error: 75339.6016 - mae: 41677.6680 - coeff_determination: 0.3421 - val_loss: 5581599759.7140 - val_root_mean_squared_error: 75292.2812 - val_mae: 42436.1836 - val_coeff_determination: 0.3387\n",
      "Epoch 28/50\n",
      "157760/157760 [==============================] - 5s 33us/step - loss: 5250649445.2860 - root_mean_squared_error: 75247.5234 - mae: 41688.6172 - coeff_determination: 0.3472 - val_loss: 5581184972.5644 - val_root_mean_squared_error: 75208.3984 - val_mae: 42112.7383 - val_coeff_determination: 0.3410\n",
      "Epoch 29/50\n",
      "157760/157760 [==============================] - 5s 32us/step - loss: 5249124052.4381 - root_mean_squared_error: 75170.7500 - mae: 41667.2695 - coeff_determination: 0.3427 - val_loss: 5580398620.1924 - val_root_mean_squared_error: 75130.0703 - val_mae: 42080.6367 - val_coeff_determination: 0.3417\n",
      "Epoch 30/50\n",
      "157760/157760 [==============================] - 5s 33us/step - loss: 5247859934.0081 - root_mean_squared_error: 75093.1562 - mae: 41648.1602 - coeff_determination: 0.3417 - val_loss: 5579465286.9694 - val_root_mean_squared_error: 75056.3828 - val_mae: 42106.2148 - val_coeff_determination: 0.3433\n",
      "Epoch 31/50\n",
      "157760/157760 [==============================] - 5s 33us/step - loss: 5246814868.0974 - root_mean_squared_error: 75017.7188 - mae: 41639.3594 - coeff_determination: 0.3411 - val_loss: 5577518670.0929 - val_root_mean_squared_error: 74987.0234 - val_mae: 42129.1953 - val_coeff_determination: 0.3416\n",
      "Epoch 32/50\n",
      "157760/157760 [==============================] - 6s 36us/step - loss: 5245752737.2292 - root_mean_squared_error: 74957.0781 - mae: 41631.2695 - coeff_determination: 0.3466 - val_loss: 5578370055.8375 - val_root_mean_squared_error: 74922.2344 - val_mae: 41991.9883 - val_coeff_determination: 0.3434\n",
      "Epoch 33/50\n",
      "157760/157760 [==============================] - 6s 39us/step - loss: 5244104859.3611 - root_mean_squared_error: 74893.8984 - mae: 41633.6602 - coeff_determination: 0.3463 - val_loss: 5581241567.6211 - val_root_mean_squared_error: 74861.1797 - val_mae: 41785.8281 - val_coeff_determination: 0.3433\n",
      "Epoch 34/50\n",
      "157760/157760 [==============================] - 6s 37us/step - loss: 5243789389.7647 - root_mean_squared_error: 74828.0234 - mae: 41588.1055 - coeff_determination: 0.3417 - val_loss: 5575260793.1848 - val_root_mean_squared_error: 74802.8047 - val_mae: 42311.3164 - val_coeff_determination: 0.3401\n",
      "Epoch 35/50\n",
      "157760/157760 [==============================] - 6s 39us/step - loss: 5242431774.2028 - root_mean_squared_error: 74771.9609 - mae: 41609.3008 - coeff_determination: 0.3414 - val_loss: 5575897175.6440 - val_root_mean_squared_error: 74748.1484 - val_mae: 42096.6055 - val_coeff_determination: 0.3443\n",
      "Epoch 36/50\n",
      "157760/157760 [==============================] - 6s 39us/step - loss: 5240304673.3874 - root_mean_squared_error: 74713.5703 - mae: 41581.6680 - coeff_determination: 0.3504 - val_loss: 5577358583.0104 - val_root_mean_squared_error: 74695.7891 - val_mae: 42441.1875 - val_coeff_determination: 0.3350\n",
      "Epoch 37/50\n",
      "157760/157760 [==============================] - 6s 39us/step - loss: 5240613256.2211 - root_mean_squared_error: 74672.7734 - mae: 41589.4336 - coeff_determination: 0.3413 - val_loss: 5573382312.9758 - val_root_mean_squared_error: 74646.5938 - val_mae: 42116.6211 - val_coeff_determination: 0.3412\n",
      "Epoch 38/50\n",
      "157760/157760 [==============================] - 6s 39us/step - loss: 5239810294.1440 - root_mean_squared_error: 74624.3672 - mae: 41564.3203 - coeff_determination: 0.3463 - val_loss: 5572771191.2408 - val_root_mean_squared_error: 74599.4297 - val_mae: 42335.4258 - val_coeff_determination: 0.3404\n",
      "Epoch 39/50\n",
      "157760/157760 [==============================] - 6s 38us/step - loss: 5238662043.4361 - root_mean_squared_error: 74575.5625 - mae: 41551.5469 - coeff_determination: 0.3432 - val_loss: 5574366732.3680 - val_root_mean_squared_error: 74554.8516 - val_mae: 42573.4492 - val_coeff_determination: 0.3384\n",
      "Epoch 40/50\n",
      "157760/157760 [==============================] - 6s 38us/step - loss: 5238780598.3489 - root_mean_squared_error: 74535.1562 - mae: 41579.3945 - coeff_determination: 0.3464 - val_loss: 5572294499.5220 - val_root_mean_squared_error: 74512.7109 - val_mae: 42036.2812 - val_coeff_determination: 0.3434\n",
      "Epoch 41/50\n",
      "157760/157760 [==============================] - 5s 34us/step - loss: 5237714949.4523 - root_mean_squared_error: 74493.9531 - mae: 41555.5352 - coeff_determination: 0.3433 - val_loss: 5575131789.9161 - val_root_mean_squared_error: 74471.9609 - val_mae: 41889.9922 - val_coeff_determination: 0.3464\n",
      "Epoch 42/50\n",
      "157760/157760 [==============================] - 5s 34us/step - loss: 5237510143.6146 - root_mean_squared_error: 74451.1953 - mae: 41534.2930 - coeff_determination: 0.3470 - val_loss: 5570649402.8026 - val_root_mean_squared_error: 74433.5156 - val_mae: 42081.1289 - val_coeff_determination: 0.3423\n",
      "Epoch 43/50\n",
      "157760/157760 [==============================] - 5s 33us/step - loss: 5236449512.9412 - root_mean_squared_error: 74412.8438 - mae: 41536.0117 - coeff_determination: 0.3464 - val_loss: 5571467195.5944 - val_root_mean_squared_error: 74395.8359 - val_mae: 42462.6367 - val_coeff_determination: 0.3390\n",
      "Epoch 44/50\n",
      "157760/157760 [==============================] - 5s 34us/step - loss: 5236328948.6694 - root_mean_squared_error: 74378.1641 - mae: 41548.3750 - coeff_determination: 0.3476 - val_loss: 5570353683.2092 - val_root_mean_squared_error: 74360.6875 - val_mae: 42015.6523 - val_coeff_determination: 0.3421\n",
      "Epoch 45/50\n",
      "157760/157760 [==============================] - 8s 54us/step - loss: 5235240005.6795 - root_mean_squared_error: 74340.2969 - mae: 41522.1133 - coeff_determination: 0.3483 - val_loss: 5569363427.8271 - val_root_mean_squared_error: 74326.5391 - val_mae: 42171.5078 - val_coeff_determination: 0.3422\n",
      "Epoch 46/50\n",
      "157760/157760 [==============================] - 7s 45us/step - loss: 5234867970.8438 - root_mean_squared_error: 74310.7500 - mae: 41534.6172 - coeff_determination: 0.3489 - val_loss: 5570789990.2773 - val_root_mean_squared_error: 74293.9688 - val_mae: 41884.1484 - val_coeff_determination: 0.3434\n",
      "Epoch 47/50\n",
      "157760/157760 [==============================] - 5s 29us/step - loss: 5233676299.4402 - root_mean_squared_error: 74275.4297 - mae: 41517.1367 - coeff_determination: 0.3434 - val_loss: 5570299500.4078 - val_root_mean_squared_error: 74262.5781 - val_mae: 41949.6562 - val_coeff_determination: 0.3446\n",
      "Epoch 48/50\n",
      "157760/157760 [==============================] - 5s 30us/step - loss: 5233417921.1684 - root_mean_squared_error: 74244.9609 - mae: 41512.5078 - coeff_determination: 0.3482 - val_loss: 5571548271.5298 - val_root_mean_squared_error: 74232.6562 - val_mae: 41837.8633 - val_coeff_determination: 0.3460\n",
      "Epoch 49/50\n",
      "157760/157760 [==============================] - 5s 34us/step - loss: 5233299568.0000 - root_mean_squared_error: 74217.6250 - mae: 41496.0703 - coeff_determination: 0.3414 - val_loss: 5569447489.1635 - val_root_mean_squared_error: 74203.2109 - val_mae: 41983.3984 - val_coeff_determination: 0.3450\n",
      "Epoch 50/50\n",
      "157760/157760 [==============================] - 5s 32us/step - loss: 5232587653.0183 - root_mean_squared_error: 74186.5469 - mae: 41513.3711 - coeff_determination: 0.3481 - val_loss: 5569923786.3640 - val_root_mean_squared_error: 74175.1953 - val_mae: 41831.0703 - val_coeff_determination: 0.3437\n"
     ]
    }
   ],
   "source": [
    "history=model.fit(X_train_mm,y_train,epochs=50,batch_size=50,validation_split=.2)#callbacks=callbacks_list)"
   ]
  },
  {
   "cell_type": "code",
   "execution_count": 22,
   "metadata": {},
   "outputs": [
    {
     "name": "stdout",
     "output_type": "stream",
     "text": [
      "Train on 157760 samples, validate on 39441 samples\n",
      "Epoch 1/50\n",
      "157760/157760 [==============================] - 4s 28us/step - loss: 10081231981.0467 - root_mean_squared_error: 113310.2734 - mae: 61235.5195 - coeff_determination: -0.2392 - val_loss: 7702257886.4950 - val_root_mean_squared_error: 99189.5156 - val_mae: 52692.6680 - val_coeff_determination: 0.1487\n",
      "Epoch 2/50\n",
      "157760/157760 [==============================] - 4s 27us/step - loss: 6791878697.5578 - root_mean_squared_error: 94354.6484 - mae: 49662.1289 - coeff_determination: 0.2085 - val_loss: 6802979860.2283 - val_root_mean_squared_error: 90995.9609 - val_mae: 47898.2305 - val_coeff_determination: 0.2497\n",
      "Epoch 3/50\n",
      "157760/157760 [==============================] - 4s 27us/step - loss: 6139025054.4746 - root_mean_squared_error: 88839.4141 - mae: 45916.2383 - coeff_determination: 0.2796 - val_loss: 6317684037.1715 - val_root_mean_squared_error: 87006.2656 - val_mae: 45405.7305 - val_coeff_determination: 0.2959\n",
      "Epoch 4/50\n",
      "157760/157760 [==============================] - 4s 27us/step - loss: 5790347361.9838 - root_mean_squared_error: 85650.1719 - mae: 44323.0312 - coeff_determination: 0.3096 - val_loss: 6024513244.7847 - val_root_mean_squared_error: 84455.8047 - val_mae: 44523.3398 - val_coeff_determination: 0.3166\n",
      "Epoch 5/50\n",
      "157760/157760 [==============================] - 4s 27us/step - loss: 5582588254.2028 - root_mean_squared_error: 83528.9609 - mae: 43441.8125 - coeff_determination: 0.3280 - val_loss: 5850850502.0510 - val_root_mean_squared_error: 82647.7109 - val_mae: 43977.0898 - val_coeff_determination: 0.3264\n",
      "Epoch 6/50\n",
      "157760/157760 [==============================] - 4s 27us/step - loss: 5468027925.7444 - root_mean_squared_error: 81927.1641 - mae: 42946.1953 - coeff_determination: 0.3322 - val_loss: 5759295654.0583 - val_root_mean_squared_error: 81308.0078 - val_mae: 43277.1367 - val_coeff_determination: 0.3337\n",
      "Epoch 7/50\n",
      "157760/157760 [==============================] - 4s 27us/step - loss: 5405585462.4462 - root_mean_squared_error: 80745.3672 - mae: 42641.4609 - coeff_determination: 0.3352 - val_loss: 5710736825.6050 - val_root_mean_squared_error: 80285.6328 - val_mae: 42823.0977 - val_coeff_determination: 0.3370\n",
      "Epoch 8/50\n",
      "157760/157760 [==============================] - 5s 29us/step - loss: 5368831850.2475 - root_mean_squared_error: 79871.5625 - mae: 42436.6836 - coeff_determination: 0.3391 - val_loss: 5678868888.3596 - val_root_mean_squared_error: 79483.8203 - val_mae: 42770.9375 - val_coeff_determination: 0.3381\n",
      "Epoch 9/50\n",
      "157760/157760 [==============================] - 5s 31us/step - loss: 5344623775.3631 - root_mean_squared_error: 79142.5938 - mae: 42305.3359 - coeff_determination: 0.3362 - val_loss: 5657060480.1006 - val_root_mean_squared_error: 78838.7500 - val_mae: 42992.8906 - val_coeff_determination: 0.3333\n",
      "Epoch 10/50\n",
      "157760/157760 [==============================] - 5s 33us/step - loss: 5327140420.0487 - root_mean_squared_error: 78554.0625 - mae: 42199.1953 - coeff_determination: 0.3407 - val_loss: 5642758837.9702 - val_root_mean_squared_error: 78309.3047 - val_mae: 42662.0234 - val_coeff_determination: 0.3374\n",
      "Epoch 11/50\n",
      "157760/157760 [==============================] - 5s 34us/step - loss: 5313787048.2353 - root_mean_squared_error: 78074.4688 - mae: 42113.7422 - coeff_determination: 0.3384 - val_loss: 5631396796.4058 - val_root_mean_squared_error: 77866.3359 - val_mae: 42644.1055 - val_coeff_determination: 0.3368\n",
      "Epoch 12/50\n",
      "157760/157760 [==============================] - 4s 27us/step - loss: 5302872301.5903 - root_mean_squared_error: 77670.3750 - mae: 42039.5977 - coeff_determination: 0.3402 - val_loss: 5622777491.1736 - val_root_mean_squared_error: 77490.0078 - val_mae: 42628.8828 - val_coeff_determination: 0.3366\n",
      "Epoch 13/50\n",
      "157760/157760 [==============================] - 4s 25us/step - loss: 5294703495.4239 - root_mean_squared_error: 77322.1172 - mae: 41986.4180 - coeff_determination: 0.3371 - val_loss: 5615494773.4039 - val_root_mean_squared_error: 77166.6328 - val_mae: 42509.8867 - val_coeff_determination: 0.3387\n",
      "Epoch 14/50\n",
      "157760/157760 [==============================] - 4s 24us/step - loss: 5287459826.3124 - root_mean_squared_error: 77015.1328 - mae: 41923.1719 - coeff_determination: 0.3350 - val_loss: 5609618966.1982 - val_root_mean_squared_error: 76885.2031 - val_mae: 42594.3555 - val_coeff_determination: 0.3391\n",
      "Epoch 15/50\n",
      "157760/157760 [==============================] - 5s 31us/step - loss: 5281276247.3590 - root_mean_squared_error: 76753.5547 - mae: 41906.3398 - coeff_determination: 0.3437 - val_loss: 5608046545.3675 - val_root_mean_squared_error: 76638.5625 - val_mae: 42136.6172 - val_coeff_determination: 0.3421\n",
      "Epoch 16/50\n",
      "157760/157760 [==============================] - 5s 30us/step - loss: 5275880519.7972 - root_mean_squared_error: 76532.6641 - mae: 41845.3398 - coeff_determination: 0.3446 - val_loss: 5600405983.0921 - val_root_mean_squared_error: 76419.8125 - val_mae: 42369.1211 - val_coeff_determination: 0.3407\n",
      "Epoch 17/50\n",
      "157760/157760 [==============================] - 4s 23us/step - loss: 5271191771.2860 - root_mean_squared_error: 76318.4062 - mae: 41807.0469 - coeff_determination: 0.3393 - val_loss: 5596562584.1000 - val_root_mean_squared_error: 76225.0000 - val_mae: 42385.3320 - val_coeff_determination: 0.3404\n",
      "Epoch 18/50\n",
      "157760/157760 [==============================] - 4s 22us/step - loss: 5267073919.3387 - root_mean_squared_error: 76146.8125 - mae: 41786.2930 - coeff_determination: 0.3443 - val_loss: 5593861211.5287 - val_root_mean_squared_error: 76049.6797 - val_mae: 42299.3359 - val_coeff_determination: 0.3411\n",
      "Epoch 19/50\n",
      "157760/157760 [==============================] - 4s 22us/step - loss: 5263066213.0264 - root_mean_squared_error: 75961.8594 - mae: 41750.3594 - coeff_determination: 0.3429 - val_loss: 5590606480.9700 - val_root_mean_squared_error: 75891.2656 - val_mae: 42365.1484 - val_coeff_determination: 0.3398\n",
      "Epoch 20/50\n",
      "157760/157760 [==============================] - 4s 22us/step - loss: 5260545603.2089 - root_mean_squared_error: 75813.4609 - mae: 41728.8555 - coeff_determination: 0.3402 - val_loss: 5588257181.6658 - val_root_mean_squared_error: 75747.7031 - val_mae: 42357.7266 - val_coeff_determination: 0.3403\n",
      "Epoch 21/50\n",
      "157760/157760 [==============================] - 4s 22us/step - loss: 5257330660.7424 - root_mean_squared_error: 75676.0156 - mae: 41713.8711 - coeff_determination: 0.3475 - val_loss: 5586870787.8750 - val_root_mean_squared_error: 75616.8281 - val_mae: 42484.1758 - val_coeff_determination: 0.3376\n",
      "Epoch 22/50\n",
      "157760/157760 [==============================] - 4s 22us/step - loss: 5254942608.2556 - root_mean_squared_error: 75561.2344 - mae: 41690.6484 - coeff_determination: 0.3449 - val_loss: 5584519100.5161 - val_root_mean_squared_error: 75496.8906 - val_mae: 42252.6094 - val_coeff_determination: 0.3412\n",
      "Epoch 23/50\n",
      "157760/157760 [==============================] - 4s 23us/step - loss: 5252697741.5416 - root_mean_squared_error: 75439.4688 - mae: 41673.0469 - coeff_determination: 0.3432 - val_loss: 5582784078.6771 - val_root_mean_squared_error: 75386.6172 - val_mae: 42317.6562 - val_coeff_determination: 0.3403\n",
      "Epoch 24/50\n",
      "157760/157760 [==============================] - 4s 23us/step - loss: 5250028808.7911 - root_mean_squared_error: 75328.4297 - mae: 41652.6953 - coeff_determination: 0.3479 - val_loss: 5582701321.3271 - val_root_mean_squared_error: 75284.9844 - val_mae: 42491.1328 - val_coeff_determination: 0.3377\n",
      "Epoch 25/50\n",
      "157760/157760 [==============================] - 4s 22us/step - loss: 5248620635.2495 - root_mean_squared_error: 75232.2812 - mae: 41633.8281 - coeff_determination: 0.3456 - val_loss: 5581224690.4863 - val_root_mean_squared_error: 75190.7266 - val_mae: 42382.6836 - val_coeff_determination: 0.3377\n",
      "Epoch 26/50\n",
      "157760/157760 [==============================] - 3s 22us/step - loss: 5246455103.2130 - root_mean_squared_error: 75141.6250 - mae: 41624.5781 - coeff_determination: 0.3468 - val_loss: 5579330415.9777 - val_root_mean_squared_error: 75103.2734 - val_mae: 42218.2031 - val_coeff_determination: 0.3405\n",
      "Epoch 27/50\n",
      "157760/157760 [==============================] - 4s 22us/step - loss: 5245178276.9858 - root_mean_squared_error: 75066.5781 - mae: 41604.3867 - coeff_determination: 0.3428 - val_loss: 5578135533.5891 - val_root_mean_squared_error: 75022.1172 - val_mae: 42212.0000 - val_coeff_determination: 0.3409\n",
      "Epoch 28/50\n",
      "157760/157760 [==============================] - 4s 22us/step - loss: 5243432443.8053 - root_mean_squared_error: 74980.5234 - mae: 41602.8867 - coeff_determination: 0.3424 - val_loss: 5577187153.2896 - val_root_mean_squared_error: 74946.0859 - val_mae: 42317.6055 - val_coeff_determination: 0.3404\n",
      "Epoch 29/50\n",
      "157760/157760 [==============================] - 4s 22us/step - loss: 5242440401.5456 - root_mean_squared_error: 74909.4688 - mae: 41601.4492 - coeff_determination: 0.3430 - val_loss: 5577236196.9922 - val_root_mean_squared_error: 74874.7969 - val_mae: 42008.8672 - val_coeff_determination: 0.3420\n",
      "Epoch 30/50\n",
      "157760/157760 [==============================] - 4s 22us/step - loss: 5241422166.8398 - root_mean_squared_error: 74842.6953 - mae: 41570.2812 - coeff_determination: 0.3453 - val_loss: 5576117916.3222 - val_root_mean_squared_error: 74808.6875 - val_mae: 42068.4922 - val_coeff_determination: 0.3411\n",
      "Epoch 31/50\n",
      "157760/157760 [==============================] - 4s 22us/step - loss: 5239890981.1521 - root_mean_squared_error: 74780.1016 - mae: 41551.6211 - coeff_determination: 0.3458 - val_loss: 5575080172.3429 - val_root_mean_squared_error: 74745.7812 - val_mae: 42320.1641 - val_coeff_determination: 0.3393\n",
      "Epoch 32/50\n",
      "157760/157760 [==============================] - 4s 23us/step - loss: 5238663457.6024 - root_mean_squared_error: 74717.1250 - mae: 41553.0469 - coeff_determination: 0.3478 - val_loss: 5576534020.9362 - val_root_mean_squared_error: 74686.6172 - val_mae: 41854.3125 - val_coeff_determination: 0.3449\n",
      "Epoch 33/50\n",
      "157760/157760 [==============================] - 4s 25us/step - loss: 5237654388.8560 - root_mean_squared_error: 74655.8281 - mae: 41552.4258 - coeff_determination: 0.3429 - val_loss: 5573676549.3094 - val_root_mean_squared_error: 74631.0234 - val_mae: 42158.1406 - val_coeff_determination: 0.3399\n",
      "Epoch 34/50\n",
      "157760/157760 [==============================] - 4s 28us/step - loss: 5236244140.9615 - root_mean_squared_error: 74606.7188 - mae: 41527.8164 - coeff_determination: 0.3390 - val_loss: 5574338921.7693 - val_root_mean_squared_error: 74578.4219 - val_mae: 41975.5039 - val_coeff_determination: 0.3454\n",
      "Epoch 35/50\n",
      "157760/157760 [==============================] - 4s 25us/step - loss: 5235910656.2475 - root_mean_squared_error: 74552.6875 - mae: 41541.2109 - coeff_determination: 0.3437 - val_loss: 5572706672.0134 - val_root_mean_squared_error: 74528.9766 - val_mae: 42045.3281 - val_coeff_determination: 0.3416\n",
      "Epoch 36/50\n",
      "157760/157760 [==============================] - 4s 27us/step - loss: 5235080187.0872 - root_mean_squared_error: 74502.6172 - mae: 41521.5742 - coeff_determination: 0.3480 - val_loss: 5572591513.2586 - val_root_mean_squared_error: 74481.7266 - val_mae: 41971.3672 - val_coeff_determination: 0.3432\n",
      "Epoch 37/50\n",
      "157760/157760 [==============================] - 4s 28us/step - loss: 5233988613.1359 - root_mean_squared_error: 74456.2109 - mae: 41508.8203 - coeff_determination: 0.3486 - val_loss: 5572192235.1064 - val_root_mean_squared_error: 74437.2109 - val_mae: 41963.7852 - val_coeff_determination: 0.3440\n",
      "Epoch 38/50\n",
      "157760/157760 [==============================] - 4s 27us/step - loss: 5233220889.8458 - root_mean_squared_error: 74408.5859 - mae: 41531.1523 - coeff_determination: 0.3489 - val_loss: 5571841960.2554 - val_root_mean_squared_error: 74394.3906 - val_mae: 42068.0625 - val_coeff_determination: 0.3405\n",
      "Epoch 39/50\n",
      "157760/157760 [==============================] - 5s 29us/step - loss: 5232257260.2272 - root_mean_squared_error: 74368.5938 - mae: 41504.9297 - coeff_determination: 0.3465 - val_loss: 5571184940.5327 - val_root_mean_squared_error: 74353.8438 - val_mae: 42015.0703 - val_coeff_determination: 0.3423\n",
      "Epoch 40/50\n",
      "157760/157760 [==============================] - 4s 28us/step - loss: 5232336835.0548 - root_mean_squared_error: 74330.2344 - mae: 41493.2305 - coeff_determination: 0.3454 - val_loss: 5570875067.0330 - val_root_mean_squared_error: 74314.9375 - val_mae: 42117.2617 - val_coeff_determination: 0.3409\n",
      "Epoch 41/50\n",
      "157760/157760 [==============================] - 4s 27us/step - loss: 5231756365.0183 - root_mean_squared_error: 74295.5469 - mae: 41481.1328 - coeff_determination: 0.3459 - val_loss: 5571032219.7023 - val_root_mean_squared_error: 74278.4688 - val_mae: 41999.0156 - val_coeff_determination: 0.3438\n",
      "Epoch 42/50\n",
      "157760/157760 [==============================] - 4s 26us/step - loss: 5230618442.6491 - root_mean_squared_error: 74262.9375 - mae: 41496.4766 - coeff_determination: 0.3494 - val_loss: 5570258163.6287 - val_root_mean_squared_error: 74242.9375 - val_mae: 42227.5156 - val_coeff_determination: 0.3408\n",
      "Epoch 43/50\n",
      "157760/157760 [==============================] - 4s 23us/step - loss: 5230568768.3164 - root_mean_squared_error: 74225.8125 - mae: 41495.7422 - coeff_determination: 0.3443 - val_loss: 5571385103.2369 - val_root_mean_squared_error: 74209.8281 - val_mae: 41864.0234 - val_coeff_determination: 0.3446\n",
      "Epoch 44/50\n",
      "157760/157760 [==============================] - 4s 23us/step - loss: 5229617128.9371 - root_mean_squared_error: 74186.4375 - mae: 41483.9023 - coeff_determination: 0.3463 - val_loss: 5570360437.9654 - val_root_mean_squared_error: 74177.6484 - val_mae: 41912.3984 - val_coeff_determination: 0.3432\n",
      "Epoch 45/50\n",
      "157760/157760 [==============================] - 5s 29us/step - loss: 5228859232.1826 - root_mean_squared_error: 74164.7031 - mae: 41470.7812 - coeff_determination: 0.3464 - val_loss: 5573212371.1200 - val_root_mean_squared_error: 74146.6484 - val_mae: 41734.8398 - val_coeff_determination: 0.3459\n",
      "Epoch 46/50\n",
      "157760/157760 [==============================] - 4s 26us/step - loss: 5228303072.8884 - root_mean_squared_error: 74131.2422 - mae: 41466.4844 - coeff_determination: 0.3447 - val_loss: 5570932429.6970 - val_root_mean_squared_error: 74117.5703 - val_mae: 42351.3438 - val_coeff_determination: 0.3380\n",
      "Epoch 47/50\n",
      "157760/157760 [==============================] - 5s 33us/step - loss: 5228150205.8621 - root_mean_squared_error: 74099.2188 - mae: 41468.8164 - coeff_determination: 0.3453 - val_loss: 5569691616.2799 - val_root_mean_squared_error: 74089.3906 - val_mae: 42265.8281 - val_coeff_determination: 0.3399\n",
      "Epoch 48/50\n",
      "157760/157760 [==============================] - 5s 34us/step - loss: 5227159752.4381 - root_mean_squared_error: 74073.0859 - mae: 41464.2148 - coeff_determination: 0.3462 - val_loss: 5569154844.3287 - val_root_mean_squared_error: 74062.1016 - val_mae: 42168.0352 - val_coeff_determination: 0.3409\n",
      "Epoch 49/50\n",
      "157760/157760 [==============================] - 6s 38us/step - loss: 5226504100.6450 - root_mean_squared_error: 74044.7891 - mae: 41456.2969 - coeff_determination: 0.3485 - val_loss: 5569050378.1937 - val_root_mean_squared_error: 74035.3750 - val_mae: 42039.3984 - val_coeff_determination: 0.3427\n",
      "Epoch 50/50\n",
      "157760/157760 [==============================] - 5s 34us/step - loss: 5226187038.7059 - root_mean_squared_error: 74021.9531 - mae: 41452.5625 - coeff_determination: 0.3444 - val_loss: 5568405069.0220 - val_root_mean_squared_error: 74010.4688 - val_mae: 42048.8242 - val_coeff_determination: 0.3432\n"
     ]
    }
   ],
   "source": [
    "history1=model1.fit(X_train_mm,y_train,epochs=50,batch_size=50,validation_split=.2)#callbacks=callbacks_list)"
   ]
  },
  {
   "cell_type": "code",
   "execution_count": 23,
   "metadata": {},
   "outputs": [
    {
     "name": "stdout",
     "output_type": "stream",
     "text": [
      "Train on 157760 samples, validate on 39441 samples\n",
      "Epoch 1/50\n",
      "157760/157760 [==============================] - 5s 34us/step - loss: 9711632544.4300 - root_mean_squared_error: 113803.8828 - mae: 62014.9102 - coeff_determination: -0.2707 - val_loss: 6398557637.8887 - val_root_mean_squared_error: 96750.5312 - val_mae: 47143.9688 - val_coeff_determination: 0.2138\n",
      "Epoch 2/50\n",
      "157760/157760 [==============================] - 5s 34us/step - loss: 5663092529.2333 - root_mean_squared_error: 90397.0703 - mae: 44036.8555 - coeff_determination: 0.2820 - val_loss: 5816912807.1325 - val_root_mean_squared_error: 86356.9297 - val_mae: 43521.4219 - val_coeff_determination: 0.3121\n",
      "Epoch 3/50\n",
      "157760/157760 [==============================] - 5s 33us/step - loss: 5388932276.9087 - root_mean_squared_error: 84029.4688 - mae: 42367.3281 - coeff_determination: 0.3221 - val_loss: 5666397505.6275 - val_root_mean_squared_error: 82266.9609 - val_mae: 42703.1328 - val_coeff_determination: 0.3300\n",
      "Epoch 4/50\n",
      "157760/157760 [==============================] - 5s 33us/step - loss: 5299547364.4219 - root_mean_squared_error: 81019.6641 - mae: 41812.2695 - coeff_determination: 0.3427 - val_loss: 5618145303.0225 - val_root_mean_squared_error: 80054.7656 - val_mae: 42460.3555 - val_coeff_determination: 0.3363\n",
      "Epoch 5/50\n",
      "157760/157760 [==============================] - 5s 33us/step - loss: 5276393841.2779 - root_mean_squared_error: 79276.8281 - mae: 41753.0859 - coeff_determination: 0.3424 - val_loss: 5606962188.2188 - val_root_mean_squared_error: 78684.9531 - val_mae: 42553.4961 - val_coeff_determination: 0.3367\n",
      "Epoch 6/50\n",
      "157760/157760 [==============================] - 5s 33us/step - loss: 5267654611.7160 - root_mean_squared_error: 78184.3750 - mae: 41747.7695 - coeff_determination: 0.3409 - val_loss: 5603566783.4045 - val_root_mean_squared_error: 77757.8594 - val_mae: 42065.6953 - val_coeff_determination: 0.3453\n",
      "Epoch 7/50\n",
      "157760/157760 [==============================] - 5s 33us/step - loss: 5262905340.1460 - root_mean_squared_error: 77431.9531 - mae: 41679.7500 - coeff_determination: 0.3392 - val_loss: 5595572076.8135 - val_root_mean_squared_error: 77087.2969 - val_mae: 42338.9492 - val_coeff_determination: 0.3398\n",
      "Epoch 8/50\n",
      "157760/157760 [==============================] - 5s 33us/step - loss: 5258121707.8945 - root_mean_squared_error: 76813.5859 - mae: 41640.9961 - coeff_determination: 0.3419 - val_loss: 5593468041.0837 - val_root_mean_squared_error: 76578.8281 - val_mae: 42472.2812 - val_coeff_determination: 0.3377\n",
      "Epoch 9/50\n",
      "157760/157760 [==============================] - 5s 33us/step - loss: 5254659472.7059 - root_mean_squared_error: 76362.1562 - mae: 41649.2773 - coeff_determination: 0.3477 - val_loss: 5588836943.0016 - val_root_mean_squared_error: 76179.9531 - val_mae: 42198.3906 - val_coeff_determination: 0.3428\n",
      "Epoch 10/50\n",
      "157760/157760 [==============================] - 5s 34us/step - loss: 5251023678.6126 - root_mean_squared_error: 76012.6641 - mae: 41626.8398 - coeff_determination: 0.3464 - val_loss: 5586388230.6108 - val_root_mean_squared_error: 75857.7578 - val_mae: 42141.5898 - val_coeff_determination: 0.3428\n",
      "Epoch 11/50\n",
      "157760/157760 [==============================] - 5s 33us/step - loss: 5247884325.4990 - root_mean_squared_error: 75717.1250 - mae: 41580.7656 - coeff_determination: 0.3437 - val_loss: 5586398729.6290 - val_root_mean_squared_error: 75591.8516 - val_mae: 42026.6680 - val_coeff_determination: 0.3460\n",
      "Epoch 12/50\n",
      "157760/157760 [==============================] - 5s 34us/step - loss: 5245769809.1886 - root_mean_squared_error: 75483.5859 - mae: 41570.9297 - coeff_determination: 0.3426 - val_loss: 5582488852.8903 - val_root_mean_squared_error: 75368.9609 - val_mae: 42110.9883 - val_coeff_determination: 0.3439\n",
      "Epoch 13/50\n",
      "157760/157760 [==============================] - 6s 39us/step - loss: 5243317883.2130 - root_mean_squared_error: 75270.4609 - mae: 41563.7617 - coeff_determination: 0.3466 - val_loss: 5580209081.3941 - val_root_mean_squared_error: 75178.5469 - val_mae: 42034.2773 - val_coeff_determination: 0.3449\n",
      "Epoch 14/50\n",
      "157760/157760 [==============================] - 6s 39us/step - loss: 5241035643.0101 - root_mean_squared_error: 75096.0938 - mae: 41515.5703 - coeff_determination: 0.3445 - val_loss: 5577394031.2605 - val_root_mean_squared_error: 75013.9453 - val_mae: 42239.4531 - val_coeff_determination: 0.3423\n",
      "Epoch 15/50\n",
      "157760/157760 [==============================] - 6s 39us/step - loss: 5238850753.6024 - root_mean_squared_error: 74942.4219 - mae: 41550.9609 - coeff_determination: 0.3396 - val_loss: 5578588718.2171 - val_root_mean_squared_error: 74870.7500 - val_mae: 41984.0391 - val_coeff_determination: 0.3459\n",
      "Epoch 16/50\n",
      "157760/157760 [==============================] - 6s 39us/step - loss: 5236450874.1136 - root_mean_squared_error: 74812.8125 - mae: 41510.7227 - coeff_determination: 0.3440 - val_loss: 5577244475.8768 - val_root_mean_squared_error: 74744.1016 - val_mae: 42185.4570 - val_coeff_determination: 0.3425\n",
      "Epoch 17/50\n",
      "157760/157760 [==============================] - 6s 39us/step - loss: 5233812631.8945 - root_mean_squared_error: 74692.1875 - mae: 41496.0156 - coeff_determination: 0.3476 - val_loss: 5574398488.6550 - val_root_mean_squared_error: 74631.5469 - val_mae: 42228.0039 - val_coeff_determination: 0.3431\n",
      "Epoch 18/50\n",
      "157760/157760 [==============================] - 6s 39us/step - loss: 5232806042.2069 - root_mean_squared_error: 74574.0391 - mae: 41507.8984 - coeff_determination: 0.3501 - val_loss: 5572793708.4889 - val_root_mean_squared_error: 74530.8672 - val_mae: 42206.8594 - val_coeff_determination: 0.3417\n",
      "Epoch 19/50\n",
      "157760/157760 [==============================] - 6s 39us/step - loss: 5230972088.0527 - root_mean_squared_error: 74471.6016 - mae: 41494.6719 - coeff_determination: 0.3459 - val_loss: 5570872183.6043 - val_root_mean_squared_error: 74439.9062 - val_mae: 42150.9688 - val_coeff_determination: 0.3423\n",
      "Epoch 20/50\n",
      "157760/157760 [==============================] - 6s 39us/step - loss: 5229454343.6105 - root_mean_squared_error: 74390.9375 - mae: 41470.9688 - coeff_determination: 0.3502 - val_loss: 5569281344.5825 - val_root_mean_squared_error: 74357.5469 - val_mae: 42187.6719 - val_coeff_determination: 0.3427\n",
      "Epoch 21/50\n",
      "157760/157760 [==============================] - 6s 40us/step - loss: 5227460864.9452 - root_mean_squared_error: 74312.9375 - mae: 41488.8086 - coeff_determination: 0.3502 - val_loss: 5569319637.3788 - val_root_mean_squared_error: 74282.8281 - val_mae: 41841.3164 - val_coeff_determination: 0.3485\n",
      "Epoch 22/50\n",
      "157760/157760 [==============================] - 6s 36us/step - loss: 5225463221.7606 - root_mean_squared_error: 74245.1328 - mae: 41452.6133 - coeff_determination: 0.3453 - val_loss: 5565760894.4228 - val_root_mean_squared_error: 74213.6094 - val_mae: 42038.2266 - val_coeff_determination: 0.3452\n",
      "Epoch 23/50\n",
      "157760/157760 [==============================] - 6s 35us/step - loss: 5223732022.6653 - root_mean_squared_error: 74182.9688 - mae: 41462.9141 - coeff_determination: 0.3507 - val_loss: 5570996893.1173 - val_root_mean_squared_error: 74150.8203 - val_mae: 41741.7266 - val_coeff_determination: 0.3506\n",
      "Epoch 24/50\n",
      "157760/157760 [==============================] - 5s 32us/step - loss: 5222136157.8418 - root_mean_squared_error: 74122.7812 - mae: 41441.9414 - coeff_determination: 0.3492 - val_loss: 5563607708.4228 - val_root_mean_squared_error: 74092.0312 - val_mae: 41961.5938 - val_coeff_determination: 0.3461\n",
      "Epoch 25/50\n",
      "157760/157760 [==============================] - 5s 33us/step - loss: 5221059222.1298 - root_mean_squared_error: 74069.8828 - mae: 41458.7695 - coeff_determination: 0.3506 - val_loss: 5563741085.4905 - val_root_mean_squared_error: 74037.6328 - val_mae: 41905.4727 - val_coeff_determination: 0.3461\n",
      "Epoch 26/50\n",
      "157760/157760 [==============================] - 5s 33us/step - loss: 5219202081.4929 - root_mean_squared_error: 74010.4766 - mae: 41413.9297 - coeff_determination: 0.3481 - val_loss: 5560901936.2649 - val_root_mean_squared_error: 73987.5000 - val_mae: 42016.7461 - val_coeff_determination: 0.3453\n",
      "Epoch 27/50\n",
      "157760/157760 [==============================] - 5s 33us/step - loss: 5218525358.8276 - root_mean_squared_error: 73960.0156 - mae: 41416.4844 - coeff_determination: 0.3463 - val_loss: 5560689986.7894 - val_root_mean_squared_error: 73940.2266 - val_mae: 42133.1523 - val_coeff_determination: 0.3437\n",
      "Epoch 28/50\n",
      "157760/157760 [==============================] - 5s 32us/step - loss: 5217144980.6288 - root_mean_squared_error: 73918.5938 - mae: 41431.1602 - coeff_determination: 0.3494 - val_loss: 5559127423.6982 - val_root_mean_squared_error: 73896.2969 - val_mae: 41948.3945 - val_coeff_determination: 0.3471\n",
      "Epoch 29/50\n",
      "157760/157760 [==============================] - 5s 33us/step - loss: 5215923014.7262 - root_mean_squared_error: 73877.4375 - mae: 41407.1094 - coeff_determination: 0.3509 - val_loss: 5558628619.0212 - val_root_mean_squared_error: 73855.3281 - val_mae: 42112.6680 - val_coeff_determination: 0.3439\n",
      "Epoch 30/50\n",
      "157760/157760 [==============================] - 5s 33us/step - loss: 5214642352.7424 - root_mean_squared_error: 73836.3125 - mae: 41427.2617 - coeff_determination: 0.3507 - val_loss: 5557822685.5895 - val_root_mean_squared_error: 73816.3125 - val_mae: 42031.3438 - val_coeff_determination: 0.3432\n",
      "Epoch 31/50\n",
      "157760/157760 [==============================] - 5s 33us/step - loss: 5212760059.9189 - root_mean_squared_error: 73796.0391 - mae: 41387.8789 - coeff_determination: 0.3492 - val_loss: 5555799559.3377 - val_root_mean_squared_error: 73779.8125 - val_mae: 42102.9375 - val_coeff_determination: 0.3436\n",
      "Epoch 32/50\n",
      "157760/157760 [==============================] - 5s 33us/step - loss: 5212615581.1359 - root_mean_squared_error: 73760.4375 - mae: 41390.3828 - coeff_determination: 0.3499 - val_loss: 5554256871.4684 - val_root_mean_squared_error: 73745.1641 - val_mae: 42010.3516 - val_coeff_determination: 0.3463\n",
      "Epoch 33/50\n",
      "157760/157760 [==============================] - 5s 34us/step - loss: 5210904258.0933 - root_mean_squared_error: 73729.0312 - mae: 41399.7031 - coeff_determination: 0.3539 - val_loss: 5553934730.9271 - val_root_mean_squared_error: 73712.4141 - val_mae: 41875.4688 - val_coeff_determination: 0.3489\n",
      "Epoch 34/50\n",
      "157760/157760 [==============================] - 5s 35us/step - loss: 5210077677.4848 - root_mean_squared_error: 73693.6406 - mae: 41375.4961 - coeff_determination: 0.3518 - val_loss: 5552489690.9738 - val_root_mean_squared_error: 73681.3438 - val_mae: 41957.3594 - val_coeff_determination: 0.3473\n",
      "Epoch 35/50\n",
      "157760/157760 [==============================] - 6s 36us/step - loss: 5208114819.7769 - root_mean_squared_error: 73657.6250 - mae: 41372.7695 - coeff_determination: 0.3498 - val_loss: 5552889693.8232 - val_root_mean_squared_error: 73652.0703 - val_mae: 42132.6484 - val_coeff_determination: 0.3429\n",
      "Epoch 36/50\n",
      "157760/157760 [==============================] - 6s 35us/step - loss: 5207496694.8844 - root_mean_squared_error: 73635.4297 - mae: 41387.2344 - coeff_determination: 0.3500 - val_loss: 5550817799.4027 - val_root_mean_squared_error: 73624.1250 - val_mae: 41915.9570 - val_coeff_determination: 0.3472\n",
      "Epoch 37/50\n",
      "157760/157760 [==============================] - 5s 34us/step - loss: 5206682374.2921 - root_mean_squared_error: 73609.8750 - mae: 41356.0781 - coeff_determination: 0.3503 - val_loss: 5549362111.6868 - val_root_mean_squared_error: 73597.3906 - val_mae: 41969.9336 - val_coeff_determination: 0.3471\n",
      "Epoch 38/50\n",
      "157760/157760 [==============================] - 5s 32us/step - loss: 5205487987.0832 - root_mean_squared_error: 73583.2578 - mae: 41366.8203 - coeff_determination: 0.3522 - val_loss: 5549621404.9907 - val_root_mean_squared_error: 73572.1250 - val_mae: 42092.1250 - val_coeff_determination: 0.3437\n",
      "Epoch 39/50\n",
      "157760/157760 [==============================] - 5s 33us/step - loss: 5204226061.9270 - root_mean_squared_error: 73558.9688 - mae: 41378.8750 - coeff_determination: 0.3488 - val_loss: 5546940252.7035 - val_root_mean_squared_error: 73547.5547 - val_mae: 41920.2422 - val_coeff_determination: 0.3455\n",
      "Epoch 40/50\n",
      "157760/157760 [==============================] - 5s 34us/step - loss: 5203340658.0243 - root_mean_squared_error: 73537.8203 - mae: 41340.4297 - coeff_determination: 0.3478 - val_loss: 5547416408.1373 - val_root_mean_squared_error: 73524.1328 - val_mae: 41917.5312 - val_coeff_determination: 0.3477\n",
      "Epoch 41/50\n",
      "157760/157760 [==============================] - 6s 35us/step - loss: 5202191414.7748 - root_mean_squared_error: 73515.2656 - mae: 41363.5742 - coeff_determination: 0.3503 - val_loss: 5545653647.4706 - val_root_mean_squared_error: 73501.5391 - val_mae: 41850.1953 - val_coeff_determination: 0.3475\n",
      "Epoch 42/50\n",
      "157760/157760 [==============================] - 6s 36us/step - loss: 5201093775.5497 - root_mean_squared_error: 73490.3438 - mae: 41342.7891 - coeff_determination: 0.3520 - val_loss: 5545521359.7740 - val_root_mean_squared_error: 73480.2500 - val_mae: 41892.6328 - val_coeff_determination: 0.3485\n",
      "Epoch 43/50\n",
      "157760/157760 [==============================] - 5s 33us/step - loss: 5200315426.5071 - root_mean_squared_error: 73468.9062 - mae: 41327.0000 - coeff_determination: 0.3521 - val_loss: 5544437771.3133 - val_root_mean_squared_error: 73459.2969 - val_mae: 42046.9180 - val_coeff_determination: 0.3454\n",
      "Epoch 44/50\n",
      "157760/157760 [==============================] - 5s 33us/step - loss: 5199206059.1602 - root_mean_squared_error: 73447.5625 - mae: 41338.5898 - coeff_determination: 0.3483 - val_loss: 5543309555.9565 - val_root_mean_squared_error: 73439.5078 - val_mae: 41933.7227 - val_coeff_determination: 0.3470\n",
      "Epoch 45/50\n",
      "157760/157760 [==============================] - 5s 30us/step - loss: 5198023286.9452 - root_mean_squared_error: 73430.8125 - mae: 41331.7578 - coeff_determination: 0.3519 - val_loss: 5541955384.9527 - val_root_mean_squared_error: 73420.6016 - val_mae: 41939.0703 - val_coeff_determination: 0.3465\n",
      "Epoch 46/50\n",
      "157760/157760 [==============================] - 7s 42us/step - loss: 5197091583.9513 - root_mean_squared_error: 73410.7109 - mae: 41318.3516 - coeff_determination: 0.3509 - val_loss: 5544778514.0215 - val_root_mean_squared_error: 73401.7969 - val_mae: 42173.0078 - val_coeff_determination: 0.3420\n",
      "Epoch 47/50\n",
      "157760/157760 [==============================] - 6s 35us/step - loss: 5196094200.4260 - root_mean_squared_error: 73390.8984 - mae: 41336.6055 - coeff_determination: 0.3507 - val_loss: 5541340507.4184 - val_root_mean_squared_error: 73384.3828 - val_mae: 42000.7461 - val_coeff_determination: 0.3447\n",
      "Epoch 48/50\n",
      "157760/157760 [==============================] - 5s 34us/step - loss: 5195155112.9290 - root_mean_squared_error: 73375.2891 - mae: 41326.0703 - coeff_determination: 0.3504 - val_loss: 5541938222.4832 - val_root_mean_squared_error: 73366.4922 - val_mae: 41794.1133 - val_coeff_determination: 0.3499\n",
      "Epoch 49/50\n",
      "157760/157760 [==============================] - 5s 34us/step - loss: 5194723419.1197 - root_mean_squared_error: 73358.6484 - mae: 41312.8359 - coeff_determination: 0.3519 - val_loss: 5540097035.1153 - val_root_mean_squared_error: 73350.1172 - val_mae: 41981.2383 - val_coeff_determination: 0.3448\n",
      "Epoch 50/50\n",
      "157760/157760 [==============================] - 5s 35us/step - loss: 5193536034.1582 - root_mean_squared_error: 73347.1484 - mae: 41317.6875 - coeff_determination: 0.3509 - val_loss: 5540282315.0942 - val_root_mean_squared_error: 73334.0938 - val_mae: 41707.8828 - val_coeff_determination: 0.3503\n"
     ]
    }
   ],
   "source": [
    "history2=model2.fit(X_train_ss,y_train,epochs=50,batch_size=50,validation_split=.2)#callbacks=callbacks_list)"
   ]
  },
  {
   "cell_type": "code",
   "execution_count": 56,
   "metadata": {},
   "outputs": [
    {
     "data": {
      "text/plain": [
       "array([[-7521.16]])"
      ]
     },
     "execution_count": 56,
     "metadata": {},
     "output_type": "execute_result"
    }
   ],
   "source": [
    "# min_maxy.inverse_transform([[.0022]])"
   ]
  },
  {
   "cell_type": "code",
   "execution_count": 57,
   "metadata": {},
   "outputs": [
    {
     "data": {
      "text/plain": [
       "array([[-7855.6]])"
      ]
     },
     "execution_count": 57,
     "metadata": {},
     "output_type": "execute_result"
    }
   ],
   "source": [
    "# min_maxy.inverse_transform([[.0020]])"
   ]
  },
  {
   "cell_type": "code",
   "execution_count": 60,
   "metadata": {},
   "outputs": [
    {
     "data": {
      "text/plain": [
       "0.04358898943540673"
      ]
     },
     "execution_count": 60,
     "metadata": {},
     "output_type": "execute_result"
    }
   ],
   "source": [
    "# (0.0019)**.5"
   ]
  },
  {
   "cell_type": "code",
   "execution_count": 33,
   "metadata": {},
   "outputs": [
    {
     "data": {
      "text/plain": [
       "array([142854.86490422])"
      ]
     },
     "execution_count": 33,
     "metadata": {},
     "output_type": "execute_result"
    }
   ],
   "source": [
    "# ssy.inverse_transform([.6009])"
   ]
  },
  {
   "cell_type": "code",
   "execution_count": 24,
   "metadata": {},
   "outputs": [
    {
     "name": "stdout",
     "output_type": "stream",
     "text": [
      "dict_keys(['val_loss', 'val_root_mean_squared_error', 'val_mae', 'val_coeff_determination', 'loss', 'root_mean_squared_error', 'mae', 'coeff_determination'])\n"
     ]
    },
    {
     "data": {
      "image/png": "[encoded data removed]",
      "text/plain": [
       "<Figure size 720x720 with 1 Axes>"
      ]
     },
     "metadata": {
      "needs_background": "light"
     },
     "output_type": "display_data"
    }
   ],
   "source": [
    "print(history.history.keys())\n",
    "#'Loss'\n",
    "fig, ax = plt.subplots(figsize=((10,10)))\n",
    "plt.plot(history.history['loss'])\n",
    "plt.plot(history.history['val_loss'])\n",
    "plt.title('Model Loss',fontsize=20)\n",
    "plt.ylabel('Loss(MSE)',fontsize=20)\n",
    "plt.xlabel('Epoch',fontsize=18)\n",
    "plt.tick_params(axis=\"both\",labelsize=18)\n",
    "plt.legend(['train','validation'],loc='upper left')\n",
    "plt.savefig(\"model results\",transparent=True,bbox_inches=\"tight\",)\n",
    "plt.show();"
   ]
  },
  {
   "cell_type": "code",
   "execution_count": 25,
   "metadata": {},
   "outputs": [
    {
     "name": "stdout",
     "output_type": "stream",
     "text": [
      "dict_keys(['val_loss', 'val_root_mean_squared_error', 'val_mae', 'val_coeff_determination', 'loss', 'root_mean_squared_error', 'mae', 'coeff_determination'])\n"
     ]
    },
    {
     "data": {
      "image/png": "[encoded data removed]",
      "text/plain": [
       "<Figure size 720x720 with 1 Axes>"
      ]
     },
     "metadata": {
      "needs_background": "light"
     },
     "output_type": "display_data"
    }
   ],
   "source": [
    "print(history1.history.keys())\n",
    "#'Loss'\n",
    "fig, ax = plt.subplots(figsize=((10,10)))\n",
    "plt.plot(history1.history['loss'])\n",
    "plt.plot(history1.history['val_loss'])\n",
    "plt.title('Model Loss',fontsize=20)\n",
    "plt.ylabel('Loss(MSE)',fontsize=20)\n",
    "plt.xlabel('Epoch',fontsize=18)\n",
    "plt.tick_params(axis=\"both\",labelsize=18)\n",
    "plt.legend(['train','validation'],loc='upper left')\n",
    "plt.savefig(\"model results\",transparent=True,bbox_inches=\"tight\",)\n",
    "plt.show();"
   ]
  },
  {
   "cell_type": "code",
   "execution_count": 26,
   "metadata": {},
   "outputs": [
    {
     "name": "stdout",
     "output_type": "stream",
     "text": [
      "dict_keys(['val_loss', 'val_root_mean_squared_error', 'val_mae', 'val_coeff_determination', 'loss', 'root_mean_squared_error', 'mae', 'coeff_determination'])\n"
     ]
    },
    {
     "data": {
      "image/png": "[encoded data removed]",
      "text/plain": [
       "<Figure size 720x720 with 1 Axes>"
      ]
     },
     "metadata": {
      "needs_background": "light"
     },
     "output_type": "display_data"
    }
   ],
   "source": [
    "print(history2.history.keys())\n",
    "#'Loss'\n",
    "fig, ax = plt.subplots(figsize=((10,10)))\n",
    "plt.plot(history2.history['loss'])\n",
    "plt.plot(history2.history['val_loss'])\n",
    "plt.title('Model Loss',fontsize=20)\n",
    "plt.ylabel('Loss(MSE)',fontsize=20)\n",
    "plt.xlabel('Epoch',fontsize=18)\n",
    "plt.tick_params(axis=\"both\",labelsize=18)\n",
    "plt.legend(['train','validation'],loc='upper left')\n",
    "plt.savefig(\"model results\",transparent=True,bbox_inches=\"tight\",)\n",
    "plt.show();"
   ]
  },
  {
   "cell_type": "code",
   "execution_count": 60,
   "metadata": {},
   "outputs": [
    {
     "data": {
      "text/plain": [
       "array([[35000.],\n",
       "       [55100.],\n",
       "       [69100.],\n",
       "       ...,\n",
       "       [88400.],\n",
       "       [75100.],\n",
       "       [ 4980.]])"
      ]
     },
     "execution_count": 60,
     "metadata": {},
     "output_type": "execute_result"
    }
   ],
   "source": [
    "y_test"
   ]
  },
  {
   "cell_type": "code",
   "execution_count": 14,
   "metadata": {},
   "outputs": [],
   "source": [
    "# y_test_ss=ss.transform(y_test)\n",
    "# X_test_ss=ss.transform(X_test)\n",
    "y_test_mm=min_maxy.transform(y_test)\n",
    "X_test_mm=min_max.transform(X_test)"
   ]
  },
  {
   "cell_type": "code",
   "execution_count": 15,
   "metadata": {},
   "outputs": [],
   "source": [
    "y_hat=model.predict(X)"
   ]
  },
  {
   "cell_type": "code",
   "execution_count": null,
   "metadata": {},
   "outputs": [],
   "source": [
    "y_hat1=model1.predict(X_test_mm)"
   ]
  },
  {
   "cell_type": "code",
   "execution_count": null,
   "metadata": {},
   "outputs": [],
   "source": [
    "y_hat2=model2.predict(X_test_mm)"
   ]
  },
  {
   "cell_type": "code",
   "execution_count": 16,
   "metadata": {},
   "outputs": [
    {
     "data": {
      "text/plain": [
       "array([[0.04237843],\n",
       "       [0.04521351],\n",
       "       [0.03610778],\n",
       "       ...,\n",
       "       [0.03473723],\n",
       "       [0.04014838],\n",
       "       [0.01233021]], dtype=float32)"
      ]
     },
     "execution_count": 16,
     "metadata": {},
     "output_type": "execute_result"
    }
   ],
   "source": [
    "y_hat"
   ]
  },
  {
   "cell_type": "code",
   "execution_count": 116,
   "metadata": {},
   "outputs": [],
   "source": [
    "# early_stop = EarlyStopping(monitor='val_loss', min_delta=1e-08, patience=0, verbose=1,\n",
    "#                            mode='auto')\n",
    "# callbacks_list = [early_stop]\n",
    "# history_es = model_es.fit(X_train_s, np.array(y_train),\n",
    "#                           validation_data=(X_test_s, np.array(y_test)),\n",
    "#                          epochs=40, batch_size=None, callbacks=callbacks_list)"
   ]
  },
  {
   "cell_type": "code",
   "execution_count": null,
   "metadata": {},
   "outputs": [],
   "source": [
    "# y_test_mm=min_max.inverse_transform(y)\n",
    "#invert normalize\n",
    "# X_test_mm=min_max.inverse_transform(X_test_mm)\n",
    "y_hat=min_maxy.inverse_transform(y_hat)\n",
    "# X_test_ss=ss.inverse_transform(X_test_ss)\n",
    "print(\"X inputs=%s ,Actual=%s, Predictied=%s\" % (X_test.values[0],y_test[0],y_hat[0]))\n",
    "# print(y_hat[0:20])\n",
    "# mae=avergae diff between predicted and actual"
   ]
  },
  {
   "cell_type": "code",
   "execution_count": null,
   "metadata": {},
   "outputs": [],
   "source": [
    "# y_test_mm=min_max.inverse_transform(y)\n",
    "#invert normalize\n",
    "# X_test_mm=min_max.inverse_transform(X_test_mm)\n",
    "y_hat=min_maxy.inverse_transform(y_hat)\n",
    "# X_test_ss=ss.inverse_transform(X_test_ss)\n",
    "print(\"X inputs=%s ,Actual=%s, Predictied=%s\" % (X_test.values[0],y_test[0],y_hat[0]))\n",
    "# print(y_hat[0:20])\n",
    "# mae=avergae diff between predicted and actual"
   ]
  },
  {
   "cell_type": "code",
   "execution_count": null,
   "metadata": {},
   "outputs": [],
   "source": [
    "# y_test_mm=min_max.inverse_transform(y)\n",
    "#invert normalize\n",
    "# X_test_mm=min_max.inverse_transform(X_test_mm)\n",
    "y_hat=min_maxy.inverse_transform(y_hat)\n",
    "# X_test_ss=ss.inverse_transform(X_test_ss)\n",
    "print(\"X inputs=%s ,Actual=%s, Predictied=%s\" % (X_test.values[0],y_test[0],y_hat[0]))\n",
    "# print(y_hat[0:20])\n",
    "# mae=avergae diff between predicted and actual"
   ]
  },
  {
   "cell_type": "code",
   "execution_count": null,
   "metadata": {},
   "outputs": [],
   "source": []
  }
 ],
 "metadata": {
  "kernelspec": {
   "display_name": "Python 3 (tens)",
   "language": "python",
   "name": "tens"
  },
  "language_info": {
   "codemirror_mode": {
    "name": "ipython",
    "version": 3
   },
   "file_extension": ".py",
   "mimetype": "text/x-python",
   "name": "python",
   "nbconvert_exporter": "python",
   "pygments_lexer": "ipython3",
   "version": "3.7.7"
  }
 },
 "nbformat": 4,
 "nbformat_minor": 4
}
