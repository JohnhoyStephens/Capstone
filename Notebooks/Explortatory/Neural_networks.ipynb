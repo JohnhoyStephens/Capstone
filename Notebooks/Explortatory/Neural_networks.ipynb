{
 "cells": [
  {
   "cell_type": "code",
   "execution_count": null,
   "metadata": {},
   "outputs": [],
   "source": [
    "Notebook made to test the viability of Neural Network model."
   ]
  },
  {
   "cell_type": "code",
   "execution_count": 1,
   "metadata": {},
   "outputs": [
    {
     "name": "stderr",
     "output_type": "stream",
     "text": [
      "Using TensorFlow backend.\n"
     ]
    }
   ],
   "source": [
    "import pandas as pd\n",
    "import numpy as np\n",
    "from keras.layers import Dense\n",
    "from keras.models import Sequential\n",
    "from sklearn.preprocessing import StandardScaler,MinMaxScaler\n",
    "from tensorflow.keras import regularizers\n",
    "from tensorflow.keras import layers\n",
    "from tensorflow.keras.callbacks import EarlyStopping \n",
    "import tensorflow as tf\n",
    "import matplotlib.pyplot as plt\n",
    "import seaborn as sns\n",
    "from sklearn.model_selection import train_test_split\n",
    "from sklearn.metrics import confusion_matrix, accuracy_score,recall_score,classification_report"
   ]
  },
  {
   "cell_type": "code",
   "execution_count": 2,
   "metadata": {},
   "outputs": [],
   "source": [
    "df=pd.read_csv(\"../../Data/Imputed.csv\")"
   ]
  },
  {
   "cell_type": "code",
   "execution_count": 3,
   "metadata": {},
   "outputs": [
    {
     "data": {
      "text/html": [
       "<div>\n",
       "<style scoped>\n",
       "    .dataframe tbody tr th:only-of-type {\n",
       "        vertical-align: middle;\n",
       "    }\n",
       "\n",
       "    .dataframe tbody tr th {\n",
       "        vertical-align: top;\n",
       "    }\n",
       "\n",
       "    .dataframe thead th {\n",
       "        text-align: right;\n",
       "    }\n",
       "</style>\n",
       "<table border=\"1\" class=\"dataframe\">\n",
       "  <thead>\n",
       "    <tr style=\"text-align: right;\">\n",
       "      <th></th>\n",
       "      <th>HINCP_x</th>\n",
       "      <th>SMOCP</th>\n",
       "      <th>NP</th>\n",
       "      <th>BDSP</th>\n",
       "      <th>INSP</th>\n",
       "      <th>RMSP</th>\n",
       "      <th>VALP</th>\n",
       "      <th>TAXAMT</th>\n",
       "      <th>ACR_&lt;1.0&gt;</th>\n",
       "      <th>ACR_&lt;2.0&gt;</th>\n",
       "      <th>...</th>\n",
       "      <th>YBL_&lt;13.0&gt;</th>\n",
       "      <th>YBL_&lt;14.0&gt;</th>\n",
       "      <th>YBL_&lt;15.0&gt;</th>\n",
       "      <th>YBL_&lt;16.0&gt;</th>\n",
       "      <th>YBL_&lt;17.0&gt;</th>\n",
       "      <th>YBL_&lt;18.0&gt;</th>\n",
       "      <th>YBL_&lt;19.0&gt;</th>\n",
       "      <th>YBL_&lt;20.0&gt;</th>\n",
       "      <th>YBL_&lt;21.0&gt;</th>\n",
       "      <th>YBL_&lt;22.0&gt;</th>\n",
       "    </tr>\n",
       "  </thead>\n",
       "  <tbody>\n",
       "    <tr>\n",
       "      <th>0</th>\n",
       "      <td>47900.0</td>\n",
       "      <td>1042.0</td>\n",
       "      <td>4</td>\n",
       "      <td>3.0</td>\n",
       "      <td>890.0</td>\n",
       "      <td>6.0</td>\n",
       "      <td>165000.0</td>\n",
       "      <td>3650.0</td>\n",
       "      <td>1.0</td>\n",
       "      <td>0.0</td>\n",
       "      <td>...</td>\n",
       "      <td>0.0</td>\n",
       "      <td>0.0</td>\n",
       "      <td>0.0</td>\n",
       "      <td>0.0</td>\n",
       "      <td>0.0</td>\n",
       "      <td>0.0</td>\n",
       "      <td>0.0</td>\n",
       "      <td>0.0</td>\n",
       "      <td>0.0</td>\n",
       "      <td>0.0</td>\n",
       "    </tr>\n",
       "    <tr>\n",
       "      <th>1</th>\n",
       "      <td>36100.0</td>\n",
       "      <td>691.0</td>\n",
       "      <td>2</td>\n",
       "      <td>3.0</td>\n",
       "      <td>600.0</td>\n",
       "      <td>6.0</td>\n",
       "      <td>35000.0</td>\n",
       "      <td>525.0</td>\n",
       "      <td>1.0</td>\n",
       "      <td>0.0</td>\n",
       "      <td>...</td>\n",
       "      <td>0.0</td>\n",
       "      <td>0.0</td>\n",
       "      <td>0.0</td>\n",
       "      <td>0.0</td>\n",
       "      <td>0.0</td>\n",
       "      <td>0.0</td>\n",
       "      <td>0.0</td>\n",
       "      <td>0.0</td>\n",
       "      <td>0.0</td>\n",
       "      <td>0.0</td>\n",
       "    </tr>\n",
       "    <tr>\n",
       "      <th>2</th>\n",
       "      <td>100000.0</td>\n",
       "      <td>1042.0</td>\n",
       "      <td>1</td>\n",
       "      <td>0.0</td>\n",
       "      <td>890.0</td>\n",
       "      <td>1.0</td>\n",
       "      <td>165000.0</td>\n",
       "      <td>3650.0</td>\n",
       "      <td>1.0</td>\n",
       "      <td>0.0</td>\n",
       "      <td>...</td>\n",
       "      <td>0.0</td>\n",
       "      <td>0.0</td>\n",
       "      <td>0.0</td>\n",
       "      <td>0.0</td>\n",
       "      <td>0.0</td>\n",
       "      <td>0.0</td>\n",
       "      <td>0.0</td>\n",
       "      <td>0.0</td>\n",
       "      <td>0.0</td>\n",
       "      <td>0.0</td>\n",
       "    </tr>\n",
       "    <tr>\n",
       "      <th>3</th>\n",
       "      <td>45000.0</td>\n",
       "      <td>1042.0</td>\n",
       "      <td>2</td>\n",
       "      <td>2.0</td>\n",
       "      <td>890.0</td>\n",
       "      <td>5.0</td>\n",
       "      <td>165000.0</td>\n",
       "      <td>3650.0</td>\n",
       "      <td>1.0</td>\n",
       "      <td>0.0</td>\n",
       "      <td>...</td>\n",
       "      <td>0.0</td>\n",
       "      <td>0.0</td>\n",
       "      <td>0.0</td>\n",
       "      <td>0.0</td>\n",
       "      <td>0.0</td>\n",
       "      <td>0.0</td>\n",
       "      <td>0.0</td>\n",
       "      <td>0.0</td>\n",
       "      <td>0.0</td>\n",
       "      <td>0.0</td>\n",
       "    </tr>\n",
       "    <tr>\n",
       "      <th>4</th>\n",
       "      <td>88000.0</td>\n",
       "      <td>603.0</td>\n",
       "      <td>3</td>\n",
       "      <td>2.0</td>\n",
       "      <td>20.0</td>\n",
       "      <td>4.0</td>\n",
       "      <td>140.0</td>\n",
       "      <td>525.0</td>\n",
       "      <td>1.0</td>\n",
       "      <td>0.0</td>\n",
       "      <td>...</td>\n",
       "      <td>0.0</td>\n",
       "      <td>0.0</td>\n",
       "      <td>0.0</td>\n",
       "      <td>0.0</td>\n",
       "      <td>0.0</td>\n",
       "      <td>0.0</td>\n",
       "      <td>0.0</td>\n",
       "      <td>0.0</td>\n",
       "      <td>0.0</td>\n",
       "      <td>0.0</td>\n",
       "    </tr>\n",
       "    <tr>\n",
       "      <th>...</th>\n",
       "      <td>...</td>\n",
       "      <td>...</td>\n",
       "      <td>...</td>\n",
       "      <td>...</td>\n",
       "      <td>...</td>\n",
       "      <td>...</td>\n",
       "      <td>...</td>\n",
       "      <td>...</td>\n",
       "      <td>...</td>\n",
       "      <td>...</td>\n",
       "      <td>...</td>\n",
       "      <td>...</td>\n",
       "      <td>...</td>\n",
       "      <td>...</td>\n",
       "      <td>...</td>\n",
       "      <td>...</td>\n",
       "      <td>...</td>\n",
       "      <td>...</td>\n",
       "      <td>...</td>\n",
       "      <td>...</td>\n",
       "      <td>...</td>\n",
       "    </tr>\n",
       "    <tr>\n",
       "      <th>246497</th>\n",
       "      <td>30000.0</td>\n",
       "      <td>1366.0</td>\n",
       "      <td>1</td>\n",
       "      <td>4.0</td>\n",
       "      <td>0.0</td>\n",
       "      <td>11.0</td>\n",
       "      <td>150000.0</td>\n",
       "      <td>6500.0</td>\n",
       "      <td>1.0</td>\n",
       "      <td>0.0</td>\n",
       "      <td>...</td>\n",
       "      <td>0.0</td>\n",
       "      <td>0.0</td>\n",
       "      <td>0.0</td>\n",
       "      <td>0.0</td>\n",
       "      <td>0.0</td>\n",
       "      <td>0.0</td>\n",
       "      <td>0.0</td>\n",
       "      <td>0.0</td>\n",
       "      <td>0.0</td>\n",
       "      <td>0.0</td>\n",
       "    </tr>\n",
       "    <tr>\n",
       "      <th>246498</th>\n",
       "      <td>150000.0</td>\n",
       "      <td>2603.0</td>\n",
       "      <td>4</td>\n",
       "      <td>4.0</td>\n",
       "      <td>1200.0</td>\n",
       "      <td>8.0</td>\n",
       "      <td>275000.0</td>\n",
       "      <td>10500.0</td>\n",
       "      <td>1.0</td>\n",
       "      <td>0.0</td>\n",
       "      <td>...</td>\n",
       "      <td>0.0</td>\n",
       "      <td>0.0</td>\n",
       "      <td>0.0</td>\n",
       "      <td>0.0</td>\n",
       "      <td>0.0</td>\n",
       "      <td>0.0</td>\n",
       "      <td>0.0</td>\n",
       "      <td>0.0</td>\n",
       "      <td>0.0</td>\n",
       "      <td>0.0</td>\n",
       "    </tr>\n",
       "    <tr>\n",
       "      <th>246499</th>\n",
       "      <td>85000.0</td>\n",
       "      <td>751.0</td>\n",
       "      <td>2</td>\n",
       "      <td>3.0</td>\n",
       "      <td>550.0</td>\n",
       "      <td>6.0</td>\n",
       "      <td>145000.0</td>\n",
       "      <td>5750.0</td>\n",
       "      <td>1.0</td>\n",
       "      <td>0.0</td>\n",
       "      <td>...</td>\n",
       "      <td>0.0</td>\n",
       "      <td>0.0</td>\n",
       "      <td>0.0</td>\n",
       "      <td>0.0</td>\n",
       "      <td>0.0</td>\n",
       "      <td>0.0</td>\n",
       "      <td>0.0</td>\n",
       "      <td>0.0</td>\n",
       "      <td>0.0</td>\n",
       "      <td>0.0</td>\n",
       "    </tr>\n",
       "    <tr>\n",
       "      <th>246500</th>\n",
       "      <td>117500.0</td>\n",
       "      <td>1168.0</td>\n",
       "      <td>2</td>\n",
       "      <td>4.0</td>\n",
       "      <td>990.0</td>\n",
       "      <td>10.0</td>\n",
       "      <td>500000.0</td>\n",
       "      <td>11500.0</td>\n",
       "      <td>1.0</td>\n",
       "      <td>0.0</td>\n",
       "      <td>...</td>\n",
       "      <td>0.0</td>\n",
       "      <td>0.0</td>\n",
       "      <td>0.0</td>\n",
       "      <td>0.0</td>\n",
       "      <td>0.0</td>\n",
       "      <td>0.0</td>\n",
       "      <td>0.0</td>\n",
       "      <td>0.0</td>\n",
       "      <td>0.0</td>\n",
       "      <td>0.0</td>\n",
       "    </tr>\n",
       "    <tr>\n",
       "      <th>246501</th>\n",
       "      <td>89000.0</td>\n",
       "      <td>1042.0</td>\n",
       "      <td>4</td>\n",
       "      <td>2.0</td>\n",
       "      <td>890.0</td>\n",
       "      <td>4.0</td>\n",
       "      <td>165000.0</td>\n",
       "      <td>3650.0</td>\n",
       "      <td>1.0</td>\n",
       "      <td>0.0</td>\n",
       "      <td>...</td>\n",
       "      <td>0.0</td>\n",
       "      <td>0.0</td>\n",
       "      <td>0.0</td>\n",
       "      <td>0.0</td>\n",
       "      <td>0.0</td>\n",
       "      <td>0.0</td>\n",
       "      <td>0.0</td>\n",
       "      <td>0.0</td>\n",
       "      <td>0.0</td>\n",
       "      <td>0.0</td>\n",
       "    </tr>\n",
       "  </tbody>\n",
       "</table>\n",
       "<p>246502 rows × 48 columns</p>\n",
       "</div>"
      ],
      "text/plain": [
       "         HINCP_x   SMOCP  NP  BDSP    INSP  RMSP      VALP   TAXAMT  \\\n",
       "0        47900.0  1042.0   4   3.0   890.0   6.0  165000.0   3650.0   \n",
       "1        36100.0   691.0   2   3.0   600.0   6.0   35000.0    525.0   \n",
       "2       100000.0  1042.0   1   0.0   890.0   1.0  165000.0   3650.0   \n",
       "3        45000.0  1042.0   2   2.0   890.0   5.0  165000.0   3650.0   \n",
       "4        88000.0   603.0   3   2.0    20.0   4.0     140.0    525.0   \n",
       "...          ...     ...  ..   ...     ...   ...       ...      ...   \n",
       "246497   30000.0  1366.0   1   4.0     0.0  11.0  150000.0   6500.0   \n",
       "246498  150000.0  2603.0   4   4.0  1200.0   8.0  275000.0  10500.0   \n",
       "246499   85000.0   751.0   2   3.0   550.0   6.0  145000.0   5750.0   \n",
       "246500  117500.0  1168.0   2   4.0   990.0  10.0  500000.0  11500.0   \n",
       "246501   89000.0  1042.0   4   2.0   890.0   4.0  165000.0   3650.0   \n",
       "\n",
       "        ACR_<1.0>  ACR_<2.0>  ...  YBL_<13.0>  YBL_<14.0>  YBL_<15.0>  \\\n",
       "0             1.0        0.0  ...         0.0         0.0         0.0   \n",
       "1             1.0        0.0  ...         0.0         0.0         0.0   \n",
       "2             1.0        0.0  ...         0.0         0.0         0.0   \n",
       "3             1.0        0.0  ...         0.0         0.0         0.0   \n",
       "4             1.0        0.0  ...         0.0         0.0         0.0   \n",
       "...           ...        ...  ...         ...         ...         ...   \n",
       "246497        1.0        0.0  ...         0.0         0.0         0.0   \n",
       "246498        1.0        0.0  ...         0.0         0.0         0.0   \n",
       "246499        1.0        0.0  ...         0.0         0.0         0.0   \n",
       "246500        1.0        0.0  ...         0.0         0.0         0.0   \n",
       "246501        1.0        0.0  ...         0.0         0.0         0.0   \n",
       "\n",
       "        YBL_<16.0>  YBL_<17.0>  YBL_<18.0>  YBL_<19.0>  YBL_<20.0>  \\\n",
       "0              0.0         0.0         0.0         0.0         0.0   \n",
       "1              0.0         0.0         0.0         0.0         0.0   \n",
       "2              0.0         0.0         0.0         0.0         0.0   \n",
       "3              0.0         0.0         0.0         0.0         0.0   \n",
       "4              0.0         0.0         0.0         0.0         0.0   \n",
       "...            ...         ...         ...         ...         ...   \n",
       "246497         0.0         0.0         0.0         0.0         0.0   \n",
       "246498         0.0         0.0         0.0         0.0         0.0   \n",
       "246499         0.0         0.0         0.0         0.0         0.0   \n",
       "246500         0.0         0.0         0.0         0.0         0.0   \n",
       "246501         0.0         0.0         0.0         0.0         0.0   \n",
       "\n",
       "        YBL_<21.0>  YBL_<22.0>  \n",
       "0              0.0         0.0  \n",
       "1              0.0         0.0  \n",
       "2              0.0         0.0  \n",
       "3              0.0         0.0  \n",
       "4              0.0         0.0  \n",
       "...            ...         ...  \n",
       "246497         0.0         0.0  \n",
       "246498         0.0         0.0  \n",
       "246499         0.0         0.0  \n",
       "246500         0.0         0.0  \n",
       "246501         0.0         0.0  \n",
       "\n",
       "[246502 rows x 48 columns]"
      ]
     },
     "execution_count": 3,
     "metadata": {},
     "output_type": "execute_result"
    }
   ],
   "source": [
    "df"
   ]
  },
  {
   "cell_type": "code",
   "execution_count": 4,
   "metadata": {},
   "outputs": [],
   "source": [
    "#setting our dependent and independent variables\n",
    "X=df.drop(\"HINCP_x\",axis=1)\n",
    "y=df[\"HINCP_x\"]"
   ]
  },
  {
   "cell_type": "code",
   "execution_count": 5,
   "metadata": {},
   "outputs": [],
   "source": [
    "y=np.reshape(y.values,(-1,1))"
   ]
  },
  {
   "cell_type": "code",
   "execution_count": 6,
   "metadata": {},
   "outputs": [],
   "source": [
    "#splitting our data once to get out train and hold out set\n",
    "X_train,X_test,y_train,y_test=train_test_split(X,y,train_size=.8,random_state=2020)"
   ]
  },
  {
   "cell_type": "code",
   "execution_count": 7,
   "metadata": {},
   "outputs": [],
   "source": [
    "#splitting once more to get the training and validation set\n",
    "X_t,X_val,y_t,y_val=train_test_split(X_train,y_train,train_size=.8,random_state=2020)"
   ]
  },
  {
   "cell_type": "code",
   "execution_count": 8,
   "metadata": {},
   "outputs": [],
   "source": [
    "#instantiating our scalrs\n",
    "ss_x=StandardScaler()\n",
    "mm_x=MinMaxScaler()"
   ]
  },
  {
   "cell_type": "code",
   "execution_count": 9,
   "metadata": {},
   "outputs": [],
   "source": [
    "#fitting our standard scalar\n",
    "X_t_ss=ss_x.fit_transform(X_t)\n",
    "X_val_ss=ss_x.transform(X_val)"
   ]
  },
  {
   "cell_type": "code",
   "execution_count": 10,
   "metadata": {},
   "outputs": [],
   "source": [
    "#fitting out minmax scalar the less complex of the two scalars\n",
    "X_t_mm=mm_x.fit_transform(X_t)\n",
    "X_val_mm=mm_x.transform(X_val)"
   ]
  },
  {
   "cell_type": "code",
   "execution_count": 11,
   "metadata": {},
   "outputs": [],
   "source": [
    "# The R-squared predictor\n",
    "from keras import backend as K\n",
    "def coeff_determination(y_true, y_pred):\n",
    "    \"\"\"https://jmlb.github.io/ml/2017/03/20/CoeffDetermination_CustomMetric4Keras/\"\"\"\n",
    "\n",
    "    SS_res =  K.sum(K.square( y_true-y_pred )) \n",
    "    SS_tot = K.sum(K.square( y_true - K.mean(y_true) ) ) \n",
    "    return ( 1 - SS_res/(SS_tot + K.epsilon()) )\n"
   ]
  },
  {
   "cell_type": "code",
   "execution_count": 28,
   "metadata": {},
   "outputs": [],
   "source": [
    "#First model\n",
    "model=Sequential()\n",
    "model.add(Dense(50 ,activation=\"relu\",input_dim=47))\n",
    "model.add(Dense(25 ,activation=\"selu\"))\n",
    "model.add(Dense(1 ,activation='linear'))\n",
    "model.compile(loss=\"mse\",optimizer=\"adam\",metrics=[tf.keras.metrics.RootMeanSquaredError(),\"mae\",coeff_determination])\n"
   ]
  },
  {
   "cell_type": "code",
   "execution_count": 38,
   "metadata": {},
   "outputs": [],
   "source": [
    "model1=Sequential()\n",
    "model1.add(Dense(50 ,activation=\"relu\",input_dim=47))\n",
    "model1.add(Dense(25 ,activation=\"selu\"))\n",
    "model1.add(Dense(1 ,activation='linear'))\n",
    "model1.compile(loss=\"mse\",optimizer=\"adam\",metrics=[tf.keras.metrics.RootMeanSquaredError(),\"mae\",coeff_determination])\n"
   ]
  },
  {
   "cell_type": "code",
   "execution_count": 39,
   "metadata": {},
   "outputs": [],
   "source": [
    "model2=Sequential()\n",
    "model2.add(Dense(50 ,activation=\"relu\",input_dim=47))\n",
    "model2.add(Dense(25 ,activation=\"selu\"))\n",
    "model2.add(Dense(1 ,activation='linear'))\n",
    "model2.compile(loss=\"mse\",optimizer=\"adam\",metrics=[tf.keras.metrics.RootMeanSquaredError(),\"mae\",coeff_determination])\n"
   ]
  },
  {
   "cell_type": "code",
   "execution_count": 31,
   "metadata": {},
   "outputs": [
    {
     "name": "stdout",
     "output_type": "stream",
     "text": [
      "Model: \"sequential_12\"\n",
      "_________________________________________________________________\n",
      "Layer (type)                 Output Shape              Param #   \n",
      "=================================================================\n",
      "dense_34 (Dense)             (None, 50)                2400      \n",
      "_________________________________________________________________\n",
      "dense_35 (Dense)             (None, 25)                1275      \n",
      "_________________________________________________________________\n",
      "dense_36 (Dense)             (None, 1)                 26        \n",
      "=================================================================\n",
      "Total params: 3,701\n",
      "Trainable params: 3,701\n",
      "Non-trainable params: 0\n",
      "_________________________________________________________________\n"
     ]
    }
   ],
   "source": [
    "model.summary()"
   ]
  },
  {
   "cell_type": "code",
   "execution_count": 32,
   "metadata": {},
   "outputs": [],
   "source": [
    "#Creating early stop function to help minimize time of models\n",
    "early_stop = EarlyStopping(monitor='val_loss', min_delta=1e-08, patience=0, verbose=1,\n",
    "                           mode='auto')\n",
    "callbacks_list = [early_stop]"
   ]
  },
  {
   "cell_type": "code",
   "execution_count": 33,
   "metadata": {},
   "outputs": [
    {
     "name": "stdout",
     "output_type": "stream",
     "text": [
      "Train on 126208 samples, validate on 31552 samples\n",
      "Epoch 1/50\n",
      "126208/126208 [==============================] - 3s 27us/step - loss: 6666979326.6592 - root_mean_squared_error: 84603.6797 - mae: 49565.5859 - coeff_determination: 0.1377 - val_loss: 6144323716.7181 - val_root_mean_squared_error: 81217.5000 - val_mae: 46848.5664 - val_coeff_determination: -0.0072\n",
      "Epoch 2/50\n",
      "126208/126208 [==============================] - 3s 25us/step - loss: 6240664763.0000 - root_mean_squared_error: 80571.2422 - mae: 48605.1406 - coeff_determination: 0.2035 - val_loss: 5946913876.0892 - val_root_mean_squared_error: 79913.3828 - val_mae: 48373.5859 - val_coeff_determination: -0.2892\n",
      "Epoch 3/50\n",
      "126208/126208 [==============================] - 3s 23us/step - loss: 6165681207.0811 - root_mean_squared_error: 79577.1094 - mae: 48225.3672 - coeff_determination: 0.2185 - val_loss: 5990946899.2779 - val_root_mean_squared_error: 79350.1484 - val_mae: 49163.4883 - val_coeff_determination: -0.3855\n",
      "Epoch 00003: early stopping\n"
     ]
    }
   ],
   "source": [
    "history=model.fit(X_t,y_t,epochs=50,batch_size=50,validation_split=.2,callbacks=callbacks_list)"
   ]
  },
  {
   "cell_type": "code",
   "execution_count": 40,
   "metadata": {},
   "outputs": [
    {
     "name": "stdout",
     "output_type": "stream",
     "text": [
      "Train on 126208 samples, validate on 31552 samples\n",
      "Epoch 1/50\n",
      "126208/126208 [==============================] - 3s 26us/step - loss: 11126300932.1907 - root_mean_squared_error: 119110.3750 - mae: 67297.8359 - coeff_determination: -0.4263 - val_loss: 6435887177.3063 - val_root_mean_squared_error: 102965.2656 - val_mae: 49218.0703 - val_coeff_determination: -0.2353\n",
      "Epoch 2/50\n",
      "126208/126208 [==============================] - 3s 25us/step - loss: 6144383509.1917 - root_mean_squared_error: 95450.3203 - mae: 46494.8203 - coeff_determination: 0.2207 - val_loss: 5633330798.8093 - val_root_mean_squared_error: 90773.5859 - val_mae: 43778.4766 - val_coeff_determination: 0.0261\n",
      "Epoch 3/50\n",
      "126208/126208 [==============================] - 3s 25us/step - loss: 5685841476.9391 - root_mean_squared_error: 87846.7266 - mae: 43836.1953 - coeff_determination: 0.2928 - val_loss: 5429880441.2698 - val_root_mean_squared_error: 85719.4609 - val_mae: 42901.0859 - val_coeff_determination: 0.0720\n",
      "Epoch 4/50\n",
      "126208/126208 [==============================] - 3s 23us/step - loss: 5535001522.3377 - root_mean_squared_error: 84164.8438 - mae: 42949.2891 - coeff_determination: 0.3153 - val_loss: 5325649381.0426 - val_root_mean_squared_error: 82913.4219 - val_mae: 42021.7070 - val_coeff_determination: 0.1733\n",
      "Epoch 5/50\n",
      "126208/126208 [==============================] - 3s 23us/step - loss: 5451157023.2606 - root_mean_squared_error: 81920.3516 - mae: 42295.2891 - coeff_determination: 0.3230 - val_loss: 5282155087.8398 - val_root_mean_squared_error: 81104.8203 - val_mae: 41889.3672 - val_coeff_determination: 0.2120\n",
      "Epoch 6/50\n",
      "126208/126208 [==============================] - 4s 31us/step - loss: 5418957158.6471 - root_mean_squared_error: 80452.9609 - mae: 42218.4688 - coeff_determination: 0.3324 - val_loss: 5263003393.0963 - val_root_mean_squared_error: 79853.1328 - val_mae: 41688.7266 - val_coeff_determination: 0.2278\n",
      "Epoch 7/50\n",
      "126208/126208 [==============================] - 4s 33us/step - loss: 5407582939.7505 - root_mean_squared_error: 79371.1016 - mae: 42197.8672 - coeff_determination: 0.3353 - val_loss: 5254105056.6978 - val_root_mean_squared_error: 78941.4922 - val_mae: 41662.6250 - val_coeff_determination: 0.2208\n",
      "Epoch 8/50\n",
      "126208/126208 [==============================] - 4s 29us/step - loss: 5401689393.1400 - root_mean_squared_error: 78591.0078 - mae: 42175.9453 - coeff_determination: 0.3384 - val_loss: 5250129026.0375 - val_root_mean_squared_error: 78248.8281 - val_mae: 41749.0547 - val_coeff_determination: 0.2158\n",
      "Epoch 9/50\n",
      "126208/126208 [==============================] - 3s 27us/step - loss: 5397730114.6602 - root_mean_squared_error: 77979.0547 - mae: 42218.8711 - coeff_determination: 0.3362 - val_loss: 5245919515.7424 - val_root_mean_squared_error: 77704.7969 - val_mae: 41454.8594 - val_coeff_determination: 0.2377\n",
      "Epoch 10/50\n",
      "126208/126208 [==============================] - 4s 28us/step - loss: 5395062597.8489 - root_mean_squared_error: 77489.6641 - mae: 42142.3516 - coeff_determination: 0.3337 - val_loss: 5243191327.7221 - val_root_mean_squared_error: 77266.1172 - val_mae: 41569.4570 - val_coeff_determination: 0.2277\n",
      "Epoch 11/50\n",
      "126208/126208 [==============================] - 4s 28us/step - loss: 5391066432.3114 - root_mean_squared_error: 77086.0469 - mae: 42136.8008 - coeff_determination: 0.3377 - val_loss: 5239049287.5213 - val_root_mean_squared_error: 76903.8828 - val_mae: 41428.5195 - val_coeff_determination: 0.2294\n",
      "Epoch 12/50\n",
      "126208/126208 [==============================] - 4s 29us/step - loss: 5389552070.5619 - root_mean_squared_error: 76745.2109 - mae: 42132.8203 - coeff_determination: 0.3388 - val_loss: 5243065484.6988 - val_root_mean_squared_error: 76600.3125 - val_mae: 41680.1445 - val_coeff_determination: 0.2373\n",
      "Epoch 00012: early stopping\n"
     ]
    }
   ],
   "source": [
    "history1=model1.fit(X_t_ss,y_t,epochs=50,batch_size=50,validation_split=.2,callbacks=callbacks_list)"
   ]
  },
  {
   "cell_type": "code",
   "execution_count": 41,
   "metadata": {},
   "outputs": [
    {
     "name": "stdout",
     "output_type": "stream",
     "text": [
      "Train on 126208 samples, validate on 31552 samples\n",
      "Epoch 1/50\n",
      "126208/126208 [==============================] - 4s 29us/step - loss: 11228674366.0507 - root_mean_squared_error: 117594.2188 - mae: 64472.8906 - coeff_determination: -0.3800 - val_loss: 7471453299.2779 - val_root_mean_squared_error: 104004.1797 - val_mae: 53942.4414 - val_coeff_determination: -1.1241\n",
      "Epoch 2/50\n",
      "126208/126208 [==============================] - 4s 31us/step - loss: 7323138676.8032 - root_mean_squared_error: 98219.6562 - mae: 52285.4336 - coeff_determination: 0.1593 - val_loss: 6701411662.6207 - val_root_mean_squared_error: 94597.8203 - val_mae: 49440.6211 - val_coeff_determination: -0.4628\n",
      "Epoch 3/50\n",
      "126208/126208 [==============================] - 4s 33us/step - loss: 6668943325.7302 - root_mean_squared_error: 92268.3906 - mae: 48456.4062 - coeff_determination: 0.2375 - val_loss: 6193364144.4706 - val_root_mean_squared_error: 90257.5391 - val_mae: 46460.0625 - val_coeff_determination: -0.0276\n",
      "Epoch 4/50\n",
      "126208/126208 [==============================] - 4s 28us/step - loss: 6251443059.7099 - root_mean_squared_error: 88708.1641 - mae: 46332.0781 - coeff_determination: 0.2773 - val_loss: 5862205922.0771 - val_root_mean_squared_error: 87456.2422 - val_mae: 44772.9219 - val_coeff_determination: 0.1772\n",
      "Epoch 5/50\n",
      "126208/126208 [==============================] - 3s 27us/step - loss: 5962747728.5284 - root_mean_squared_error: 86395.7734 - mae: 45039.1562 - coeff_determination: 0.3037 - val_loss: 5623789285.2353 - val_root_mean_squared_error: 85412.4688 - val_mae: 43674.5156 - val_coeff_determination: 0.2567\n",
      "Epoch 6/50\n",
      "126208/126208 [==============================] - 4s 28us/step - loss: 5755076293.0801 - root_mean_squared_error: 84570.3125 - mae: 44046.8828 - coeff_determination: 0.3194 - val_loss: 5468606574.9427 - val_root_mean_squared_error: 83826.8594 - val_mae: 43340.1367 - val_coeff_determination: 0.2806\n",
      "Epoch 7/50\n",
      "126208/126208 [==============================] - 4s 31us/step - loss: 5625323186.6734 - root_mean_squared_error: 83178.3828 - mae: 43482.1016 - coeff_determination: 0.3209 - val_loss: 5377339359.3732 - val_root_mean_squared_error: 82569.8828 - val_mae: 42644.5000 - val_coeff_determination: 0.3024\n",
      "Epoch 8/50\n",
      "126208/126208 [==============================] - 4s 28us/step - loss: 5553390019.6207 - root_mean_squared_error: 82032.1953 - mae: 43113.6953 - coeff_determination: 0.3319 - val_loss: 5333992502.1116 - val_root_mean_squared_error: 81563.6406 - val_mae: 42553.9727 - val_coeff_determination: 0.3026\n",
      "Epoch 9/50\n",
      "126208/126208 [==============================] - 4s 32us/step - loss: 5513506690.8753 - root_mean_squared_error: 81149.6719 - mae: 42939.5430 - coeff_determination: 0.3318 - val_loss: 5308171214.5061 - val_root_mean_squared_error: 80748.1406 - val_mae: 42471.2500 - val_coeff_determination: 0.2873\n",
      "Epoch 10/50\n",
      "126208/126208 [==============================] - 5s 38us/step - loss: 5489002381.9746 - root_mean_squared_error: 80407.8125 - mae: 42828.7266 - coeff_determination: 0.3344 - val_loss: 5292428859.2556 - val_root_mean_squared_error: 80076.4844 - val_mae: 42312.9609 - val_coeff_determination: 0.2925\n",
      "Epoch 11/50\n",
      "126208/126208 [==============================] - 4s 35us/step - loss: 5472126938.6349 - root_mean_squared_error: 79810.0625 - mae: 42737.0195 - coeff_determination: 0.3354 - val_loss: 5279519052.3753 - val_root_mean_squared_error: 79514.5781 - val_mae: 42146.2500 - val_coeff_determination: 0.2866\n",
      "Epoch 12/50\n",
      "126208/126208 [==============================] - 4s 31us/step - loss: 5459092628.4797 - root_mean_squared_error: 79282.7188 - mae: 42652.5508 - coeff_determination: 0.3358 - val_loss: 5272135120.8185 - val_root_mean_squared_error: 79037.2500 - val_mae: 42092.4531 - val_coeff_determination: 0.2879\n",
      "Epoch 13/50\n",
      "126208/126208 [==============================] - 3s 27us/step - loss: 5448553034.5243 - root_mean_squared_error: 78845.1328 - mae: 42577.5156 - coeff_determination: 0.3347 - val_loss: 5268146469.3124 - val_root_mean_squared_error: 78627.1172 - val_mae: 42246.1641 - val_coeff_determination: 0.2771\n",
      "Epoch 14/50\n",
      "126208/126208 [==============================] - 3s 27us/step - loss: 5439945813.6268 - root_mean_squared_error: 78451.0391 - mae: 42532.0547 - coeff_determination: 0.3397 - val_loss: 5257429500.4204 - val_root_mean_squared_error: 78270.2969 - val_mae: 41765.6758 - val_coeff_determination: 0.2896\n",
      "Epoch 15/50\n",
      "126208/126208 [==============================] - 3s 26us/step - loss: 5432083205.8083 - root_mean_squared_error: 78118.2891 - mae: 42478.7773 - coeff_determination: 0.3278 - val_loss: 5252888461.6339 - val_root_mean_squared_error: 77956.8281 - val_mae: 41721.4375 - val_coeff_determination: 0.2931\n",
      "Epoch 16/50\n",
      "126208/126208 [==============================] - 3s 26us/step - loss: 5424513365.3773 - root_mean_squared_error: 77815.8906 - mae: 42409.2227 - coeff_determination: 0.3365 - val_loss: 5253604588.0264 - val_root_mean_squared_error: 77679.1719 - val_mae: 42059.6055 - val_coeff_determination: 0.2781\n",
      "Epoch 00016: early stopping\n"
     ]
    }
   ],
   "source": [
    "history2=model2.fit(X_t_mm,y_t,epochs=50,batch_size=50,validation_split=.2,callbacks=callbacks_list)"
   ]
  },
  {
   "cell_type": "code",
   "execution_count": 42,
   "metadata": {},
   "outputs": [
    {
     "name": "stdout",
     "output_type": "stream",
     "text": [
      "dict_keys(['val_loss', 'val_root_mean_squared_error', 'val_mae', 'val_coeff_determination', 'loss', 'root_mean_squared_error', 'mae', 'coeff_determination'])\n"
     ]
    },
    {
     "data": {
      "image/png": "[encoded data removed]",
      "text/plain": [
       "<Figure size 720x720 with 1 Axes>"
      ]
     },
     "metadata": {
      "needs_background": "light"
     },
     "output_type": "display_data"
    }
   ],
   "source": [
    "#plotting loss of base model\n",
    "print(history.history.keys())\n",
    "#'Loss'\n",
    "fig, ax = plt.subplots(figsize=((10,10)))\n",
    "plt.plot(history.history['loss'])\n",
    "plt.plot(history.history['val_loss'])\n",
    "plt.title('Model Loss',fontsize=20)\n",
    "plt.ylabel('Loss(MSE)',fontsize=20)\n",
    "plt.xlabel('Epoch',fontsize=18)\n",
    "plt.tick_params(axis=\"both\",labelsize=18)\n",
    "plt.legend(['train','validation'],loc='upper left')\n",
    "# plt.savefig(\"model results\",transparent=True,bbox_inches=\"tight\",)\n",
    "plt.show();"
   ]
  },
  {
   "cell_type": "markdown",
   "metadata": {},
   "source": [
    "Look like the val data is performing better than train data so we may need to try a regularization tool to help close the gap."
   ]
  },
  {
   "cell_type": "code",
   "execution_count": 43,
   "metadata": {},
   "outputs": [
    {
     "name": "stdout",
     "output_type": "stream",
     "text": [
      "dict_keys(['val_loss', 'val_root_mean_squared_error', 'val_mae', 'val_coeff_determination', 'loss', 'root_mean_squared_error', 'mae', 'coeff_determination'])\n"
     ]
    },
    {
     "data": {
      "image/png": "[encoded data removed]",
      "text/plain": [
       "<Figure size 720x720 with 1 Axes>"
      ]
     },
     "metadata": {
      "needs_background": "light"
     },
     "output_type": "display_data"
    }
   ],
   "source": [
    "#plotting loss of Standard scalar\n",
    "print(history1.history.keys())\n",
    "#'Loss'\n",
    "fig, ax = plt.subplots(figsize=((10,10)))\n",
    "plt.plot(history1.history['loss'])\n",
    "plt.plot(history1.history['val_loss'])\n",
    "plt.title('Model Loss',fontsize=20)\n",
    "plt.ylabel('Loss(MSE)',fontsize=20)\n",
    "plt.xlabel('Epoch',fontsize=18)\n",
    "plt.tick_params(axis=\"both\",labelsize=18)\n",
    "plt.legend(['train','validation'],loc='upper left')\n",
    "# plt.savefig(\"model results\",transparent=True,bbox_inches=\"tight\",)\n",
    "plt.show();"
   ]
  },
  {
   "cell_type": "markdown",
   "metadata": {},
   "source": [
    "Now looking at the standard scalar model there is less of a gap between the train and validation set, but still  a very large mse"
   ]
  },
  {
   "cell_type": "code",
   "execution_count": 44,
   "metadata": {},
   "outputs": [
    {
     "name": "stdout",
     "output_type": "stream",
     "text": [
      "dict_keys(['val_loss', 'val_root_mean_squared_error', 'val_mae', 'val_coeff_determination', 'loss', 'root_mean_squared_error', 'mae', 'coeff_determination'])\n"
     ]
    },
    {
     "data": {
      "image/png": "[encoded data removed]",
      "text/plain": [
       "<Figure size 720x720 with 1 Axes>"
      ]
     },
     "metadata": {
      "needs_background": "light"
     },
     "output_type": "display_data"
    }
   ],
   "source": [
    "#plotting loss of Minmax Scalar\n",
    "print(history2.history.keys())\n",
    "#'Loss'\n",
    "fig, ax = plt.subplots(figsize=((10,10)))\n",
    "plt.plot(history2.history['loss'])\n",
    "plt.plot(history2.history['val_loss'])\n",
    "plt.title('Model Loss',fontsize=20)\n",
    "plt.ylabel('Loss(MSE)',fontsize=20)\n",
    "plt.xlabel('Epoch',fontsize=18)\n",
    "plt.tick_params(axis=\"both\",labelsize=18)\n",
    "plt.legend(['train','validation'],loc='upper left')\n",
    "# plt.savefig(\"model results\",transparent=True,bbox_inches=\"tight\",)\n",
    "plt.show();"
   ]
  },
  {
   "cell_type": "markdown",
   "metadata": {},
   "source": [
    "The Minmax scalar is have a similar reaction as the standard scalar where the min max between the validation and test set are close, but once again the mse is still an enormous number."
   ]
  }
 ],
 "metadata": {
  "kernelspec": {
   "display_name": "Python 3 (tens)",
   "language": "python",
   "name": "tens"
  },
  "language_info": {
   "codemirror_mode": {
    "name": "ipython",
    "version": 3
   },
   "file_extension": ".py",
   "mimetype": "text/x-python",
   "name": "python",
   "nbconvert_exporter": "python",
   "pygments_lexer": "ipython3",
   "version": "3.7.7"
  }
 },
 "nbformat": 4,
 "nbformat_minor": 4
}
