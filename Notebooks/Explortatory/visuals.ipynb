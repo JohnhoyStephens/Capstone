{
 "cells": [
  {
   "cell_type": "code",
   "execution_count": 39,
   "metadata": {},
   "outputs": [],
   "source": [
    "import matplotlib.pyplot as plt\n",
    "import seaborn as sns\n",
    "import pandas as pd\n",
    "import numpy as np"
   ]
  },
  {
   "cell_type": "code",
   "execution_count": 41,
   "metadata": {},
   "outputs": [
    {
     "ename": "FileNotFoundError",
     "evalue": "[Errno 2] File ../../Data/Imputed.csv does not exist: '../../Data/Imputed.csv'",
     "output_type": "error",
     "traceback": [
      "\u001b[1;31m---------------------------------------------------------------------------\u001b[0m",
      "\u001b[1;31mFileNotFoundError\u001b[0m                         Traceback (most recent call last)",
      "\u001b[1;32m<ipython-input-41-119781096a18>\u001b[0m in \u001b[0;36m<module>\u001b[1;34m\u001b[0m\n\u001b[1;32m----> 1\u001b[1;33m \u001b[0mdf\u001b[0m\u001b[1;33m=\u001b[0m\u001b[0mpd\u001b[0m\u001b[1;33m.\u001b[0m\u001b[0mread_csv\u001b[0m\u001b[1;33m(\u001b[0m\u001b[1;34m\"../../Data/Imputed.csv\"\u001b[0m\u001b[1;33m,\u001b[0m\u001b[0mdtype\u001b[0m\u001b[1;33m=\u001b[0m\u001b[1;33m{\u001b[0m\u001b[1;34m\"PUMA\"\u001b[0m\u001b[1;33m:\u001b[0m\u001b[1;34m\"str\"\u001b[0m\u001b[1;33m}\u001b[0m\u001b[1;33m)\u001b[0m\u001b[1;33m\u001b[0m\u001b[1;33m\u001b[0m\u001b[0m\n\u001b[0m",
      "\u001b[1;32m~\\anaconda3\\envs\\Tanzania\\lib\\site-packages\\pandas\\io\\parsers.py\u001b[0m in \u001b[0;36mparser_f\u001b[1;34m(filepath_or_buffer, sep, delimiter, header, names, index_col, usecols, squeeze, prefix, mangle_dupe_cols, dtype, engine, converters, true_values, false_values, skipinitialspace, skiprows, skipfooter, nrows, na_values, keep_default_na, na_filter, verbose, skip_blank_lines, parse_dates, infer_datetime_format, keep_date_col, date_parser, dayfirst, cache_dates, iterator, chunksize, compression, thousands, decimal, lineterminator, quotechar, quoting, doublequote, escapechar, comment, encoding, dialect, error_bad_lines, warn_bad_lines, delim_whitespace, low_memory, memory_map, float_precision)\u001b[0m\n\u001b[0;32m    674\u001b[0m         )\n\u001b[0;32m    675\u001b[0m \u001b[1;33m\u001b[0m\u001b[0m\n\u001b[1;32m--> 676\u001b[1;33m         \u001b[1;32mreturn\u001b[0m \u001b[0m_read\u001b[0m\u001b[1;33m(\u001b[0m\u001b[0mfilepath_or_buffer\u001b[0m\u001b[1;33m,\u001b[0m \u001b[0mkwds\u001b[0m\u001b[1;33m)\u001b[0m\u001b[1;33m\u001b[0m\u001b[1;33m\u001b[0m\u001b[0m\n\u001b[0m\u001b[0;32m    677\u001b[0m \u001b[1;33m\u001b[0m\u001b[0m\n\u001b[0;32m    678\u001b[0m     \u001b[0mparser_f\u001b[0m\u001b[1;33m.\u001b[0m\u001b[0m__name__\u001b[0m \u001b[1;33m=\u001b[0m \u001b[0mname\u001b[0m\u001b[1;33m\u001b[0m\u001b[1;33m\u001b[0m\u001b[0m\n",
      "\u001b[1;32m~\\anaconda3\\envs\\Tanzania\\lib\\site-packages\\pandas\\io\\parsers.py\u001b[0m in \u001b[0;36m_read\u001b[1;34m(filepath_or_buffer, kwds)\u001b[0m\n\u001b[0;32m    446\u001b[0m \u001b[1;33m\u001b[0m\u001b[0m\n\u001b[0;32m    447\u001b[0m     \u001b[1;31m# Create the parser.\u001b[0m\u001b[1;33m\u001b[0m\u001b[1;33m\u001b[0m\u001b[1;33m\u001b[0m\u001b[0m\n\u001b[1;32m--> 448\u001b[1;33m     \u001b[0mparser\u001b[0m \u001b[1;33m=\u001b[0m \u001b[0mTextFileReader\u001b[0m\u001b[1;33m(\u001b[0m\u001b[0mfp_or_buf\u001b[0m\u001b[1;33m,\u001b[0m \u001b[1;33m**\u001b[0m\u001b[0mkwds\u001b[0m\u001b[1;33m)\u001b[0m\u001b[1;33m\u001b[0m\u001b[1;33m\u001b[0m\u001b[0m\n\u001b[0m\u001b[0;32m    449\u001b[0m \u001b[1;33m\u001b[0m\u001b[0m\n\u001b[0;32m    450\u001b[0m     \u001b[1;32mif\u001b[0m \u001b[0mchunksize\u001b[0m \u001b[1;32mor\u001b[0m \u001b[0miterator\u001b[0m\u001b[1;33m:\u001b[0m\u001b[1;33m\u001b[0m\u001b[1;33m\u001b[0m\u001b[0m\n",
      "\u001b[1;32m~\\anaconda3\\envs\\Tanzania\\lib\\site-packages\\pandas\\io\\parsers.py\u001b[0m in \u001b[0;36m__init__\u001b[1;34m(self, f, engine, **kwds)\u001b[0m\n\u001b[0;32m    878\u001b[0m             \u001b[0mself\u001b[0m\u001b[1;33m.\u001b[0m\u001b[0moptions\u001b[0m\u001b[1;33m[\u001b[0m\u001b[1;34m\"has_index_names\"\u001b[0m\u001b[1;33m]\u001b[0m \u001b[1;33m=\u001b[0m \u001b[0mkwds\u001b[0m\u001b[1;33m[\u001b[0m\u001b[1;34m\"has_index_names\"\u001b[0m\u001b[1;33m]\u001b[0m\u001b[1;33m\u001b[0m\u001b[1;33m\u001b[0m\u001b[0m\n\u001b[0;32m    879\u001b[0m \u001b[1;33m\u001b[0m\u001b[0m\n\u001b[1;32m--> 880\u001b[1;33m         \u001b[0mself\u001b[0m\u001b[1;33m.\u001b[0m\u001b[0m_make_engine\u001b[0m\u001b[1;33m(\u001b[0m\u001b[0mself\u001b[0m\u001b[1;33m.\u001b[0m\u001b[0mengine\u001b[0m\u001b[1;33m)\u001b[0m\u001b[1;33m\u001b[0m\u001b[1;33m\u001b[0m\u001b[0m\n\u001b[0m\u001b[0;32m    881\u001b[0m \u001b[1;33m\u001b[0m\u001b[0m\n\u001b[0;32m    882\u001b[0m     \u001b[1;32mdef\u001b[0m \u001b[0mclose\u001b[0m\u001b[1;33m(\u001b[0m\u001b[0mself\u001b[0m\u001b[1;33m)\u001b[0m\u001b[1;33m:\u001b[0m\u001b[1;33m\u001b[0m\u001b[1;33m\u001b[0m\u001b[0m\n",
      "\u001b[1;32m~\\anaconda3\\envs\\Tanzania\\lib\\site-packages\\pandas\\io\\parsers.py\u001b[0m in \u001b[0;36m_make_engine\u001b[1;34m(self, engine)\u001b[0m\n\u001b[0;32m   1112\u001b[0m     \u001b[1;32mdef\u001b[0m \u001b[0m_make_engine\u001b[0m\u001b[1;33m(\u001b[0m\u001b[0mself\u001b[0m\u001b[1;33m,\u001b[0m \u001b[0mengine\u001b[0m\u001b[1;33m=\u001b[0m\u001b[1;34m\"c\"\u001b[0m\u001b[1;33m)\u001b[0m\u001b[1;33m:\u001b[0m\u001b[1;33m\u001b[0m\u001b[1;33m\u001b[0m\u001b[0m\n\u001b[0;32m   1113\u001b[0m         \u001b[1;32mif\u001b[0m \u001b[0mengine\u001b[0m \u001b[1;33m==\u001b[0m \u001b[1;34m\"c\"\u001b[0m\u001b[1;33m:\u001b[0m\u001b[1;33m\u001b[0m\u001b[1;33m\u001b[0m\u001b[0m\n\u001b[1;32m-> 1114\u001b[1;33m             \u001b[0mself\u001b[0m\u001b[1;33m.\u001b[0m\u001b[0m_engine\u001b[0m \u001b[1;33m=\u001b[0m \u001b[0mCParserWrapper\u001b[0m\u001b[1;33m(\u001b[0m\u001b[0mself\u001b[0m\u001b[1;33m.\u001b[0m\u001b[0mf\u001b[0m\u001b[1;33m,\u001b[0m \u001b[1;33m**\u001b[0m\u001b[0mself\u001b[0m\u001b[1;33m.\u001b[0m\u001b[0moptions\u001b[0m\u001b[1;33m)\u001b[0m\u001b[1;33m\u001b[0m\u001b[1;33m\u001b[0m\u001b[0m\n\u001b[0m\u001b[0;32m   1115\u001b[0m         \u001b[1;32melse\u001b[0m\u001b[1;33m:\u001b[0m\u001b[1;33m\u001b[0m\u001b[1;33m\u001b[0m\u001b[0m\n\u001b[0;32m   1116\u001b[0m             \u001b[1;32mif\u001b[0m \u001b[0mengine\u001b[0m \u001b[1;33m==\u001b[0m \u001b[1;34m\"python\"\u001b[0m\u001b[1;33m:\u001b[0m\u001b[1;33m\u001b[0m\u001b[1;33m\u001b[0m\u001b[0m\n",
      "\u001b[1;32m~\\anaconda3\\envs\\Tanzania\\lib\\site-packages\\pandas\\io\\parsers.py\u001b[0m in \u001b[0;36m__init__\u001b[1;34m(self, src, **kwds)\u001b[0m\n\u001b[0;32m   1889\u001b[0m         \u001b[0mkwds\u001b[0m\u001b[1;33m[\u001b[0m\u001b[1;34m\"usecols\"\u001b[0m\u001b[1;33m]\u001b[0m \u001b[1;33m=\u001b[0m \u001b[0mself\u001b[0m\u001b[1;33m.\u001b[0m\u001b[0musecols\u001b[0m\u001b[1;33m\u001b[0m\u001b[1;33m\u001b[0m\u001b[0m\n\u001b[0;32m   1890\u001b[0m \u001b[1;33m\u001b[0m\u001b[0m\n\u001b[1;32m-> 1891\u001b[1;33m         \u001b[0mself\u001b[0m\u001b[1;33m.\u001b[0m\u001b[0m_reader\u001b[0m \u001b[1;33m=\u001b[0m \u001b[0mparsers\u001b[0m\u001b[1;33m.\u001b[0m\u001b[0mTextReader\u001b[0m\u001b[1;33m(\u001b[0m\u001b[0msrc\u001b[0m\u001b[1;33m,\u001b[0m \u001b[1;33m**\u001b[0m\u001b[0mkwds\u001b[0m\u001b[1;33m)\u001b[0m\u001b[1;33m\u001b[0m\u001b[1;33m\u001b[0m\u001b[0m\n\u001b[0m\u001b[0;32m   1892\u001b[0m         \u001b[0mself\u001b[0m\u001b[1;33m.\u001b[0m\u001b[0munnamed_cols\u001b[0m \u001b[1;33m=\u001b[0m \u001b[0mself\u001b[0m\u001b[1;33m.\u001b[0m\u001b[0m_reader\u001b[0m\u001b[1;33m.\u001b[0m\u001b[0munnamed_cols\u001b[0m\u001b[1;33m\u001b[0m\u001b[1;33m\u001b[0m\u001b[0m\n\u001b[0;32m   1893\u001b[0m \u001b[1;33m\u001b[0m\u001b[0m\n",
      "\u001b[1;32mpandas\\_libs\\parsers.pyx\u001b[0m in \u001b[0;36mpandas._libs.parsers.TextReader.__cinit__\u001b[1;34m()\u001b[0m\n",
      "\u001b[1;32mpandas\\_libs\\parsers.pyx\u001b[0m in \u001b[0;36mpandas._libs.parsers.TextReader._setup_parser_source\u001b[1;34m()\u001b[0m\n",
      "\u001b[1;31mFileNotFoundError\u001b[0m: [Errno 2] File ../../Data/Imputed.csv does not exist: '../../Data/Imputed.csv'"
     ]
    }
   ],
   "source": [
    "df=pd.read_csv(\"../../Data/Imputed.csv\",dtype={\"PUMA\":\"str\"})"
   ]
  },
  {
   "cell_type": "code",
   "execution_count": null,
   "metadata": {},
   "outputs": [],
   "source": []
  },
  {
   "cell_type": "code",
   "execution_count": 21,
   "metadata": {},
   "outputs": [
    {
     "name": "stdout",
     "output_type": "stream",
     "text": [
      "<class 'pandas.core.frame.DataFrame'>\n",
      "RangeIndex: 246502 entries, 0 to 246501\n",
      "Data columns (total 48 columns):\n",
      " #   Column      Non-Null Count   Dtype  \n",
      "---  ------      --------------   -----  \n",
      " 0   HINCP_x     246502 non-null  float64\n",
      " 1   SMOCP       246502 non-null  float64\n",
      " 2   NP          246502 non-null  int64  \n",
      " 3   BDSP        246502 non-null  float64\n",
      " 4   INSP        246502 non-null  float64\n",
      " 5   RMSP        246502 non-null  float64\n",
      " 6   VALP        246502 non-null  float64\n",
      " 7   TAXAMT      246502 non-null  float64\n",
      " 8   ACR_<1.0>   246502 non-null  float64\n",
      " 9   ACR_<2.0>   246502 non-null  float64\n",
      " 10  ACR_<3.0>   246502 non-null  float64\n",
      " 11  BUS_<1.0>   246502 non-null  float64\n",
      " 12  BUS_<2.0>   246502 non-null  float64\n",
      " 13  BUS_<9.0>   246502 non-null  float64\n",
      " 14  FS_<1.0>    246502 non-null  float64\n",
      " 15  FS_<2.0>    246502 non-null  float64\n",
      " 16  TOIL_<1.0>  246502 non-null  float64\n",
      " 17  TOIL_<2.0>  246502 non-null  float64\n",
      " 18  TOIL_<9.0>  246502 non-null  float64\n",
      " 19  VEH_<0.0>   246502 non-null  float64\n",
      " 20  VEH_<1.0>   246502 non-null  float64\n",
      " 21  VEH_<2.0>   246502 non-null  float64\n",
      " 22  VEH_<3.0>   246502 non-null  float64\n",
      " 23  VEH_<4.0>   246502 non-null  float64\n",
      " 24  VEH_<5.0>   246502 non-null  float64\n",
      " 25  VEH_<6.0>   246502 non-null  float64\n",
      " 26  YBL_<1.0>   246502 non-null  float64\n",
      " 27  YBL_<2.0>   246502 non-null  float64\n",
      " 28  YBL_<3.0>   246502 non-null  float64\n",
      " 29  YBL_<4.0>   246502 non-null  float64\n",
      " 30  YBL_<5.0>   246502 non-null  float64\n",
      " 31  YBL_<6.0>   246502 non-null  float64\n",
      " 32  YBL_<7.0>   246502 non-null  float64\n",
      " 33  YBL_<8.0>   246502 non-null  float64\n",
      " 34  YBL_<9.0>   246502 non-null  float64\n",
      " 35  YBL_<10.0>  246502 non-null  float64\n",
      " 36  YBL_<11.0>  246502 non-null  float64\n",
      " 37  YBL_<12.0>  246502 non-null  float64\n",
      " 38  YBL_<13.0>  246502 non-null  float64\n",
      " 39  YBL_<14.0>  246502 non-null  float64\n",
      " 40  YBL_<15.0>  246502 non-null  float64\n",
      " 41  YBL_<16.0>  246502 non-null  float64\n",
      " 42  YBL_<17.0>  246502 non-null  float64\n",
      " 43  YBL_<18.0>  246502 non-null  float64\n",
      " 44  YBL_<19.0>  246502 non-null  float64\n",
      " 45  YBL_<20.0>  246502 non-null  float64\n",
      " 46  YBL_<21.0>  246502 non-null  float64\n",
      " 47  YBL_<22.0>  246502 non-null  float64\n",
      "dtypes: float64(47), int64(1)\n",
      "memory usage: 90.3 MB\n"
     ]
    }
   ],
   "source": [
    "df.info()"
   ]
  },
  {
   "cell_type": "code",
   "execution_count": 4,
   "metadata": {},
   "outputs": [],
   "source": [
    "income_bin_freq=pd.DataFrame([\n",
    "    {\"bin_name\":\"Poverty\",\"count\":sum(df[\"HINCP_x\"]<48500)},\n",
    "    {\"bin_name\":\"Middleclass\",\"count\":sum((df[\"HINCP_x\"] >= 48500) & (df[\"HINCP_x\"] <= 145000))},\n",
    "    {\"bin_name\":\"Upper Class\",\"count\":sum(df[\"HINCP_x\"] > 145500)}\n",
    "   \n",
    "])"
   ]
  },
  {
   "cell_type": "code",
   "execution_count": 5,
   "metadata": {},
   "outputs": [
    {
     "data": {
      "text/plain": [
       "0         False\n",
       "1         False\n",
       "2         False\n",
       "3         False\n",
       "4         False\n",
       "          ...  \n",
       "246497    False\n",
       "246498    False\n",
       "246499    False\n",
       "246500    False\n",
       "246501    False\n",
       "Name: HINCP_x, Length: 246502, dtype: bool"
      ]
     },
     "execution_count": 5,
     "metadata": {},
     "output_type": "execute_result"
    }
   ],
   "source": [
    "df[\"HINCP_x\"]<25624"
   ]
  },
  {
   "cell_type": "code",
   "execution_count": 6,
   "metadata": {},
   "outputs": [
    {
     "data": {
      "text/html": [
       "<div>\n",
       "<style scoped>\n",
       "    .dataframe tbody tr th:only-of-type {\n",
       "        vertical-align: middle;\n",
       "    }\n",
       "\n",
       "    .dataframe tbody tr th {\n",
       "        vertical-align: top;\n",
       "    }\n",
       "\n",
       "    .dataframe thead th {\n",
       "        text-align: right;\n",
       "    }\n",
       "</style>\n",
       "<table border=\"1\" class=\"dataframe\">\n",
       "  <thead>\n",
       "    <tr style=\"text-align: right;\">\n",
       "      <th></th>\n",
       "      <th>bin_name</th>\n",
       "      <th>count</th>\n",
       "    </tr>\n",
       "  </thead>\n",
       "  <tbody>\n",
       "    <tr>\n",
       "      <th>0</th>\n",
       "      <td>Poverty</td>\n",
       "      <td>96027</td>\n",
       "    </tr>\n",
       "    <tr>\n",
       "      <th>1</th>\n",
       "      <td>Middleclass</td>\n",
       "      <td>114759</td>\n",
       "    </tr>\n",
       "    <tr>\n",
       "      <th>2</th>\n",
       "      <td>Upper Class</td>\n",
       "      <td>35563</td>\n",
       "    </tr>\n",
       "  </tbody>\n",
       "</table>\n",
       "</div>"
      ],
      "text/plain": [
       "      bin_name   count\n",
       "0      Poverty   96027\n",
       "1  Middleclass  114759\n",
       "2  Upper Class   35563"
      ]
     },
     "execution_count": 6,
     "metadata": {},
     "output_type": "execute_result"
    }
   ],
   "source": [
    "income_bin_freq"
   ]
  },
  {
   "cell_type": "code",
   "execution_count": 18,
   "metadata": {},
   "outputs": [
    {
     "ename": "FileNotFoundError",
     "evalue": "[Errno 2] No such file or directory: '../../../Reports/Figures/Income plot.png'",
     "output_type": "error",
     "traceback": [
      "\u001b[1;31m---------------------------------------------------------------------------\u001b[0m",
      "\u001b[1;31mFileNotFoundError\u001b[0m                         Traceback (most recent call last)",
      "\u001b[1;32m<ipython-input-18-f9f707912e7c>\u001b[0m in \u001b[0;36m<module>\u001b[1;34m\u001b[0m\n\u001b[0;32m      6\u001b[0m \u001b[0mplt\u001b[0m\u001b[1;33m.\u001b[0m\u001b[0mtitle\u001b[0m\u001b[1;33m(\u001b[0m\u001b[1;34m\"Amount of Indivduals per Income Class\"\u001b[0m\u001b[1;33m,\u001b[0m\u001b[0mfontsize\u001b[0m\u001b[1;33m=\u001b[0m\u001b[1;36m18\u001b[0m\u001b[1;33m)\u001b[0m\u001b[1;33m\u001b[0m\u001b[1;33m\u001b[0m\u001b[0m\n\u001b[0;32m      7\u001b[0m \u001b[1;31m# plt.legend()\u001b[0m\u001b[1;33m\u001b[0m\u001b[1;33m\u001b[0m\u001b[1;33m\u001b[0m\u001b[0m\n\u001b[1;32m----> 8\u001b[1;33m \u001b[0mplt\u001b[0m\u001b[1;33m.\u001b[0m\u001b[0msavefig\u001b[0m\u001b[1;33m(\u001b[0m\u001b[1;34m\"../../../Reports/Figures/Income plot\"\u001b[0m\u001b[1;33m,\u001b[0m\u001b[0mtransparent\u001b[0m\u001b[1;33m=\u001b[0m\u001b[1;32mTrue\u001b[0m\u001b[1;33m,\u001b[0m\u001b[0mbbox_inches\u001b[0m\u001b[1;33m=\u001b[0m\u001b[1;34m\"tight\"\u001b[0m\u001b[1;33m,\u001b[0m \u001b[0mpad_inches\u001b[0m\u001b[1;33m=\u001b[0m\u001b[1;36m.2\u001b[0m\u001b[1;33m)\u001b[0m\u001b[1;33m\u001b[0m\u001b[1;33m\u001b[0m\u001b[0m\n\u001b[0m",
      "\u001b[1;32m~\\anaconda3\\envs\\Tanzania\\lib\\site-packages\\matplotlib\\pyplot.py\u001b[0m in \u001b[0;36msavefig\u001b[1;34m(*args, **kwargs)\u001b[0m\n\u001b[0;32m    721\u001b[0m \u001b[1;32mdef\u001b[0m \u001b[0msavefig\u001b[0m\u001b[1;33m(\u001b[0m\u001b[1;33m*\u001b[0m\u001b[0margs\u001b[0m\u001b[1;33m,\u001b[0m \u001b[1;33m**\u001b[0m\u001b[0mkwargs\u001b[0m\u001b[1;33m)\u001b[0m\u001b[1;33m:\u001b[0m\u001b[1;33m\u001b[0m\u001b[1;33m\u001b[0m\u001b[0m\n\u001b[0;32m    722\u001b[0m     \u001b[0mfig\u001b[0m \u001b[1;33m=\u001b[0m \u001b[0mgcf\u001b[0m\u001b[1;33m(\u001b[0m\u001b[1;33m)\u001b[0m\u001b[1;33m\u001b[0m\u001b[1;33m\u001b[0m\u001b[0m\n\u001b[1;32m--> 723\u001b[1;33m     \u001b[0mres\u001b[0m \u001b[1;33m=\u001b[0m \u001b[0mfig\u001b[0m\u001b[1;33m.\u001b[0m\u001b[0msavefig\u001b[0m\u001b[1;33m(\u001b[0m\u001b[1;33m*\u001b[0m\u001b[0margs\u001b[0m\u001b[1;33m,\u001b[0m \u001b[1;33m**\u001b[0m\u001b[0mkwargs\u001b[0m\u001b[1;33m)\u001b[0m\u001b[1;33m\u001b[0m\u001b[1;33m\u001b[0m\u001b[0m\n\u001b[0m\u001b[0;32m    724\u001b[0m     \u001b[0mfig\u001b[0m\u001b[1;33m.\u001b[0m\u001b[0mcanvas\u001b[0m\u001b[1;33m.\u001b[0m\u001b[0mdraw_idle\u001b[0m\u001b[1;33m(\u001b[0m\u001b[1;33m)\u001b[0m   \u001b[1;31m# need this if 'transparent=True' to reset colors\u001b[0m\u001b[1;33m\u001b[0m\u001b[1;33m\u001b[0m\u001b[0m\n\u001b[0;32m    725\u001b[0m     \u001b[1;32mreturn\u001b[0m \u001b[0mres\u001b[0m\u001b[1;33m\u001b[0m\u001b[1;33m\u001b[0m\u001b[0m\n",
      "\u001b[1;32m~\\anaconda3\\envs\\Tanzania\\lib\\site-packages\\matplotlib\\figure.py\u001b[0m in \u001b[0;36msavefig\u001b[1;34m(self, fname, transparent, **kwargs)\u001b[0m\n\u001b[0;32m   2201\u001b[0m             \u001b[0mself\u001b[0m\u001b[1;33m.\u001b[0m\u001b[0mpatch\u001b[0m\u001b[1;33m.\u001b[0m\u001b[0mset_visible\u001b[0m\u001b[1;33m(\u001b[0m\u001b[0mframeon\u001b[0m\u001b[1;33m)\u001b[0m\u001b[1;33m\u001b[0m\u001b[1;33m\u001b[0m\u001b[0m\n\u001b[0;32m   2202\u001b[0m \u001b[1;33m\u001b[0m\u001b[0m\n\u001b[1;32m-> 2203\u001b[1;33m         \u001b[0mself\u001b[0m\u001b[1;33m.\u001b[0m\u001b[0mcanvas\u001b[0m\u001b[1;33m.\u001b[0m\u001b[0mprint_figure\u001b[0m\u001b[1;33m(\u001b[0m\u001b[0mfname\u001b[0m\u001b[1;33m,\u001b[0m \u001b[1;33m**\u001b[0m\u001b[0mkwargs\u001b[0m\u001b[1;33m)\u001b[0m\u001b[1;33m\u001b[0m\u001b[1;33m\u001b[0m\u001b[0m\n\u001b[0m\u001b[0;32m   2204\u001b[0m \u001b[1;33m\u001b[0m\u001b[0m\n\u001b[0;32m   2205\u001b[0m         \u001b[1;32mif\u001b[0m \u001b[0mframeon\u001b[0m\u001b[1;33m:\u001b[0m\u001b[1;33m\u001b[0m\u001b[1;33m\u001b[0m\u001b[0m\n",
      "\u001b[1;32m~\\anaconda3\\envs\\Tanzania\\lib\\site-packages\\matplotlib\\backend_bases.py\u001b[0m in \u001b[0;36mprint_figure\u001b[1;34m(self, filename, dpi, facecolor, edgecolor, orientation, format, bbox_inches, **kwargs)\u001b[0m\n\u001b[0;32m   2117\u001b[0m \u001b[1;33m\u001b[0m\u001b[0m\n\u001b[0;32m   2118\u001b[0m             \u001b[1;32mtry\u001b[0m\u001b[1;33m:\u001b[0m\u001b[1;33m\u001b[0m\u001b[1;33m\u001b[0m\u001b[0m\n\u001b[1;32m-> 2119\u001b[1;33m                 result = print_method(\n\u001b[0m\u001b[0;32m   2120\u001b[0m                     \u001b[0mfilename\u001b[0m\u001b[1;33m,\u001b[0m\u001b[1;33m\u001b[0m\u001b[1;33m\u001b[0m\u001b[0m\n\u001b[0;32m   2121\u001b[0m                     \u001b[0mdpi\u001b[0m\u001b[1;33m=\u001b[0m\u001b[0mdpi\u001b[0m\u001b[1;33m,\u001b[0m\u001b[1;33m\u001b[0m\u001b[1;33m\u001b[0m\u001b[0m\n",
      "\u001b[1;32m~\\anaconda3\\envs\\Tanzania\\lib\\site-packages\\matplotlib\\backends\\backend_agg.py\u001b[0m in \u001b[0;36mprint_png\u001b[1;34m(self, filename_or_obj, metadata, pil_kwargs, *args, **kwargs)\u001b[0m\n\u001b[0;32m    533\u001b[0m         \u001b[1;32melse\u001b[0m\u001b[1;33m:\u001b[0m\u001b[1;33m\u001b[0m\u001b[1;33m\u001b[0m\u001b[0m\n\u001b[0;32m    534\u001b[0m             \u001b[0mrenderer\u001b[0m \u001b[1;33m=\u001b[0m \u001b[0mself\u001b[0m\u001b[1;33m.\u001b[0m\u001b[0mget_renderer\u001b[0m\u001b[1;33m(\u001b[0m\u001b[1;33m)\u001b[0m\u001b[1;33m\u001b[0m\u001b[1;33m\u001b[0m\u001b[0m\n\u001b[1;32m--> 535\u001b[1;33m             \u001b[1;32mwith\u001b[0m \u001b[0mcbook\u001b[0m\u001b[1;33m.\u001b[0m\u001b[0mopen_file_cm\u001b[0m\u001b[1;33m(\u001b[0m\u001b[0mfilename_or_obj\u001b[0m\u001b[1;33m,\u001b[0m \u001b[1;34m\"wb\"\u001b[0m\u001b[1;33m)\u001b[0m \u001b[1;32mas\u001b[0m \u001b[0mfh\u001b[0m\u001b[1;33m:\u001b[0m\u001b[1;33m\u001b[0m\u001b[1;33m\u001b[0m\u001b[0m\n\u001b[0m\u001b[0;32m    536\u001b[0m                 _png.write_png(renderer._renderer, fh, self.figure.dpi,\n\u001b[0;32m    537\u001b[0m                                metadata={**default_metadata, **metadata})\n",
      "\u001b[1;32m~\\anaconda3\\envs\\Tanzania\\lib\\contextlib.py\u001b[0m in \u001b[0;36m__enter__\u001b[1;34m(self)\u001b[0m\n\u001b[0;32m    111\u001b[0m         \u001b[1;32mdel\u001b[0m \u001b[0mself\u001b[0m\u001b[1;33m.\u001b[0m\u001b[0margs\u001b[0m\u001b[1;33m,\u001b[0m \u001b[0mself\u001b[0m\u001b[1;33m.\u001b[0m\u001b[0mkwds\u001b[0m\u001b[1;33m,\u001b[0m \u001b[0mself\u001b[0m\u001b[1;33m.\u001b[0m\u001b[0mfunc\u001b[0m\u001b[1;33m\u001b[0m\u001b[1;33m\u001b[0m\u001b[0m\n\u001b[0;32m    112\u001b[0m         \u001b[1;32mtry\u001b[0m\u001b[1;33m:\u001b[0m\u001b[1;33m\u001b[0m\u001b[1;33m\u001b[0m\u001b[0m\n\u001b[1;32m--> 113\u001b[1;33m             \u001b[1;32mreturn\u001b[0m \u001b[0mnext\u001b[0m\u001b[1;33m(\u001b[0m\u001b[0mself\u001b[0m\u001b[1;33m.\u001b[0m\u001b[0mgen\u001b[0m\u001b[1;33m)\u001b[0m\u001b[1;33m\u001b[0m\u001b[1;33m\u001b[0m\u001b[0m\n\u001b[0m\u001b[0;32m    114\u001b[0m         \u001b[1;32mexcept\u001b[0m \u001b[0mStopIteration\u001b[0m\u001b[1;33m:\u001b[0m\u001b[1;33m\u001b[0m\u001b[1;33m\u001b[0m\u001b[0m\n\u001b[0;32m    115\u001b[0m             \u001b[1;32mraise\u001b[0m \u001b[0mRuntimeError\u001b[0m\u001b[1;33m(\u001b[0m\u001b[1;34m\"generator didn't yield\"\u001b[0m\u001b[1;33m)\u001b[0m \u001b[1;32mfrom\u001b[0m \u001b[1;32mNone\u001b[0m\u001b[1;33m\u001b[0m\u001b[1;33m\u001b[0m\u001b[0m\n",
      "\u001b[1;32m~\\anaconda3\\envs\\Tanzania\\lib\\site-packages\\matplotlib\\cbook\\__init__.py\u001b[0m in \u001b[0;36mopen_file_cm\u001b[1;34m(path_or_file, mode, encoding)\u001b[0m\n\u001b[0;32m    416\u001b[0m \u001b[1;32mdef\u001b[0m \u001b[0mopen_file_cm\u001b[0m\u001b[1;33m(\u001b[0m\u001b[0mpath_or_file\u001b[0m\u001b[1;33m,\u001b[0m \u001b[0mmode\u001b[0m\u001b[1;33m=\u001b[0m\u001b[1;34m\"r\"\u001b[0m\u001b[1;33m,\u001b[0m \u001b[0mencoding\u001b[0m\u001b[1;33m=\u001b[0m\u001b[1;32mNone\u001b[0m\u001b[1;33m)\u001b[0m\u001b[1;33m:\u001b[0m\u001b[1;33m\u001b[0m\u001b[1;33m\u001b[0m\u001b[0m\n\u001b[0;32m    417\u001b[0m     \u001b[1;34mr\"\"\"Pass through file objects and context-manage `.PathLike`\\s.\"\"\"\u001b[0m\u001b[1;33m\u001b[0m\u001b[1;33m\u001b[0m\u001b[0m\n\u001b[1;32m--> 418\u001b[1;33m     \u001b[0mfh\u001b[0m\u001b[1;33m,\u001b[0m \u001b[0mopened\u001b[0m \u001b[1;33m=\u001b[0m \u001b[0mto_filehandle\u001b[0m\u001b[1;33m(\u001b[0m\u001b[0mpath_or_file\u001b[0m\u001b[1;33m,\u001b[0m \u001b[0mmode\u001b[0m\u001b[1;33m,\u001b[0m \u001b[1;32mTrue\u001b[0m\u001b[1;33m,\u001b[0m \u001b[0mencoding\u001b[0m\u001b[1;33m)\u001b[0m\u001b[1;33m\u001b[0m\u001b[1;33m\u001b[0m\u001b[0m\n\u001b[0m\u001b[0;32m    419\u001b[0m     \u001b[1;32mif\u001b[0m \u001b[0mopened\u001b[0m\u001b[1;33m:\u001b[0m\u001b[1;33m\u001b[0m\u001b[1;33m\u001b[0m\u001b[0m\n\u001b[0;32m    420\u001b[0m         \u001b[1;32mwith\u001b[0m \u001b[0mfh\u001b[0m\u001b[1;33m:\u001b[0m\u001b[1;33m\u001b[0m\u001b[1;33m\u001b[0m\u001b[0m\n",
      "\u001b[1;32m~\\anaconda3\\envs\\Tanzania\\lib\\site-packages\\matplotlib\\cbook\\__init__.py\u001b[0m in \u001b[0;36mto_filehandle\u001b[1;34m(fname, flag, return_opened, encoding)\u001b[0m\n\u001b[0;32m    401\u001b[0m             \u001b[0mfh\u001b[0m \u001b[1;33m=\u001b[0m \u001b[0mbz2\u001b[0m\u001b[1;33m.\u001b[0m\u001b[0mBZ2File\u001b[0m\u001b[1;33m(\u001b[0m\u001b[0mfname\u001b[0m\u001b[1;33m,\u001b[0m \u001b[0mflag\u001b[0m\u001b[1;33m)\u001b[0m\u001b[1;33m\u001b[0m\u001b[1;33m\u001b[0m\u001b[0m\n\u001b[0;32m    402\u001b[0m         \u001b[1;32melse\u001b[0m\u001b[1;33m:\u001b[0m\u001b[1;33m\u001b[0m\u001b[1;33m\u001b[0m\u001b[0m\n\u001b[1;32m--> 403\u001b[1;33m             \u001b[0mfh\u001b[0m \u001b[1;33m=\u001b[0m \u001b[0mopen\u001b[0m\u001b[1;33m(\u001b[0m\u001b[0mfname\u001b[0m\u001b[1;33m,\u001b[0m \u001b[0mflag\u001b[0m\u001b[1;33m,\u001b[0m \u001b[0mencoding\u001b[0m\u001b[1;33m=\u001b[0m\u001b[0mencoding\u001b[0m\u001b[1;33m)\u001b[0m\u001b[1;33m\u001b[0m\u001b[1;33m\u001b[0m\u001b[0m\n\u001b[0m\u001b[0;32m    404\u001b[0m         \u001b[0mopened\u001b[0m \u001b[1;33m=\u001b[0m \u001b[1;32mTrue\u001b[0m\u001b[1;33m\u001b[0m\u001b[1;33m\u001b[0m\u001b[0m\n\u001b[0;32m    405\u001b[0m     \u001b[1;32melif\u001b[0m \u001b[0mhasattr\u001b[0m\u001b[1;33m(\u001b[0m\u001b[0mfname\u001b[0m\u001b[1;33m,\u001b[0m \u001b[1;34m'seek'\u001b[0m\u001b[1;33m)\u001b[0m\u001b[1;33m:\u001b[0m\u001b[1;33m\u001b[0m\u001b[1;33m\u001b[0m\u001b[0m\n",
      "\u001b[1;31mFileNotFoundError\u001b[0m: [Errno 2] No such file or directory: '../../../Reports/Figures/Income plot.png'"
     ]
    },
    {
     "data": {
      "image/png": "[encoded data removed]",
      "text/plain": [
       "<Figure size 432x432 with 1 Axes>"
      ]
     },
     "metadata": {
      "needs_background": "light"
     },
     "output_type": "display_data"
    }
   ],
   "source": [
    "fig, ax = plt.subplots(figsize=((6,6)))\n",
    "plt.bar(income_bin_freq[\"bin_name\"],income_bin_freq[\"count\"],color=[\"#03045e\",\"#81b29a\",\"#e63946\"])\n",
    "plt.xlabel(\"Income Class\",fontsize=18)\n",
    "plt.ylabel(\"Amount per Class\",fontsize=18)\n",
    "plt.tick_params(axis=\"both\",labelsize=12)\n",
    "plt.title(\"Amount of Indivduals per Income Class\",fontsize=18)\n",
    "# plt.legend()\n",
    "plt.savefig(\"../../Reports/Figures/Income plot\",transparent=True,bbox_inches=\"tight\", pad_inches=.2)\n"
   ]
  },
  {
   "cell_type": "markdown",
   "metadata": {},
   "source": [
    "From this we can see the data is not completly income with low values or in the poverty class. We do have some high values of income around 10% or so."
   ]
  },
  {
   "cell_type": "code",
   "execution_count": 9,
   "metadata": {},
   "outputs": [],
   "source": [
    "tax_bin_freq=pd.DataFrame([\n",
    "    {\"bin_name\":\"10%\",\"count\":sum(df[\"HINCP_x\"]<13600)},\n",
    "    {\"bin_name\":\"12%\",\"count\":sum((df[\"HINCP_x\"] >= 13600) & (df[\"HINCP_x\"] <= 51800))},\n",
    "    {\"bin_name\":\"22%\",\"count\":sum((df[\"HINCP_x\"] >= 51800) & (df[\"HINCP_x\"] <= 82500))},\n",
    "    {\"bin_name\":\"24%\",\"count\":sum((df[\"HINCP_x\"] >= 82500) & (df[\"HINCP_x\"] <= 157500))},\n",
    "    {\"bin_name\":\"32%\",\"count\":sum((df[\"HINCP_x\"] >= 157500) & (df[\"HINCP_x\"] <= 200000))},\n",
    "    {\"bin_name\":\"35%\",\"count\":sum((df[\"HINCP_x\"] >= 200000) & (df[\"HINCP_x\"] <= 500000))},\n",
    "    {\"bin_name\":\"37%\",\"count\":sum(df[\"HINCP_x\"] > 500000)}\n",
    "   \n",
    "])"
   ]
  },
  {
   "cell_type": "code",
   "execution_count": 11,
   "metadata": {},
   "outputs": [
    {
     "data": {
      "image/png": "[encoded data removed]",
      "text/plain": [
       "<Figure size 432x432 with 1 Axes>"
      ]
     },
     "metadata": {
      "needs_background": "light"
     },
     "output_type": "display_data"
    }
   ],
   "source": [
    "fig, ax = plt.subplots(figsize=((6,6)))\n",
    "plt.xlabel(\"Tax Bracket\",fontsize=18)\n",
    "plt.ylabel(\"Amount per Tax Bracket\",fontsize=18)\n",
    "plt.tick_params(axis=\"both\",labelsize=14)\n",
    "plt.title(\"Amount of Indivduals per Tax Bracket\",fontsize=18)\n",
    "# plt.legend()\n",
    "plt.savefig(\"Tax plot\",transparent=True)\n",
    "plt.bar(tax_bin_freq[\"bin_name\"],tax_bin_freq[\"count\"],color=[\"#03045e\",\"blue\",\"#9d0208\",\"#3d405b\",\"#370617\",\"#1a535c\",\"#1a535c\"]);\n",
    "plt.savefig(\"../../Reports/Figures/Tax plot\",transparent=True,bbox_inches=\"tight\",pad_inches=.2)\n"
   ]
  },
  {
   "cell_type": "markdown",
   "metadata": {},
   "source": [
    "Howver when you look in terms of tax brackers we can see that majorty of our daya is within  the 12% braket meaning income between ~13k to ~52k. This makes sense due to that being  a large income range most individuals would fall into."
   ]
  },
  {
   "cell_type": "code",
   "execution_count": 13,
   "metadata": {},
   "outputs": [
    {
     "ename": "ImportError",
     "evalue": "DLL load failed while importing _datadir: The specified module could not be found.",
     "output_type": "error",
     "traceback": [
      "\u001b[1;31m---------------------------------------------------------------------------\u001b[0m",
      "\u001b[1;31mImportError\u001b[0m                               Traceback (most recent call last)",
      "\u001b[1;32m<ipython-input-13-a62d01c1d62e>\u001b[0m in \u001b[0;36m<module>\u001b[1;34m\u001b[0m\n\u001b[1;32m----> 1\u001b[1;33m \u001b[1;32mimport\u001b[0m \u001b[0mgeopandas\u001b[0m \u001b[1;32mas\u001b[0m \u001b[0mgpd\u001b[0m\u001b[1;33m\u001b[0m\u001b[1;33m\u001b[0m\u001b[0m\n\u001b[0m",
      "\u001b[1;32m~\\anaconda3\\envs\\Tanzania\\lib\\site-packages\\geopandas\\__init__.py\u001b[0m in \u001b[0;36m<module>\u001b[1;34m\u001b[0m\n\u001b[1;32m----> 1\u001b[1;33m \u001b[1;32mfrom\u001b[0m \u001b[0mgeopandas\u001b[0m\u001b[1;33m.\u001b[0m\u001b[0mgeoseries\u001b[0m \u001b[1;32mimport\u001b[0m \u001b[0mGeoSeries\u001b[0m  \u001b[1;31m# noqa\u001b[0m\u001b[1;33m\u001b[0m\u001b[1;33m\u001b[0m\u001b[0m\n\u001b[0m\u001b[0;32m      2\u001b[0m \u001b[1;32mfrom\u001b[0m \u001b[0mgeopandas\u001b[0m\u001b[1;33m.\u001b[0m\u001b[0mgeodataframe\u001b[0m \u001b[1;32mimport\u001b[0m \u001b[0mGeoDataFrame\u001b[0m  \u001b[1;31m# noqa\u001b[0m\u001b[1;33m\u001b[0m\u001b[1;33m\u001b[0m\u001b[0m\n\u001b[0;32m      3\u001b[0m \u001b[1;32mfrom\u001b[0m \u001b[0mgeopandas\u001b[0m\u001b[1;33m.\u001b[0m\u001b[0marray\u001b[0m \u001b[1;32mimport\u001b[0m \u001b[0m_points_from_xy\u001b[0m \u001b[1;32mas\u001b[0m \u001b[0mpoints_from_xy\u001b[0m  \u001b[1;31m# noqa\u001b[0m\u001b[1;33m\u001b[0m\u001b[1;33m\u001b[0m\u001b[0m\n\u001b[0;32m      4\u001b[0m \u001b[1;33m\u001b[0m\u001b[0m\n\u001b[0;32m      5\u001b[0m \u001b[1;32mfrom\u001b[0m \u001b[0mgeopandas\u001b[0m\u001b[1;33m.\u001b[0m\u001b[0mio\u001b[0m\u001b[1;33m.\u001b[0m\u001b[0mfile\u001b[0m \u001b[1;32mimport\u001b[0m \u001b[0mread_file\u001b[0m  \u001b[1;31m# noqa\u001b[0m\u001b[1;33m\u001b[0m\u001b[1;33m\u001b[0m\u001b[0m\n",
      "\u001b[1;32m~\\anaconda3\\envs\\Tanzania\\lib\\site-packages\\geopandas\\geoseries.py\u001b[0m in \u001b[0;36m<module>\u001b[1;34m\u001b[0m\n\u001b[0;32m      9\u001b[0m \u001b[1;32mfrom\u001b[0m \u001b[0mpandas\u001b[0m\u001b[1;33m.\u001b[0m\u001b[0mcore\u001b[0m\u001b[1;33m.\u001b[0m\u001b[0minternals\u001b[0m \u001b[1;32mimport\u001b[0m \u001b[0mSingleBlockManager\u001b[0m\u001b[1;33m\u001b[0m\u001b[1;33m\u001b[0m\u001b[0m\n\u001b[0;32m     10\u001b[0m \u001b[1;33m\u001b[0m\u001b[0m\n\u001b[1;32m---> 11\u001b[1;33m \u001b[1;32mimport\u001b[0m \u001b[0mpyproj\u001b[0m\u001b[1;33m\u001b[0m\u001b[1;33m\u001b[0m\u001b[0m\n\u001b[0m\u001b[0;32m     12\u001b[0m \u001b[1;32mfrom\u001b[0m \u001b[0mshapely\u001b[0m\u001b[1;33m.\u001b[0m\u001b[0mgeometry\u001b[0m\u001b[1;33m.\u001b[0m\u001b[0mbase\u001b[0m \u001b[1;32mimport\u001b[0m \u001b[0mBaseGeometry\u001b[0m\u001b[1;33m\u001b[0m\u001b[1;33m\u001b[0m\u001b[0m\n\u001b[0;32m     13\u001b[0m \u001b[1;32mfrom\u001b[0m \u001b[0mshapely\u001b[0m\u001b[1;33m.\u001b[0m\u001b[0mops\u001b[0m \u001b[1;32mimport\u001b[0m \u001b[0mtransform\u001b[0m\u001b[1;33m\u001b[0m\u001b[1;33m\u001b[0m\u001b[0m\n",
      "\u001b[1;32m~\\anaconda3\\envs\\Tanzania\\lib\\site-packages\\pyproj\\__init__.py\u001b[0m in \u001b[0;36m<module>\u001b[1;34m\u001b[0m\n\u001b[0;32m     48\u001b[0m \u001b[1;32mimport\u001b[0m \u001b[0mwarnings\u001b[0m\u001b[1;33m\u001b[0m\u001b[1;33m\u001b[0m\u001b[0m\n\u001b[0;32m     49\u001b[0m \u001b[1;33m\u001b[0m\u001b[0m\n\u001b[1;32m---> 50\u001b[1;33m \u001b[1;32mfrom\u001b[0m \u001b[0mpyproj\u001b[0m \u001b[1;32mimport\u001b[0m \u001b[0m_datadir\u001b[0m\u001b[1;33m\u001b[0m\u001b[1;33m\u001b[0m\u001b[0m\n\u001b[0m\u001b[0;32m     51\u001b[0m from pyproj._list import (  # noqa: F401\n\u001b[0;32m     52\u001b[0m     \u001b[0mget_angular_units_map\u001b[0m\u001b[1;33m,\u001b[0m\u001b[1;33m\u001b[0m\u001b[1;33m\u001b[0m\u001b[0m\n",
      "\u001b[1;31mImportError\u001b[0m: DLL load failed while importing _datadir: The specified module could not be found."
     ]
    }
   ],
   "source": [
    "import geopandas as gpd"
   ]
  },
  {
   "cell_type": "code",
   "execution_count": 3,
   "metadata": {},
   "outputs": [],
   "source": [
    "il_1=gpd.read_file(\"./tl_2016_17_cousub/tl_2016_17_cousub.shp\")"
   ]
  },
  {
   "cell_type": "code",
   "execution_count": 6,
   "metadata": {},
   "outputs": [
    {
     "data": {
      "text/html": [
       "<div>\n",
       "<style scoped>\n",
       "    .dataframe tbody tr th:only-of-type {\n",
       "        vertical-align: middle;\n",
       "    }\n",
       "\n",
       "    .dataframe tbody tr th {\n",
       "        vertical-align: top;\n",
       "    }\n",
       "\n",
       "    .dataframe thead th {\n",
       "        text-align: right;\n",
       "    }\n",
       "</style>\n",
       "<table border=\"1\" class=\"dataframe\">\n",
       "  <thead>\n",
       "    <tr style=\"text-align: right;\">\n",
       "      <th></th>\n",
       "      <th>STATEFP</th>\n",
       "      <th>COUNTYFP</th>\n",
       "      <th>COUSUBFP</th>\n",
       "      <th>COUSUBNS</th>\n",
       "      <th>GEOID</th>\n",
       "      <th>NAME</th>\n",
       "      <th>NAMELSAD</th>\n",
       "      <th>LSAD</th>\n",
       "      <th>CLASSFP</th>\n",
       "      <th>MTFCC</th>\n",
       "      <th>CNECTAFP</th>\n",
       "      <th>NECTAFP</th>\n",
       "      <th>NCTADVFP</th>\n",
       "      <th>FUNCSTAT</th>\n",
       "      <th>ALAND</th>\n",
       "      <th>AWATER</th>\n",
       "      <th>INTPTLAT</th>\n",
       "      <th>INTPTLON</th>\n",
       "      <th>geometry</th>\n",
       "    </tr>\n",
       "  </thead>\n",
       "  <tbody>\n",
       "    <tr>\n",
       "      <th>0</th>\n",
       "      <td>17</td>\n",
       "      <td>173</td>\n",
       "      <td>35567</td>\n",
       "      <td>00429140</td>\n",
       "      <td>1717335567</td>\n",
       "      <td>Holland</td>\n",
       "      <td>Holland township</td>\n",
       "      <td>44</td>\n",
       "      <td>T1</td>\n",
       "      <td>G4040</td>\n",
       "      <td>None</td>\n",
       "      <td>None</td>\n",
       "      <td>None</td>\n",
       "      <td>A</td>\n",
       "      <td>69901484</td>\n",
       "      <td>0</td>\n",
       "      <td>+39.2486394</td>\n",
       "      <td>-088.7499697</td>\n",
       "      <td>POLYGON ((-88.80588 39.28134, -88.80587 39.281...</td>\n",
       "    </tr>\n",
       "    <tr>\n",
       "      <th>1</th>\n",
       "      <td>17</td>\n",
       "      <td>173</td>\n",
       "      <td>55145</td>\n",
       "      <td>00429475</td>\n",
       "      <td>1717355145</td>\n",
       "      <td>Oconee</td>\n",
       "      <td>Oconee township</td>\n",
       "      <td>44</td>\n",
       "      <td>T1</td>\n",
       "      <td>G4040</td>\n",
       "      <td>None</td>\n",
       "      <td>None</td>\n",
       "      <td>None</td>\n",
       "      <td>A</td>\n",
       "      <td>142742871</td>\n",
       "      <td>217833</td>\n",
       "      <td>+39.2781625</td>\n",
       "      <td>-089.0840426</td>\n",
       "      <td>POLYGON ((-89.14008 39.21791, -89.13967 39.231...</td>\n",
       "    </tr>\n",
       "    <tr>\n",
       "      <th>2</th>\n",
       "      <td>17</td>\n",
       "      <td>139</td>\n",
       "      <td>45083</td>\n",
       "      <td>00429288</td>\n",
       "      <td>1713945083</td>\n",
       "      <td>Lowe</td>\n",
       "      <td>Lowe township</td>\n",
       "      <td>44</td>\n",
       "      <td>T1</td>\n",
       "      <td>G4040</td>\n",
       "      <td>None</td>\n",
       "      <td>None</td>\n",
       "      <td>None</td>\n",
       "      <td>A</td>\n",
       "      <td>105167777</td>\n",
       "      <td>0</td>\n",
       "      <td>+39.7436650</td>\n",
       "      <td>-088.5299656</td>\n",
       "      <td>POLYGON ((-88.58752 39.79213, -88.58527 39.792...</td>\n",
       "    </tr>\n",
       "    <tr>\n",
       "      <th>3</th>\n",
       "      <td>17</td>\n",
       "      <td>033</td>\n",
       "      <td>43315</td>\n",
       "      <td>00429256</td>\n",
       "      <td>1703343315</td>\n",
       "      <td>Licking</td>\n",
       "      <td>Licking township</td>\n",
       "      <td>44</td>\n",
       "      <td>T1</td>\n",
       "      <td>G4040</td>\n",
       "      <td>None</td>\n",
       "      <td>None</td>\n",
       "      <td>None</td>\n",
       "      <td>A</td>\n",
       "      <td>105405190</td>\n",
       "      <td>33426</td>\n",
       "      <td>+39.1237278</td>\n",
       "      <td>-087.8944532</td>\n",
       "      <td>POLYGON ((-87.95039 39.16597, -87.95038 39.174...</td>\n",
       "    </tr>\n",
       "    <tr>\n",
       "      <th>4</th>\n",
       "      <td>17</td>\n",
       "      <td>173</td>\n",
       "      <td>06002</td>\n",
       "      <td>00428674</td>\n",
       "      <td>1717306002</td>\n",
       "      <td>Big Spring</td>\n",
       "      <td>Big Spring township</td>\n",
       "      <td>44</td>\n",
       "      <td>T1</td>\n",
       "      <td>G4040</td>\n",
       "      <td>None</td>\n",
       "      <td>None</td>\n",
       "      <td>None</td>\n",
       "      <td>A</td>\n",
       "      <td>75955831</td>\n",
       "      <td>896941</td>\n",
       "      <td>+39.3113874</td>\n",
       "      <td>-088.5246717</td>\n",
       "      <td>POLYGON ((-88.58231 39.33132, -88.58227 39.334...</td>\n",
       "    </tr>\n",
       "    <tr>\n",
       "      <th>...</th>\n",
       "      <td>...</td>\n",
       "      <td>...</td>\n",
       "      <td>...</td>\n",
       "      <td>...</td>\n",
       "      <td>...</td>\n",
       "      <td>...</td>\n",
       "      <td>...</td>\n",
       "      <td>...</td>\n",
       "      <td>...</td>\n",
       "      <td>...</td>\n",
       "      <td>...</td>\n",
       "      <td>...</td>\n",
       "      <td>...</td>\n",
       "      <td>...</td>\n",
       "      <td>...</td>\n",
       "      <td>...</td>\n",
       "      <td>...</td>\n",
       "      <td>...</td>\n",
       "      <td>...</td>\n",
       "    </tr>\n",
       "    <tr>\n",
       "      <th>1705</th>\n",
       "      <td>17</td>\n",
       "      <td>163</td>\n",
       "      <td>04858</td>\n",
       "      <td>00428652</td>\n",
       "      <td>1716304858</td>\n",
       "      <td>Belleville</td>\n",
       "      <td>Belleville township</td>\n",
       "      <td>44</td>\n",
       "      <td>T5</td>\n",
       "      <td>G4040</td>\n",
       "      <td>None</td>\n",
       "      <td>None</td>\n",
       "      <td>None</td>\n",
       "      <td>B</td>\n",
       "      <td>60174083</td>\n",
       "      <td>691205</td>\n",
       "      <td>+38.5159726</td>\n",
       "      <td>-089.9897789</td>\n",
       "      <td>MULTIPOLYGON (((-89.95696 38.52891, -89.95668 ...</td>\n",
       "    </tr>\n",
       "    <tr>\n",
       "      <th>1706</th>\n",
       "      <td>17</td>\n",
       "      <td>163</td>\n",
       "      <td>12210</td>\n",
       "      <td>00428782</td>\n",
       "      <td>1716312210</td>\n",
       "      <td>Centreville</td>\n",
       "      <td>Centreville township</td>\n",
       "      <td>44</td>\n",
       "      <td>T1</td>\n",
       "      <td>G4040</td>\n",
       "      <td>None</td>\n",
       "      <td>None</td>\n",
       "      <td>None</td>\n",
       "      <td>A</td>\n",
       "      <td>72356958</td>\n",
       "      <td>3857307</td>\n",
       "      <td>+38.5742688</td>\n",
       "      <td>-090.1488091</td>\n",
       "      <td>POLYGON ((-90.22306 38.57573, -90.22210 38.576...</td>\n",
       "    </tr>\n",
       "    <tr>\n",
       "      <th>1707</th>\n",
       "      <td>17</td>\n",
       "      <td>163</td>\n",
       "      <td>69550</td>\n",
       "      <td>00429746</td>\n",
       "      <td>1716369550</td>\n",
       "      <td>Shiloh Valley</td>\n",
       "      <td>Shiloh Valley township</td>\n",
       "      <td>44</td>\n",
       "      <td>T1</td>\n",
       "      <td>G4040</td>\n",
       "      <td>None</td>\n",
       "      <td>None</td>\n",
       "      <td>None</td>\n",
       "      <td>A</td>\n",
       "      <td>82247896</td>\n",
       "      <td>545304</td>\n",
       "      <td>+38.5290895</td>\n",
       "      <td>-089.8735855</td>\n",
       "      <td>MULTIPOLYGON (((-89.91732 38.48365, -89.91722 ...</td>\n",
       "    </tr>\n",
       "    <tr>\n",
       "      <th>1708</th>\n",
       "      <td>17</td>\n",
       "      <td>163</td>\n",
       "      <td>72988</td>\n",
       "      <td>00429803</td>\n",
       "      <td>1716372988</td>\n",
       "      <td>Stookey</td>\n",
       "      <td>Stookey township</td>\n",
       "      <td>44</td>\n",
       "      <td>T1</td>\n",
       "      <td>G4040</td>\n",
       "      <td>None</td>\n",
       "      <td>None</td>\n",
       "      <td>None</td>\n",
       "      <td>A</td>\n",
       "      <td>68884511</td>\n",
       "      <td>548833</td>\n",
       "      <td>+38.5192474</td>\n",
       "      <td>-090.0912082</td>\n",
       "      <td>MULTIPOLYGON (((-90.03727 38.55596, -90.03718 ...</td>\n",
       "    </tr>\n",
       "    <tr>\n",
       "      <th>1709</th>\n",
       "      <td>17</td>\n",
       "      <td>163</td>\n",
       "      <td>49399</td>\n",
       "      <td>00429370</td>\n",
       "      <td>1716349399</td>\n",
       "      <td>Millstadt</td>\n",
       "      <td>Millstadt township</td>\n",
       "      <td>44</td>\n",
       "      <td>T1</td>\n",
       "      <td>G4040</td>\n",
       "      <td>None</td>\n",
       "      <td>None</td>\n",
       "      <td>None</td>\n",
       "      <td>A</td>\n",
       "      <td>120919743</td>\n",
       "      <td>2704844</td>\n",
       "      <td>+38.4184378</td>\n",
       "      <td>-090.0863221</td>\n",
       "      <td>POLYGON ((-90.14562 38.42361, -90.14559 38.423...</td>\n",
       "    </tr>\n",
       "  </tbody>\n",
       "</table>\n",
       "<p>1710 rows × 19 columns</p>\n",
       "</div>"
      ],
      "text/plain": [
       "     STATEFP COUNTYFP COUSUBFP  COUSUBNS       GEOID           NAME  \\\n",
       "0         17      173    35567  00429140  1717335567        Holland   \n",
       "1         17      173    55145  00429475  1717355145         Oconee   \n",
       "2         17      139    45083  00429288  1713945083           Lowe   \n",
       "3         17      033    43315  00429256  1703343315        Licking   \n",
       "4         17      173    06002  00428674  1717306002     Big Spring   \n",
       "...      ...      ...      ...       ...         ...            ...   \n",
       "1705      17      163    04858  00428652  1716304858     Belleville   \n",
       "1706      17      163    12210  00428782  1716312210    Centreville   \n",
       "1707      17      163    69550  00429746  1716369550  Shiloh Valley   \n",
       "1708      17      163    72988  00429803  1716372988        Stookey   \n",
       "1709      17      163    49399  00429370  1716349399      Millstadt   \n",
       "\n",
       "                    NAMELSAD LSAD CLASSFP  MTFCC CNECTAFP NECTAFP NCTADVFP  \\\n",
       "0           Holland township   44      T1  G4040     None    None     None   \n",
       "1            Oconee township   44      T1  G4040     None    None     None   \n",
       "2              Lowe township   44      T1  G4040     None    None     None   \n",
       "3           Licking township   44      T1  G4040     None    None     None   \n",
       "4        Big Spring township   44      T1  G4040     None    None     None   \n",
       "...                      ...  ...     ...    ...      ...     ...      ...   \n",
       "1705     Belleville township   44      T5  G4040     None    None     None   \n",
       "1706    Centreville township   44      T1  G4040     None    None     None   \n",
       "1707  Shiloh Valley township   44      T1  G4040     None    None     None   \n",
       "1708        Stookey township   44      T1  G4040     None    None     None   \n",
       "1709      Millstadt township   44      T1  G4040     None    None     None   \n",
       "\n",
       "     FUNCSTAT      ALAND   AWATER     INTPTLAT      INTPTLON  \\\n",
       "0           A   69901484        0  +39.2486394  -088.7499697   \n",
       "1           A  142742871   217833  +39.2781625  -089.0840426   \n",
       "2           A  105167777        0  +39.7436650  -088.5299656   \n",
       "3           A  105405190    33426  +39.1237278  -087.8944532   \n",
       "4           A   75955831   896941  +39.3113874  -088.5246717   \n",
       "...       ...        ...      ...          ...           ...   \n",
       "1705        B   60174083   691205  +38.5159726  -089.9897789   \n",
       "1706        A   72356958  3857307  +38.5742688  -090.1488091   \n",
       "1707        A   82247896   545304  +38.5290895  -089.8735855   \n",
       "1708        A   68884511   548833  +38.5192474  -090.0912082   \n",
       "1709        A  120919743  2704844  +38.4184378  -090.0863221   \n",
       "\n",
       "                                               geometry  \n",
       "0     POLYGON ((-88.80588 39.28134, -88.80587 39.281...  \n",
       "1     POLYGON ((-89.14008 39.21791, -89.13967 39.231...  \n",
       "2     POLYGON ((-88.58752 39.79213, -88.58527 39.792...  \n",
       "3     POLYGON ((-87.95039 39.16597, -87.95038 39.174...  \n",
       "4     POLYGON ((-88.58231 39.33132, -88.58227 39.334...  \n",
       "...                                                 ...  \n",
       "1705  MULTIPOLYGON (((-89.95696 38.52891, -89.95668 ...  \n",
       "1706  POLYGON ((-90.22306 38.57573, -90.22210 38.576...  \n",
       "1707  MULTIPOLYGON (((-89.91732 38.48365, -89.91722 ...  \n",
       "1708  MULTIPOLYGON (((-90.03727 38.55596, -90.03718 ...  \n",
       "1709  POLYGON ((-90.14562 38.42361, -90.14559 38.423...  \n",
       "\n",
       "[1710 rows x 19 columns]"
      ]
     },
     "execution_count": 6,
     "metadata": {},
     "output_type": "execute_result"
    }
   ],
   "source": [
    "il_1"
   ]
  },
  {
   "cell_type": "code",
   "execution_count": null,
   "metadata": {},
   "outputs": [],
   "source": [
    "17 00300"
   ]
  },
  {
   "cell_type": "code",
   "execution_count": 15,
   "metadata": {},
   "outputs": [
    {
     "name": "stdout",
     "output_type": "stream",
     "text": [
      "<class 'geopandas.geodataframe.GeoDataFrame'>\n",
      "RangeIndex: 1710 entries, 0 to 1709\n",
      "Data columns (total 19 columns):\n",
      " #   Column    Non-Null Count  Dtype   \n",
      "---  ------    --------------  -----   \n",
      " 0   STATEFP   1710 non-null   object  \n",
      " 1   COUNTYFP  1710 non-null   object  \n",
      " 2   COUSUBFP  1710 non-null   object  \n",
      " 3   COUSUBNS  1710 non-null   object  \n",
      " 4   GEOID     1710 non-null   object  \n",
      " 5   NAME      1710 non-null   object  \n",
      " 6   NAMELSAD  1710 non-null   object  \n",
      " 7   LSAD      1710 non-null   object  \n",
      " 8   CLASSFP   1710 non-null   object  \n",
      " 9   MTFCC     1710 non-null   object  \n",
      " 10  CNECTAFP  0 non-null      object  \n",
      " 11  NECTAFP   0 non-null      object  \n",
      " 12  NCTADVFP  0 non-null      object  \n",
      " 13  FUNCSTAT  1710 non-null   object  \n",
      " 14  ALAND     1710 non-null   int64   \n",
      " 15  AWATER    1710 non-null   int64   \n",
      " 16  INTPTLAT  1710 non-null   object  \n",
      " 17  INTPTLON  1710 non-null   object  \n",
      " 18  geometry  1710 non-null   geometry\n",
      "dtypes: geometry(1), int64(2), object(16)\n",
      "memory usage: 254.0+ KB\n"
     ]
    }
   ],
   "source": [
    "il_1.info()"
   ]
  },
  {
   "cell_type": "code",
   "execution_count": 5,
   "metadata": {},
   "outputs": [
    {
     "data": {
      "text/plain": [
       "<matplotlib.axes._subplots.AxesSubplot at 0x1b229d092e0>"
      ]
     },
     "execution_count": 5,
     "metadata": {},
     "output_type": "execute_result"
    },
    {
     "data": {
      "image/png": "[encoded data removed]",
      "text/plain": [
       "<Figure size 432x288 with 1 Axes>"
      ]
     },
     "metadata": {
      "needs_background": "light"
     },
     "output_type": "display_data"
    }
   ],
   "source": [
    "il_1.plot()"
   ]
  },
  {
   "cell_type": "code",
   "execution_count": 9,
   "metadata": {},
   "outputs": [],
   "source": [
    "num=\"17-state 17-state33-5567\""
   ]
  },
  {
   "cell_type": "code",
   "execution_count": 10,
   "metadata": {},
   "outputs": [
    {
     "data": {
      "text/plain": [
       "10"
      ]
     },
     "execution_count": 10,
     "metadata": {},
     "output_type": "execute_result"
    }
   ],
   "source": [
    "len(num)"
   ]
  },
  {
   "cell_type": "code",
   "execution_count": 11,
   "metadata": {},
   "outputs": [],
   "source": [
    "il_2=gpd.read_file(\"./tl_2018_17_puma10/tl_2018_17_puma10.shp\")"
   ]
  },
  {
   "cell_type": "code",
   "execution_count": 12,
   "metadata": {},
   "outputs": [
    {
     "data": {
      "text/html": [
       "<div>\n",
       "<style scoped>\n",
       "    .dataframe tbody tr th:only-of-type {\n",
       "        vertical-align: middle;\n",
       "    }\n",
       "\n",
       "    .dataframe tbody tr th {\n",
       "        vertical-align: top;\n",
       "    }\n",
       "\n",
       "    .dataframe thead th {\n",
       "        text-align: right;\n",
       "    }\n",
       "</style>\n",
       "<table border=\"1\" class=\"dataframe\">\n",
       "  <thead>\n",
       "    <tr style=\"text-align: right;\">\n",
       "      <th></th>\n",
       "      <th>STATEFP10</th>\n",
       "      <th>PUMACE10</th>\n",
       "      <th>GEOID10</th>\n",
       "      <th>NAMELSAD10</th>\n",
       "      <th>MTFCC10</th>\n",
       "      <th>FUNCSTAT10</th>\n",
       "      <th>ALAND10</th>\n",
       "      <th>AWATER10</th>\n",
       "      <th>INTPTLAT10</th>\n",
       "      <th>INTPTLON10</th>\n",
       "      <th>geometry</th>\n",
       "    </tr>\n",
       "  </thead>\n",
       "  <tbody>\n",
       "    <tr>\n",
       "      <th>0</th>\n",
       "      <td>17</td>\n",
       "      <td>03411</td>\n",
       "      <td>1703411</td>\n",
       "      <td>Cook County (South Central)--Worth &amp; Calumet T...</td>\n",
       "      <td>G6120</td>\n",
       "      <td>S</td>\n",
       "      <td>94129155</td>\n",
       "      <td>1576803</td>\n",
       "      <td>+41.7313634</td>\n",
       "      <td>-087.7167725</td>\n",
       "      <td>POLYGON ((-87.72144 41.73486, -87.72142 41.734...</td>\n",
       "    </tr>\n",
       "    <tr>\n",
       "      <th>1</th>\n",
       "      <td>17</td>\n",
       "      <td>03107</td>\n",
       "      <td>1703107</td>\n",
       "      <td>Will County (Northeast)--Frankfort, Homer &amp; Ne...</td>\n",
       "      <td>G6120</td>\n",
       "      <td>S</td>\n",
       "      <td>243596923</td>\n",
       "      <td>478565</td>\n",
       "      <td>+41.5528956</td>\n",
       "      <td>-087.9168232</td>\n",
       "      <td>POLYGON ((-87.86079 41.55752, -87.85730 41.557...</td>\n",
       "    </tr>\n",
       "    <tr>\n",
       "      <th>2</th>\n",
       "      <td>17</td>\n",
       "      <td>03700</td>\n",
       "      <td>1703700</td>\n",
       "      <td>Kendall &amp; Grundy Counties PUMA</td>\n",
       "      <td>G6120</td>\n",
       "      <td>S</td>\n",
       "      <td>1912412909</td>\n",
       "      <td>37262592</td>\n",
       "      <td>+41.4200983</td>\n",
       "      <td>-088.4339373</td>\n",
       "      <td>POLYGON ((-88.26810 41.72454, -88.26195 41.724...</td>\n",
       "    </tr>\n",
       "    <tr>\n",
       "      <th>3</th>\n",
       "      <td>17</td>\n",
       "      <td>02000</td>\n",
       "      <td>1702000</td>\n",
       "      <td>McLean County PUMA</td>\n",
       "      <td>G6120</td>\n",
       "      <td>S</td>\n",
       "      <td>3064559693</td>\n",
       "      <td>7853695</td>\n",
       "      <td>+40.4945594</td>\n",
       "      <td>-088.8445391</td>\n",
       "      <td>POLYGON ((-88.92933 40.75334, -88.92618 40.753...</td>\n",
       "    </tr>\n",
       "    <tr>\n",
       "      <th>4</th>\n",
       "      <td>17</td>\n",
       "      <td>01602</td>\n",
       "      <td>1701602</td>\n",
       "      <td>Menard, Logan, De Witt, Piatt, Moultrie, Shelb...</td>\n",
       "      <td>G6120</td>\n",
       "      <td>S</td>\n",
       "      <td>9254202416</td>\n",
       "      <td>88234698</td>\n",
       "      <td>+39.7699432</td>\n",
       "      <td>-089.2258108</td>\n",
       "      <td>POLYGON ((-88.49425 39.21500, -88.49929 39.215...</td>\n",
       "    </tr>\n",
       "    <tr>\n",
       "      <th>...</th>\n",
       "      <td>...</td>\n",
       "      <td>...</td>\n",
       "      <td>...</td>\n",
       "      <td>...</td>\n",
       "      <td>...</td>\n",
       "      <td>...</td>\n",
       "      <td>...</td>\n",
       "      <td>...</td>\n",
       "      <td>...</td>\n",
       "      <td>...</td>\n",
       "      <td>...</td>\n",
       "    </tr>\n",
       "    <tr>\n",
       "      <th>83</th>\n",
       "      <td>17</td>\n",
       "      <td>01104</td>\n",
       "      <td>1701104</td>\n",
       "      <td>St. Clair County (Central &amp; Northeast) PUMA</td>\n",
       "      <td>G6120</td>\n",
       "      <td>S</td>\n",
       "      <td>725829299</td>\n",
       "      <td>10181228</td>\n",
       "      <td>+38.5249488</td>\n",
       "      <td>-089.8964892</td>\n",
       "      <td>POLYGON ((-89.85468 38.39457, -89.85670 38.394...</td>\n",
       "    </tr>\n",
       "    <tr>\n",
       "      <th>84</th>\n",
       "      <td>17</td>\n",
       "      <td>02501</td>\n",
       "      <td>1702501</td>\n",
       "      <td>Knox, Stark, Bureau, Marshall &amp; Woodford Count...</td>\n",
       "      <td>G6120</td>\n",
       "      <td>S</td>\n",
       "      <td>7635933871</td>\n",
       "      <td>121173248</td>\n",
       "      <td>+41.0840453</td>\n",
       "      <td>-089.6180327</td>\n",
       "      <td>POLYGON ((-89.36926 40.74816, -89.37241 40.748...</td>\n",
       "    </tr>\n",
       "    <tr>\n",
       "      <th>85</th>\n",
       "      <td>17</td>\n",
       "      <td>02601</td>\n",
       "      <td>1702601</td>\n",
       "      <td>DeKalb County PUMA</td>\n",
       "      <td>G6120</td>\n",
       "      <td>S</td>\n",
       "      <td>1635178669</td>\n",
       "      <td>8532272</td>\n",
       "      <td>+41.8946125</td>\n",
       "      <td>-088.7689910</td>\n",
       "      <td>POLYGON ((-88.72518 42.15358, -88.71655 42.153...</td>\n",
       "    </tr>\n",
       "    <tr>\n",
       "      <th>86</th>\n",
       "      <td>17</td>\n",
       "      <td>03009</td>\n",
       "      <td>1703009</td>\n",
       "      <td>Kane County (West) PUMA</td>\n",
       "      <td>G6120</td>\n",
       "      <td>S</td>\n",
       "      <td>949347426</td>\n",
       "      <td>1852756</td>\n",
       "      <td>+41.9377236</td>\n",
       "      <td>-088.4689136</td>\n",
       "      <td>POLYGON ((-88.41589 42.15432, -88.41390 42.154...</td>\n",
       "    </tr>\n",
       "    <tr>\n",
       "      <th>87</th>\n",
       "      <td>17</td>\n",
       "      <td>03526</td>\n",
       "      <td>1703526</td>\n",
       "      <td>Chicago City (Southwest)--Brighton Park, New C...</td>\n",
       "      <td>G6120</td>\n",
       "      <td>S</td>\n",
       "      <td>36103882</td>\n",
       "      <td>184999</td>\n",
       "      <td>+41.8186679</td>\n",
       "      <td>-087.6734421</td>\n",
       "      <td>POLYGON ((-87.65016 41.84805, -87.64957 41.848...</td>\n",
       "    </tr>\n",
       "  </tbody>\n",
       "</table>\n",
       "<p>88 rows × 11 columns</p>\n",
       "</div>"
      ],
      "text/plain": [
       "   STATEFP10 PUMACE10  GEOID10  \\\n",
       "0         17    03411  1703411   \n",
       "1         17    03107  1703107   \n",
       "2         17    03700  1703700   \n",
       "3         17    02000  1702000   \n",
       "4         17    01602  1701602   \n",
       "..       ...      ...      ...   \n",
       "83        17    01104  1701104   \n",
       "84        17    02501  1702501   \n",
       "85        17    02601  1702601   \n",
       "86        17    03009  1703009   \n",
       "87        17    03526  1703526   \n",
       "\n",
       "                                           NAMELSAD10 MTFCC10 FUNCSTAT10  \\\n",
       "0   Cook County (South Central)--Worth & Calumet T...   G6120          S   \n",
       "1   Will County (Northeast)--Frankfort, Homer & Ne...   G6120          S   \n",
       "2                      Kendall & Grundy Counties PUMA   G6120          S   \n",
       "3                                  McLean County PUMA   G6120          S   \n",
       "4   Menard, Logan, De Witt, Piatt, Moultrie, Shelb...   G6120          S   \n",
       "..                                                ...     ...        ...   \n",
       "83        St. Clair County (Central & Northeast) PUMA   G6120          S   \n",
       "84  Knox, Stark, Bureau, Marshall & Woodford Count...   G6120          S   \n",
       "85                                 DeKalb County PUMA   G6120          S   \n",
       "86                            Kane County (West) PUMA   G6120          S   \n",
       "87  Chicago City (Southwest)--Brighton Park, New C...   G6120          S   \n",
       "\n",
       "       ALAND10   AWATER10   INTPTLAT10    INTPTLON10  \\\n",
       "0     94129155    1576803  +41.7313634  -087.7167725   \n",
       "1    243596923     478565  +41.5528956  -087.9168232   \n",
       "2   1912412909   37262592  +41.4200983  -088.4339373   \n",
       "3   3064559693    7853695  +40.4945594  -088.8445391   \n",
       "4   9254202416   88234698  +39.7699432  -089.2258108   \n",
       "..         ...        ...          ...           ...   \n",
       "83   725829299   10181228  +38.5249488  -089.8964892   \n",
       "84  7635933871  121173248  +41.0840453  -089.6180327   \n",
       "85  1635178669    8532272  +41.8946125  -088.7689910   \n",
       "86   949347426    1852756  +41.9377236  -088.4689136   \n",
       "87    36103882     184999  +41.8186679  -087.6734421   \n",
       "\n",
       "                                             geometry  \n",
       "0   POLYGON ((-87.72144 41.73486, -87.72142 41.734...  \n",
       "1   POLYGON ((-87.86079 41.55752, -87.85730 41.557...  \n",
       "2   POLYGON ((-88.26810 41.72454, -88.26195 41.724...  \n",
       "3   POLYGON ((-88.92933 40.75334, -88.92618 40.753...  \n",
       "4   POLYGON ((-88.49425 39.21500, -88.49929 39.215...  \n",
       "..                                                ...  \n",
       "83  POLYGON ((-89.85468 38.39457, -89.85670 38.394...  \n",
       "84  POLYGON ((-89.36926 40.74816, -89.37241 40.748...  \n",
       "85  POLYGON ((-88.72518 42.15358, -88.71655 42.153...  \n",
       "86  POLYGON ((-88.41589 42.15432, -88.41390 42.154...  \n",
       "87  POLYGON ((-87.65016 41.84805, -87.64957 41.848...  \n",
       "\n",
       "[88 rows x 11 columns]"
      ]
     },
     "execution_count": 12,
     "metadata": {},
     "output_type": "execute_result"
    }
   ],
   "source": [
    "il_2"
   ]
  },
  {
   "cell_type": "markdown",
   "metadata": {},
   "source": [
    "using this map bc it sinks up with the data from the census for the cook countrt south central"
   ]
  },
  {
   "cell_type": "code",
   "execution_count": 14,
   "metadata": {},
   "outputs": [
    {
     "name": "stdout",
     "output_type": "stream",
     "text": [
      "<class 'geopandas.geodataframe.GeoDataFrame'>\n",
      "RangeIndex: 88 entries, 0 to 87\n",
      "Data columns (total 11 columns):\n",
      " #   Column      Non-Null Count  Dtype   \n",
      "---  ------      --------------  -----   \n",
      " 0   STATEFP10   88 non-null     object  \n",
      " 1   PUMACE10    88 non-null     object  \n",
      " 2   GEOID10     88 non-null     object  \n",
      " 3   NAMELSAD10  88 non-null     object  \n",
      " 4   MTFCC10     88 non-null     object  \n",
      " 5   FUNCSTAT10  88 non-null     object  \n",
      " 6   ALAND10     88 non-null     int64   \n",
      " 7   AWATER10    88 non-null     int64   \n",
      " 8   INTPTLAT10  88 non-null     object  \n",
      " 9   INTPTLON10  88 non-null     object  \n",
      " 10  geometry    88 non-null     geometry\n",
      "dtypes: geometry(1), int64(2), object(8)\n",
      "memory usage: 7.7+ KB\n"
     ]
    }
   ],
   "source": [
    "il_2.info()"
   ]
  },
  {
   "cell_type": "code",
   "execution_count": 13,
   "metadata": {},
   "outputs": [
    {
     "data": {
      "text/plain": [
       "<matplotlib.axes._subplots.AxesSubplot at 0x1b22a0b1400>"
      ]
     },
     "execution_count": 13,
     "metadata": {},
     "output_type": "execute_result"
    },
    {
     "data": {
      "image/png": "[encoded data removed]",
      "text/plain": [
       "<Figure size 432x288 with 1 Axes>"
      ]
     },
     "metadata": {
      "needs_background": "light"
     },
     "output_type": "display_data"
    }
   ],
   "source": [
    "il_2.plot()"
   ]
  },
  {
   "cell_type": "markdown",
   "metadata": {},
   "source": [
    "Looking at some maps to make the visual for the slides."
   ]
  }
 ],
 "metadata": {
  "kernelspec": {
   "display_name": "Python 3 (Tanzania)",
   "language": "python",
   "name": "tanzania"
  },
  "language_info": {
   "codemirror_mode": {
    "name": "ipython",
    "version": 3
   },
   "file_extension": ".py",
   "mimetype": "text/x-python",
   "name": "python",
   "nbconvert_exporter": "python",
   "pygments_lexer": "ipython3",
   "version": "3.8.3"
  }
 },
 "nbformat": 4,
 "nbformat_minor": 4
}
