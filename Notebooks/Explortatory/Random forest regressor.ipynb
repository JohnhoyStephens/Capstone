{
 "cells": [
  {
   "cell_type": "markdown",
   "metadata": {},
   "source": [
    "# Random Forest Regressor-Notebook made to test the viability of Random Forest Regressor model."
   ]
  },
  {
   "cell_type": "code",
   "execution_count": 2,
   "metadata": {},
   "outputs": [],
   "source": [
    "from sklearn.ensemble import RandomForestRegressor\n",
    "import numpy as np\n",
    "import pandas as pd\n",
    "from sklearn.model_selection import train_test_split\n",
    "from sklearn.preprocessing import StandardScaler,MinMaxScaler"
   ]
  },
  {
   "cell_type": "code",
   "execution_count": 3,
   "metadata": {},
   "outputs": [],
   "source": [
    "df=pd.read_csv(\"../../Data/Imputed.csv\")"
   ]
  },
  {
   "cell_type": "code",
   "execution_count": 4,
   "metadata": {},
   "outputs": [],
   "source": [
    "X=df.drop(\"HINCP_x\",axis=1)\n",
    "y=df[\"HINCP_x\"]"
   ]
  },
  {
   "cell_type": "code",
   "execution_count": 5,
   "metadata": {},
   "outputs": [],
   "source": [
    "X_train, X_test,y_train, y_test=train_test_split(X,y,train_size=.8,random_state=2020)"
   ]
  },
  {
   "cell_type": "code",
   "execution_count": 6,
   "metadata": {},
   "outputs": [],
   "source": [
    "X_t,X_val,y_t,y_val=train_test_split(X_train,y_train,train_size=.8,random_state=2020)"
   ]
  },
  {
   "cell_type": "code",
   "execution_count": 6,
   "metadata": {},
   "outputs": [],
   "source": [
    "#instantiating our scalrs\n",
    "ss_x=StandardScaler()\n",
    "mm_x=MinMaxScaler()"
   ]
  },
  {
   "cell_type": "code",
   "execution_count": 7,
   "metadata": {},
   "outputs": [],
   "source": [
    "#fitting our standard scalar\n",
    "X_t_ss=ss_x.fit_transform(X_t)\n",
    "X_val_ss=ss_x.transform(X_val)"
   ]
  },
  {
   "cell_type": "code",
   "execution_count": 8,
   "metadata": {},
   "outputs": [],
   "source": [
    "#fitting out minmax scalar the less complex of the two scalarsX_t_mm=mm_x.fit_transform(X_t)\n",
    "X_val_mm=mm_x.transform(X_val)"
   ]
  },
  {
   "cell_type": "markdown",
   "metadata": {},
   "source": [
    "# Base"
   ]
  },
  {
   "cell_type": "code",
   "execution_count": 9,
   "metadata": {},
   "outputs": [],
   "source": [
    "rfr=RandomForestRegressor()"
   ]
  },
  {
   "cell_type": "code",
   "execution_count": 10,
   "metadata": {},
   "outputs": [
    {
     "data": {
      "text/plain": [
       "RandomForestRegressor(n_estimators=5)"
      ]
     },
     "execution_count": 10,
     "metadata": {},
     "output_type": "execute_result"
    }
   ],
   "source": [
    "rfr.fit(X_t,y_t)"
   ]
  },
  {
   "cell_type": "code",
   "execution_count": 12,
   "metadata": {},
   "outputs": [
    {
     "data": {
      "text/plain": [
       "0.8355754379714713"
      ]
     },
     "execution_count": 12,
     "metadata": {},
     "output_type": "execute_result"
    }
   ],
   "source": [
    "rfr.score(X_t,y_t)"
   ]
  },
  {
   "cell_type": "code",
   "execution_count": 13,
   "metadata": {},
   "outputs": [
    {
     "data": {
      "text/plain": [
       "0.27754024080422723"
      ]
     },
     "execution_count": 13,
     "metadata": {},
     "output_type": "execute_result"
    }
   ],
   "source": [
    "rfr.score(X_val,y_val)"
   ]
  },
  {
   "cell_type": "markdown",
   "metadata": {},
   "source": [
    "Model explaines about 39 percent of the variance of the data is explained from these models. Let's see how the model reacts with scaled data."
   ]
  },
  {
   "cell_type": "markdown",
   "metadata": {},
   "source": [
    "# Standard Scalars"
   ]
  },
  {
   "cell_type": "code",
   "execution_count": 14,
   "metadata": {},
   "outputs": [],
   "source": [
    "rfr2=RandomForestRegressor()"
   ]
  },
  {
   "cell_type": "code",
   "execution_count": null,
   "metadata": {},
   "outputs": [],
   "source": [
    "rfr2.fit(X_t_ss,y_t)"
   ]
  },
  {
   "cell_type": "code",
   "execution_count": null,
   "metadata": {},
   "outputs": [],
   "source": [
    "rfr2.score(X_t_ss,y_t)"
   ]
  },
  {
   "cell_type": "code",
   "execution_count": null,
   "metadata": {},
   "outputs": [],
   "source": [
    "rfr2.score(X_val_ss,y_val)"
   ]
  },
  {
   "cell_type": "markdown",
   "metadata": {},
   "source": [
    "# MinMax"
   ]
  },
  {
   "cell_type": "code",
   "execution_count": null,
   "metadata": {},
   "outputs": [],
   "source": [
    "rfr3=RandomForestRegressor()"
   ]
  },
  {
   "cell_type": "code",
   "execution_count": null,
   "metadata": {},
   "outputs": [],
   "source": [
    "rfr3.fit(X_t_mm,y_t)"
   ]
  },
  {
   "cell_type": "code",
   "execution_count": null,
   "metadata": {},
   "outputs": [],
   "source": [
    "rfr3.score(X_t_mm,y_t)"
   ]
  },
  {
   "cell_type": "code",
   "execution_count": null,
   "metadata": {},
   "outputs": [],
   "source": [
    "rfr3.score(X_val_mm,y_val)"
   ]
  },
  {
   "cell_type": "code",
   "execution_count": 9,
   "metadata": {},
   "outputs": [],
   "source": [
    "from sklearn.model_selection import GridSearchCV"
   ]
  },
  {
   "cell_type": "code",
   "execution_count": 7,
   "metadata": {},
   "outputs": [],
   "source": [
    "rfr4=RandomForestRegressor()"
   ]
  },
  {
   "cell_type": "code",
   "execution_count": 1,
   "metadata": {},
   "outputs": [],
   "source": [
    "base_param_grid={\"max_depth\":[2,5,10],\"n_estimators\":[5,10],\"min_samples_split\":[2,3,4,5]}"
   ]
  },
  {
   "cell_type": "code",
   "execution_count": 10,
   "metadata": {},
   "outputs": [],
   "source": [
    "gs_rfr=GridSearchCV(estimator = rfr4, param_grid=base_param_grid,cv=3)"
   ]
  },
  {
   "cell_type": "code",
   "execution_count": 11,
   "metadata": {},
   "outputs": [
    {
     "data": {
      "text/plain": [
       "GridSearchCV(cv=3, estimator=RandomForestRegressor(),\n",
       "             param_grid={'max_depth': [2, 5, 10],\n",
       "                         'min_samples_split': [2, 3, 4, 5],\n",
       "                         'n_estimators': [5, 10]})"
      ]
     },
     "execution_count": 11,
     "metadata": {},
     "output_type": "execute_result"
    }
   ],
   "source": [
    "gs_rfr.fit(X_t,y_t)"
   ]
  },
  {
   "cell_type": "code",
   "execution_count": 22,
   "metadata": {},
   "outputs": [
    {
     "data": {
      "text/plain": [
       "{'max_depth': 10, 'n_estimators': 10}"
      ]
     },
     "execution_count": 22,
     "metadata": {},
     "output_type": "execute_result"
    }
   ],
   "source": [
    "gs_rfr.best_params_"
   ]
  },
  {
   "cell_type": "code",
   "execution_count": 28,
   "metadata": {},
   "outputs": [
    {
     "data": {
      "text/plain": [
       "0.4840395860193025"
      ]
     },
     "execution_count": 28,
     "metadata": {},
     "output_type": "execute_result"
    }
   ],
   "source": [
    "gs_rfr.score(X_t,y_t)"
   ]
  },
  {
   "cell_type": "code",
   "execution_count": 27,
   "metadata": {},
   "outputs": [
    {
     "data": {
      "text/plain": [
       "0.4120184137667896"
      ]
     },
     "execution_count": 27,
     "metadata": {},
     "output_type": "execute_result"
    }
   ],
   "source": [
    "gs_rfr.score(X_val,y_val)"
   ]
  },
  {
   "cell_type": "markdown",
   "metadata": {},
   "source": []
  },
  {
   "cell_type": "code",
   "execution_count": 30,
   "metadata": {},
   "outputs": [
    {
     "data": {
      "text/plain": [
       "array([1.51633381e-01, 3.07120658e-02, 9.01275138e-02, 9.88111650e-03,\n",
       "       1.63079097e-02, 2.38053371e-02, 5.56425305e-01, 3.10278976e-02,\n",
       "       1.48909239e-03, 1.03505680e-03, 8.24676637e-04, 5.20975653e-04,\n",
       "       6.54314463e-04, 4.89827344e-04, 1.17401965e-02, 1.63545014e-02,\n",
       "       8.85461266e-04, 6.57084054e-05, 8.13017484e-04, 2.47613783e-03,\n",
       "       1.11145319e-02, 5.89696852e-03, 2.44857809e-03, 2.43935604e-03,\n",
       "       1.89920787e-03, 6.23514801e-04, 2.11964135e-03, 1.57395519e-03,\n",
       "       2.04806181e-03, 1.88362907e-03, 1.79660940e-03, 1.90227269e-03,\n",
       "       1.88769527e-03, 1.96050963e-03, 2.85827416e-03, 6.67271685e-04,\n",
       "       1.07757378e-03, 1.58409179e-03, 1.32185774e-03, 6.32655552e-04,\n",
       "       6.69926484e-04, 8.68101102e-04, 9.66912647e-04, 3.14641859e-04,\n",
       "       1.09173254e-03, 3.70430812e-04, 7.12505155e-04, 0.00000000e+00])"
      ]
     },
     "execution_count": 30,
     "metadata": {},
     "output_type": "execute_result"
    }
   ],
   "source": [
    "gs_rfr.best_estimator_.feature_importances_"
   ]
  },
  {
   "cell_type": "code",
   "execution_count": 33,
   "metadata": {},
   "outputs": [
    {
     "name": "stdout",
     "output_type": "stream",
     "text": [
      "SMOCP 0.15163338121128628\n",
      "PUMA 0.03071206580651527\n",
      "NP 0.09012751381954923\n",
      "BDSP 0.009881116498083601\n",
      "INSP 0.016307909727251928\n",
      "RMSP 0.02380533707897935\n",
      "VALP 0.5564253051260646\n",
      "TAXAMT 0.0310278975523657\n",
      "ACR_<1.0> 0.0014890923851602147\n",
      "ACR_<2.0> 0.0010350568026670547\n",
      "ACR_<3.0> 0.0008246766369706697\n",
      "BUS_<1.0> 0.0005209756527422646\n",
      "BUS_<2.0> 0.0006543144632123152\n",
      "BUS_<9.0> 0.0004898273439824369\n",
      "FS_<1.0> 0.01174019651081826\n",
      "FS_<2.0> 0.01635450143196237\n",
      "TOIL_<1.0> 0.0008854612664243221\n",
      "TOIL_<2.0> 6.57084054403593e-05\n",
      "TOIL_<9.0> 0.0008130174839837707\n",
      "VEH_<0.0> 0.002476137830684194\n",
      "VEH_<1.0> 0.011114531931887906\n",
      "VEH_<2.0> 0.005896968522612652\n",
      "VEH_<3.0> 0.002448578089715406\n",
      "VEH_<4.0> 0.002439356038332754\n",
      "VEH_<5.0> 0.0018992078685565953\n",
      "VEH_<6.0> 0.0006235148013317065\n",
      "YBL_<1.0> 0.0021196413518331336\n",
      "YBL_<2.0> 0.0015739551875196451\n",
      "YBL_<3.0> 0.0020480618071786793\n",
      "YBL_<4.0> 0.001883629071638394\n",
      "YBL_<5.0> 0.001796609396693934\n",
      "YBL_<6.0> 0.0019022726923244467\n",
      "YBL_<7.0> 0.0018876952689374827\n",
      "YBL_<8.0> 0.0019605096326451507\n",
      "YBL_<9.0> 0.0028582741608204937\n",
      "YBL_<10.0> 0.0006672716850323325\n",
      "YBL_<11.0> 0.0010775737820299255\n",
      "YBL_<12.0> 0.001584091788846282\n",
      "YBL_<13.0> 0.0013218577409702316\n",
      "YBL_<14.0> 0.0006326555516439636\n",
      "YBL_<15.0> 0.0006699264839336459\n",
      "YBL_<16.0> 0.0008681011017531857\n",
      "YBL_<17.0> 0.00096691264748406\n",
      "YBL_<18.0> 0.0003146418588408229\n",
      "YBL_<19.0> 0.001091732536346249\n",
      "YBL_<20.0> 0.000370430811954444\n",
      "YBL_<21.0> 0.0007125051549924102\n",
      "YBL_<22.0> 0.0\n"
     ]
    }
   ],
   "source": [
    "for c,f in zip(X_t.columns,gs_rfr.best_estimator_.feature_importances_):\n",
    "    print(c,f)"
   ]
  },
  {
   "cell_type": "code",
   "execution_count": 34,
   "metadata": {},
   "outputs": [
    {
     "data": {
      "text/plain": [
       "231254     401\n",
       "58450     3502\n",
       "150540    3411\n",
       "214171    3108\n",
       "53441     2000\n",
       "          ... \n",
       "171987    2901\n",
       "111335    3401\n",
       "203456     104\n",
       "33764     3525\n",
       "24083     2601\n",
       "Name: PUMA, Length: 157760, dtype: int64"
      ]
     },
     "execution_count": 34,
     "metadata": {},
     "output_type": "execute_result"
    }
   ],
   "source": [
    "X_t.PUMA"
   ]
  },
  {
   "cell_type": "markdown",
   "metadata": {},
   "source": [
    "Look at bi"
   ]
  },
  {
   "cell_type": "code",
   "execution_count": null,
   "metadata": {},
   "outputs": [],
   "source": []
  },
  {
   "cell_type": "code",
   "execution_count": null,
   "metadata": {},
   "outputs": [],
   "source": [
    "n_estimators=100,\n",
    "    *,\n",
    "    criterion='mse',\n",
    "    max_depth=None,\n",
    "    min_samples_split=2,*\n",
    "    min_samples_leaf=1,*\n",
    "    min_weight_fraction_leaf=0.0,\n",
    "    max_features='auto',\n",
    "    max_leaf_nodes=None,\n",
    "    min_impurity_decrease=0.0,\n",
    "    min_impurity_split=None,\n",
    "    bootstrap=True,\n",
    "    oob_score=False,\n",
    "    n_jobs=None,\n",
    "    random_state=None,\n",
    "    verbose=0,\n",
    "    warm_start=False,\n",
    "    ccp_alpha=0.0,\n",
    "    max_samples=None,"
   ]
  },
  {
   "cell_type": "code",
   "execution_count": null,
   "metadata": {},
   "outputs": [],
   "source": []
  },
  {
   "cell_type": "code",
   "execution_count": null,
   "metadata": {},
   "outputs": [],
   "source": []
  },
  {
   "cell_type": "raw",
   "metadata": {},
   "source": []
  }
 ],
 "metadata": {
  "kernelspec": {
   "display_name": "Python 3 (tens)",
   "language": "python",
   "name": "tens"
  },
  "language_info": {
   "codemirror_mode": {
    "name": "ipython",
    "version": 3
   },
   "file_extension": ".py",
   "mimetype": "text/x-python",
   "name": "python",
   "nbconvert_exporter": "python",
   "pygments_lexer": "ipython3",
   "version": "3.7.7"
  }
 },
 "nbformat": 4,
 "nbformat_minor": 4
}
